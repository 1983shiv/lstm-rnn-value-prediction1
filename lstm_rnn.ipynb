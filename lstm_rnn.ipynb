{
 "cells": [
  {
   "cell_type": "code",
   "execution_count": 1,
   "id": "9f45ca65-8c39-4fb5-a8ca-91e17f2029eb",
   "metadata": {},
   "outputs": [],
   "source": [
    "import pandas as pd\n",
    "import numpy as np\n",
    "import matplotlib.pyplot as plt\n",
    "%matplotlib inline"
   ]
  },
  {
   "cell_type": "code",
   "execution_count": 2,
   "id": "259f757b-8cb1-4794-bbb6-d6cfeaa994bc",
   "metadata": {},
   "outputs": [],
   "source": [
    "sbin = pd.read_csv('sbin.csv', parse_dates=True, index_col='date', dayfirst=True)\n",
    "sbin.sort_index(inplace=True)"
   ]
  },
  {
   "cell_type": "code",
   "execution_count": 3,
   "id": "1e35a0fa-6c50-4d18-9daa-7657a88fa875",
   "metadata": {},
   "outputs": [
    {
     "data": {
      "text/html": [
       "<div>\n",
       "<style scoped>\n",
       "    .dataframe tbody tr th:only-of-type {\n",
       "        vertical-align: middle;\n",
       "    }\n",
       "\n",
       "    .dataframe tbody tr th {\n",
       "        vertical-align: top;\n",
       "    }\n",
       "\n",
       "    .dataframe thead th {\n",
       "        text-align: right;\n",
       "    }\n",
       "</style>\n",
       "<table border=\"1\" class=\"dataframe\">\n",
       "  <thead>\n",
       "    <tr style=\"text-align: right;\">\n",
       "      <th></th>\n",
       "      <th>Sr</th>\n",
       "      <th>high</th>\n",
       "      <th>low</th>\n",
       "      <th>open</th>\n",
       "      <th>close</th>\n",
       "      <th>ltp</th>\n",
       "      <th>prev_ltp</th>\n",
       "      <th>traded_qty</th>\n",
       "      <th>traded_val</th>\n",
       "      <th>52_high</th>\n",
       "      <th>52_low</th>\n",
       "      <th>total_trades</th>\n",
       "      <th>timestamp</th>\n",
       "      <th>vwap</th>\n",
       "    </tr>\n",
       "    <tr>\n",
       "      <th>date</th>\n",
       "      <th></th>\n",
       "      <th></th>\n",
       "      <th></th>\n",
       "      <th></th>\n",
       "      <th></th>\n",
       "      <th></th>\n",
       "      <th></th>\n",
       "      <th></th>\n",
       "      <th></th>\n",
       "      <th></th>\n",
       "      <th></th>\n",
       "      <th></th>\n",
       "      <th></th>\n",
       "      <th></th>\n",
       "    </tr>\n",
       "  </thead>\n",
       "  <tbody>\n",
       "    <tr>\n",
       "      <th>2020-01-01</th>\n",
       "      <td>1036</td>\n",
       "      <td>335.95</td>\n",
       "      <td>332.15</td>\n",
       "      <td>334.70</td>\n",
       "      <td>334.45</td>\n",
       "      <td>335.00</td>\n",
       "      <td>333.75</td>\n",
       "      <td>17379320</td>\n",
       "      <td>5805129514</td>\n",
       "      <td>373.80</td>\n",
       "      <td>244.35</td>\n",
       "      <td>99108</td>\n",
       "      <td>2019-12-31T18:30:00.000Z</td>\n",
       "      <td>334.03</td>\n",
       "    </tr>\n",
       "    <tr>\n",
       "      <th>2020-01-02</th>\n",
       "      <td>1037</td>\n",
       "      <td>339.85</td>\n",
       "      <td>333.35</td>\n",
       "      <td>334.50</td>\n",
       "      <td>339.30</td>\n",
       "      <td>338.80</td>\n",
       "      <td>334.45</td>\n",
       "      <td>20324236</td>\n",
       "      <td>6845341476</td>\n",
       "      <td>373.80</td>\n",
       "      <td>244.35</td>\n",
       "      <td>123189</td>\n",
       "      <td>2020-01-01T18:30:00.000Z</td>\n",
       "      <td>336.81</td>\n",
       "    </tr>\n",
       "    <tr>\n",
       "      <th>2020-01-03</th>\n",
       "      <td>1038</td>\n",
       "      <td>337.95</td>\n",
       "      <td>332.00</td>\n",
       "      <td>337.95</td>\n",
       "      <td>333.70</td>\n",
       "      <td>334.00</td>\n",
       "      <td>339.30</td>\n",
       "      <td>21853208</td>\n",
       "      <td>7322600454</td>\n",
       "      <td>373.80</td>\n",
       "      <td>244.35</td>\n",
       "      <td>139793</td>\n",
       "      <td>2020-01-02T18:30:00.000Z</td>\n",
       "      <td>335.08</td>\n",
       "    </tr>\n",
       "    <tr>\n",
       "      <th>2020-01-06</th>\n",
       "      <td>1039</td>\n",
       "      <td>331.70</td>\n",
       "      <td>317.70</td>\n",
       "      <td>331.70</td>\n",
       "      <td>319.00</td>\n",
       "      <td>318.40</td>\n",
       "      <td>333.70</td>\n",
       "      <td>35645325</td>\n",
       "      <td>11478824412</td>\n",
       "      <td>373.80</td>\n",
       "      <td>244.35</td>\n",
       "      <td>280646</td>\n",
       "      <td>2020-01-05T18:30:00.000Z</td>\n",
       "      <td>322.03</td>\n",
       "    </tr>\n",
       "    <tr>\n",
       "      <th>2020-01-07</th>\n",
       "      <td>1040</td>\n",
       "      <td>327.00</td>\n",
       "      <td>315.40</td>\n",
       "      <td>324.45</td>\n",
       "      <td>318.40</td>\n",
       "      <td>317.90</td>\n",
       "      <td>319.00</td>\n",
       "      <td>50966826</td>\n",
       "      <td>16328677246</td>\n",
       "      <td>373.80</td>\n",
       "      <td>244.35</td>\n",
       "      <td>310782</td>\n",
       "      <td>2020-01-06T18:30:00.000Z</td>\n",
       "      <td>320.38</td>\n",
       "    </tr>\n",
       "    <tr>\n",
       "      <th>...</th>\n",
       "      <td>...</td>\n",
       "      <td>...</td>\n",
       "      <td>...</td>\n",
       "      <td>...</td>\n",
       "      <td>...</td>\n",
       "      <td>...</td>\n",
       "      <td>...</td>\n",
       "      <td>...</td>\n",
       "      <td>...</td>\n",
       "      <td>...</td>\n",
       "      <td>...</td>\n",
       "      <td>...</td>\n",
       "      <td>...</td>\n",
       "      <td>...</td>\n",
       "    </tr>\n",
       "    <tr>\n",
       "      <th>2024-02-08</th>\n",
       "      <td>12</td>\n",
       "      <td>718.90</td>\n",
       "      <td>678.50</td>\n",
       "      <td>680.40</td>\n",
       "      <td>699.55</td>\n",
       "      <td>699.80</td>\n",
       "      <td>675.25</td>\n",
       "      <td>74222434</td>\n",
       "      <td>52020633464</td>\n",
       "      <td>718.90</td>\n",
       "      <td>501.55</td>\n",
       "      <td>978644</td>\n",
       "      <td>2024-02-07T18:30:00.000Z</td>\n",
       "      <td>700.87</td>\n",
       "    </tr>\n",
       "    <tr>\n",
       "      <th>2024-02-09</th>\n",
       "      <td>13</td>\n",
       "      <td>728.35</td>\n",
       "      <td>694.20</td>\n",
       "      <td>703.65</td>\n",
       "      <td>725.25</td>\n",
       "      <td>725.45</td>\n",
       "      <td>699.55</td>\n",
       "      <td>43235061</td>\n",
       "      <td>30760244551</td>\n",
       "      <td>728.35</td>\n",
       "      <td>501.55</td>\n",
       "      <td>757763</td>\n",
       "      <td>2024-02-08T18:30:00.000Z</td>\n",
       "      <td>711.47</td>\n",
       "    </tr>\n",
       "    <tr>\n",
       "      <th>2024-02-12</th>\n",
       "      <td>14</td>\n",
       "      <td>726.00</td>\n",
       "      <td>704.50</td>\n",
       "      <td>726.00</td>\n",
       "      <td>707.90</td>\n",
       "      <td>707.00</td>\n",
       "      <td>725.25</td>\n",
       "      <td>22873137</td>\n",
       "      <td>16314827823</td>\n",
       "      <td>728.35</td>\n",
       "      <td>501.55</td>\n",
       "      <td>573623</td>\n",
       "      <td>2024-02-11T18:30:00.000Z</td>\n",
       "      <td>713.27</td>\n",
       "    </tr>\n",
       "    <tr>\n",
       "      <th>2024-02-13</th>\n",
       "      <td>15</td>\n",
       "      <td>718.00</td>\n",
       "      <td>702.15</td>\n",
       "      <td>708.55</td>\n",
       "      <td>713.45</td>\n",
       "      <td>711.35</td>\n",
       "      <td>707.90</td>\n",
       "      <td>23351472</td>\n",
       "      <td>16618687259</td>\n",
       "      <td>728.35</td>\n",
       "      <td>501.55</td>\n",
       "      <td>364739</td>\n",
       "      <td>2024-02-12T18:30:00.000Z</td>\n",
       "      <td>711.68</td>\n",
       "    </tr>\n",
       "    <tr>\n",
       "      <th>2024-02-14</th>\n",
       "      <td>16</td>\n",
       "      <td>748.50</td>\n",
       "      <td>705.55</td>\n",
       "      <td>705.55</td>\n",
       "      <td>743.40</td>\n",
       "      <td>743.00</td>\n",
       "      <td>713.45</td>\n",
       "      <td>36782182</td>\n",
       "      <td>26870928805</td>\n",
       "      <td>748.50</td>\n",
       "      <td>501.55</td>\n",
       "      <td>493455</td>\n",
       "      <td>2024-02-13T18:30:00.000Z</td>\n",
       "      <td>730.54</td>\n",
       "    </tr>\n",
       "  </tbody>\n",
       "</table>\n",
       "<p>1066 rows × 14 columns</p>\n",
       "</div>"
      ],
      "text/plain": [
       "              Sr    high     low    open   close     ltp  prev_ltp  \\\n",
       "date                                                                 \n",
       "2020-01-01  1036  335.95  332.15  334.70  334.45  335.00    333.75   \n",
       "2020-01-02  1037  339.85  333.35  334.50  339.30  338.80    334.45   \n",
       "2020-01-03  1038  337.95  332.00  337.95  333.70  334.00    339.30   \n",
       "2020-01-06  1039  331.70  317.70  331.70  319.00  318.40    333.70   \n",
       "2020-01-07  1040  327.00  315.40  324.45  318.40  317.90    319.00   \n",
       "...          ...     ...     ...     ...     ...     ...       ...   \n",
       "2024-02-08    12  718.90  678.50  680.40  699.55  699.80    675.25   \n",
       "2024-02-09    13  728.35  694.20  703.65  725.25  725.45    699.55   \n",
       "2024-02-12    14  726.00  704.50  726.00  707.90  707.00    725.25   \n",
       "2024-02-13    15  718.00  702.15  708.55  713.45  711.35    707.90   \n",
       "2024-02-14    16  748.50  705.55  705.55  743.40  743.00    713.45   \n",
       "\n",
       "            traded_qty   traded_val  52_high  52_low  total_trades  \\\n",
       "date                                                                 \n",
       "2020-01-01    17379320   5805129514   373.80  244.35         99108   \n",
       "2020-01-02    20324236   6845341476   373.80  244.35        123189   \n",
       "2020-01-03    21853208   7322600454   373.80  244.35        139793   \n",
       "2020-01-06    35645325  11478824412   373.80  244.35        280646   \n",
       "2020-01-07    50966826  16328677246   373.80  244.35        310782   \n",
       "...                ...          ...      ...     ...           ...   \n",
       "2024-02-08    74222434  52020633464   718.90  501.55        978644   \n",
       "2024-02-09    43235061  30760244551   728.35  501.55        757763   \n",
       "2024-02-12    22873137  16314827823   728.35  501.55        573623   \n",
       "2024-02-13    23351472  16618687259   728.35  501.55        364739   \n",
       "2024-02-14    36782182  26870928805   748.50  501.55        493455   \n",
       "\n",
       "                           timestamp    vwap  \n",
       "date                                          \n",
       "2020-01-01  2019-12-31T18:30:00.000Z  334.03  \n",
       "2020-01-02  2020-01-01T18:30:00.000Z  336.81  \n",
       "2020-01-03  2020-01-02T18:30:00.000Z  335.08  \n",
       "2020-01-06  2020-01-05T18:30:00.000Z  322.03  \n",
       "2020-01-07  2020-01-06T18:30:00.000Z  320.38  \n",
       "...                              ...     ...  \n",
       "2024-02-08  2024-02-07T18:30:00.000Z  700.87  \n",
       "2024-02-09  2024-02-08T18:30:00.000Z  711.47  \n",
       "2024-02-12  2024-02-11T18:30:00.000Z  713.27  \n",
       "2024-02-13  2024-02-12T18:30:00.000Z  711.68  \n",
       "2024-02-14  2024-02-13T18:30:00.000Z  730.54  \n",
       "\n",
       "[1066 rows x 14 columns]"
      ]
     },
     "execution_count": 3,
     "metadata": {},
     "output_type": "execute_result"
    }
   ],
   "source": [
    "sbin"
   ]
  },
  {
   "cell_type": "code",
   "execution_count": 4,
   "id": "2796c3e5-11df-4162-acc2-1f1c654f2b60",
   "metadata": {},
   "outputs": [
    {
     "name": "stdout",
     "output_type": "stream",
     "text": [
      "<class 'pandas.core.frame.DataFrame'>\n",
      "DatetimeIndex: 1066 entries, 2020-01-01 to 2024-02-14\n",
      "Data columns (total 14 columns):\n",
      " #   Column        Non-Null Count  Dtype  \n",
      "---  ------        --------------  -----  \n",
      " 0   Sr            1066 non-null   int64  \n",
      " 1   high          1066 non-null   float64\n",
      " 2   low           1066 non-null   float64\n",
      " 3   open          1066 non-null   float64\n",
      " 4   close         1066 non-null   float64\n",
      " 5   ltp           1066 non-null   float64\n",
      " 6   prev_ltp      1066 non-null   float64\n",
      " 7   traded_qty    1066 non-null   int64  \n",
      " 8   traded_val    1066 non-null   int64  \n",
      " 9   52_high       1066 non-null   float64\n",
      " 10  52_low        1066 non-null   float64\n",
      " 11  total_trades  1066 non-null   int64  \n",
      " 12  timestamp     1066 non-null   object \n",
      " 13  vwap          1066 non-null   float64\n",
      "dtypes: float64(9), int64(4), object(1)\n",
      "memory usage: 124.9+ KB\n"
     ]
    }
   ],
   "source": [
    "sbin.info()"
   ]
  },
  {
   "cell_type": "code",
   "execution_count": 5,
   "id": "922a95c8-6c59-4515-bd64-175113c3353e",
   "metadata": {},
   "outputs": [
    {
     "data": {
      "text/html": [
       "<div>\n",
       "<style scoped>\n",
       "    .dataframe tbody tr th:only-of-type {\n",
       "        vertical-align: middle;\n",
       "    }\n",
       "\n",
       "    .dataframe tbody tr th {\n",
       "        vertical-align: top;\n",
       "    }\n",
       "\n",
       "    .dataframe thead th {\n",
       "        text-align: right;\n",
       "    }\n",
       "</style>\n",
       "<table border=\"1\" class=\"dataframe\">\n",
       "  <thead>\n",
       "    <tr style=\"text-align: right;\">\n",
       "      <th></th>\n",
       "      <th>Sr</th>\n",
       "      <th>high</th>\n",
       "      <th>low</th>\n",
       "      <th>open</th>\n",
       "      <th>close</th>\n",
       "      <th>ltp</th>\n",
       "      <th>prev_ltp</th>\n",
       "      <th>traded_qty</th>\n",
       "      <th>traded_val</th>\n",
       "      <th>52_high</th>\n",
       "      <th>52_low</th>\n",
       "      <th>total_trades</th>\n",
       "      <th>vwap</th>\n",
       "    </tr>\n",
       "  </thead>\n",
       "  <tbody>\n",
       "    <tr>\n",
       "      <th>count</th>\n",
       "      <td>1066.000000</td>\n",
       "      <td>1066.000000</td>\n",
       "      <td>1066.000000</td>\n",
       "      <td>1066.000000</td>\n",
       "      <td>1066.000000</td>\n",
       "      <td>1066.000000</td>\n",
       "      <td>1066.000000</td>\n",
       "      <td>1.066000e+03</td>\n",
       "      <td>1.066000e+03</td>\n",
       "      <td>1066.000000</td>\n",
       "      <td>1066.000000</td>\n",
       "      <td>1.066000e+03</td>\n",
       "      <td>1066.000000</td>\n",
       "    </tr>\n",
       "    <tr>\n",
       "      <th>mean</th>\n",
       "      <td>532.500000</td>\n",
       "      <td>443.420544</td>\n",
       "      <td>432.685835</td>\n",
       "      <td>438.417871</td>\n",
       "      <td>437.983161</td>\n",
       "      <td>438.040666</td>\n",
       "      <td>437.616463</td>\n",
       "      <td>3.205197e+07</td>\n",
       "      <td>1.130472e+10</td>\n",
       "      <td>505.778846</td>\n",
       "      <td>302.140947</td>\n",
       "      <td>2.628561e+05</td>\n",
       "      <td>438.165310</td>\n",
       "    </tr>\n",
       "    <tr>\n",
       "      <th>std</th>\n",
       "      <td>307.871997</td>\n",
       "      <td>146.328398</td>\n",
       "      <td>145.101099</td>\n",
       "      <td>145.666980</td>\n",
       "      <td>145.751996</td>\n",
       "      <td>145.729584</td>\n",
       "      <td>145.529714</td>\n",
       "      <td>2.723690e+07</td>\n",
       "      <td>7.206985e+09</td>\n",
       "      <td>110.743105</td>\n",
       "      <td>134.409538</td>\n",
       "      <td>1.304108e+05</td>\n",
       "      <td>145.725506</td>\n",
       "    </tr>\n",
       "    <tr>\n",
       "      <th>min</th>\n",
       "      <td>0.000000</td>\n",
       "      <td>153.200000</td>\n",
       "      <td>149.450000</td>\n",
       "      <td>151.950000</td>\n",
       "      <td>150.850000</td>\n",
       "      <td>151.100000</td>\n",
       "      <td>150.850000</td>\n",
       "      <td>1.947722e+06</td>\n",
       "      <td>1.133273e+09</td>\n",
       "      <td>331.900000</td>\n",
       "      <td>149.450000</td>\n",
       "      <td>5.393500e+04</td>\n",
       "      <td>151.820000</td>\n",
       "    </tr>\n",
       "    <tr>\n",
       "      <th>25%</th>\n",
       "      <td>266.250000</td>\n",
       "      <td>324.000000</td>\n",
       "      <td>317.250000</td>\n",
       "      <td>321.162500</td>\n",
       "      <td>320.350000</td>\n",
       "      <td>320.200000</td>\n",
       "      <td>319.100000</td>\n",
       "      <td>1.327810e+07</td>\n",
       "      <td>6.937396e+09</td>\n",
       "      <td>373.800000</td>\n",
       "      <td>160.850000</td>\n",
       "      <td>1.740700e+05</td>\n",
       "      <td>320.200000</td>\n",
       "    </tr>\n",
       "    <tr>\n",
       "      <th>50%</th>\n",
       "      <td>532.500000</td>\n",
       "      <td>479.750000</td>\n",
       "      <td>467.750000</td>\n",
       "      <td>473.200000</td>\n",
       "      <td>473.850000</td>\n",
       "      <td>473.975000</td>\n",
       "      <td>472.900000</td>\n",
       "      <td>2.122441e+07</td>\n",
       "      <td>9.467993e+09</td>\n",
       "      <td>542.300000</td>\n",
       "      <td>269.500000</td>\n",
       "      <td>2.294010e+05</td>\n",
       "      <td>474.040000</td>\n",
       "    </tr>\n",
       "    <tr>\n",
       "      <th>75%</th>\n",
       "      <td>798.750000</td>\n",
       "      <td>568.412500</td>\n",
       "      <td>559.512500</td>\n",
       "      <td>564.900000</td>\n",
       "      <td>564.275000</td>\n",
       "      <td>563.875000</td>\n",
       "      <td>563.587500</td>\n",
       "      <td>4.332273e+07</td>\n",
       "      <td>1.354199e+10</td>\n",
       "      <td>629.550000</td>\n",
       "      <td>425.000000</td>\n",
       "      <td>3.088008e+05</td>\n",
       "      <td>563.915000</td>\n",
       "    </tr>\n",
       "    <tr>\n",
       "      <th>max</th>\n",
       "      <td>1065.000000</td>\n",
       "      <td>748.500000</td>\n",
       "      <td>705.550000</td>\n",
       "      <td>726.000000</td>\n",
       "      <td>743.400000</td>\n",
       "      <td>743.000000</td>\n",
       "      <td>725.250000</td>\n",
       "      <td>2.149557e+08</td>\n",
       "      <td>8.549083e+10</td>\n",
       "      <td>748.500000</td>\n",
       "      <td>501.550000</td>\n",
       "      <td>1.155236e+06</td>\n",
       "      <td>730.540000</td>\n",
       "    </tr>\n",
       "  </tbody>\n",
       "</table>\n",
       "</div>"
      ],
      "text/plain": [
       "                Sr         high          low         open        close  \\\n",
       "count  1066.000000  1066.000000  1066.000000  1066.000000  1066.000000   \n",
       "mean    532.500000   443.420544   432.685835   438.417871   437.983161   \n",
       "std     307.871997   146.328398   145.101099   145.666980   145.751996   \n",
       "min       0.000000   153.200000   149.450000   151.950000   150.850000   \n",
       "25%     266.250000   324.000000   317.250000   321.162500   320.350000   \n",
       "50%     532.500000   479.750000   467.750000   473.200000   473.850000   \n",
       "75%     798.750000   568.412500   559.512500   564.900000   564.275000   \n",
       "max    1065.000000   748.500000   705.550000   726.000000   743.400000   \n",
       "\n",
       "               ltp     prev_ltp    traded_qty    traded_val      52_high  \\\n",
       "count  1066.000000  1066.000000  1.066000e+03  1.066000e+03  1066.000000   \n",
       "mean    438.040666   437.616463  3.205197e+07  1.130472e+10   505.778846   \n",
       "std     145.729584   145.529714  2.723690e+07  7.206985e+09   110.743105   \n",
       "min     151.100000   150.850000  1.947722e+06  1.133273e+09   331.900000   \n",
       "25%     320.200000   319.100000  1.327810e+07  6.937396e+09   373.800000   \n",
       "50%     473.975000   472.900000  2.122441e+07  9.467993e+09   542.300000   \n",
       "75%     563.875000   563.587500  4.332273e+07  1.354199e+10   629.550000   \n",
       "max     743.000000   725.250000  2.149557e+08  8.549083e+10   748.500000   \n",
       "\n",
       "            52_low  total_trades         vwap  \n",
       "count  1066.000000  1.066000e+03  1066.000000  \n",
       "mean    302.140947  2.628561e+05   438.165310  \n",
       "std     134.409538  1.304108e+05   145.725506  \n",
       "min     149.450000  5.393500e+04   151.820000  \n",
       "25%     160.850000  1.740700e+05   320.200000  \n",
       "50%     269.500000  2.294010e+05   474.040000  \n",
       "75%     425.000000  3.088008e+05   563.915000  \n",
       "max     501.550000  1.155236e+06   730.540000  "
      ]
     },
     "execution_count": 5,
     "metadata": {},
     "output_type": "execute_result"
    }
   ],
   "source": [
    "sbin.describe()"
   ]
  },
  {
   "cell_type": "code",
   "execution_count": 6,
   "id": "4ad288a9-42d6-4721-a69a-b7770c589334",
   "metadata": {},
   "outputs": [
    {
     "data": {
      "text/plain": [
       "<Axes: xlabel='date'>"
      ]
     },
     "execution_count": 6,
     "metadata": {},
     "output_type": "execute_result"
    },
    {
     "data": {
      "image/png": "[encoded data removed]",
      "text/plain": [
       "<Figure size 640x480 with 1 Axes>"
      ]
     },
     "metadata": {},
     "output_type": "display_data"
    }
   ],
   "source": [
    "sbin['ltp'].plot()"
   ]
  },
  {
   "cell_type": "code",
   "execution_count": 7,
   "id": "68bb284b-dcfa-4813-b09e-682eb52b1b40",
   "metadata": {},
   "outputs": [
    {
     "data": {
      "text/plain": [
       "1066"
      ]
     },
     "execution_count": 7,
     "metadata": {},
     "output_type": "execute_result"
    }
   ],
   "source": [
    "len(sbin)"
   ]
  },
  {
   "cell_type": "code",
   "execution_count": 8,
   "id": "88cf2cba-5834-4fcd-9571-77005ef8e43e",
   "metadata": {},
   "outputs": [],
   "source": [
    "sbin_close =  sbin['close'].copy()"
   ]
  },
  {
   "cell_type": "code",
   "execution_count": 9,
   "id": "d040740f-dfe9-4ab8-b925-dad94fc62bb8",
   "metadata": {},
   "outputs": [
    {
     "data": {
      "text/plain": [
       "(1066,)"
      ]
     },
     "execution_count": 9,
     "metadata": {},
     "output_type": "execute_result"
    }
   ],
   "source": [
    "sbin_close.shape\n",
    "# sbin_close.reset_index(drop=True, implace=True)"
   ]
  },
  {
   "cell_type": "code",
   "execution_count": 10,
   "id": "1e7c9059-4070-46ca-bb10-d7a92cdc82db",
   "metadata": {},
   "outputs": [
    {
     "data": {
      "text/plain": [
       "(1066,)"
      ]
     },
     "execution_count": 10,
     "metadata": {},
     "output_type": "execute_result"
    }
   ],
   "source": [
    "sbin_close.reset_index(drop=True, inplace=True)\n",
    "sbin_close.shape"
   ]
  },
  {
   "cell_type": "code",
   "execution_count": 11,
   "id": "c3d1f78e-aac2-48b1-be54-c8063b5c4af7",
   "metadata": {},
   "outputs": [],
   "source": [
    "train_size = int(len(sbin_close)*0.9)\n",
    "test_size = len(sbin_close) - train_size\n",
    "train = sbin_close.iloc[: train_size]\n",
    "test = sbin_close.iloc[train_size:]\n",
    "\n",
    "# print(f'train : {train_data.shape} and test : {test_data.shape}')"
   ]
  },
  {
   "cell_type": "code",
   "execution_count": 12,
   "id": "7685fb1c-80e2-44cc-9f00-cd52c5ef9112",
   "metadata": {},
   "outputs": [
    {
     "data": {
      "text/plain": [
       "0    334.45\n",
       "1    339.30\n",
       "2    333.70\n",
       "3    319.00\n",
       "4    318.40\n",
       "Name: close, dtype: float64"
      ]
     },
     "execution_count": 12,
     "metadata": {},
     "output_type": "execute_result"
    }
   ],
   "source": [
    "sbin_close.head()"
   ]
  },
  {
   "cell_type": "code",
   "execution_count": 13,
   "id": "412e671a-cca9-4fc9-bf7d-ad3ebb754e7f",
   "metadata": {},
   "outputs": [],
   "source": [
    "from sklearn.preprocessing import MinMaxScaler\n",
    "scaler = MinMaxScaler(feature_range=(0,1))\n",
    "# scaler.fit(train_data)\n",
    "# df2 = scaler.fit_transform(np.array(df1).reshape(-1,1))\n",
    "train_data2 = np.array(train).reshape(-1,1)\n",
    "test_data2 = np.array(test).reshape(-1,1)\n",
    "# ?train_data2\n",
    "scale_train_data = scaler.fit_transform(train_data2)\n",
    "scale_test_data = scaler.fit_transform(test_data2)"
   ]
  },
  {
   "cell_type": "code",
   "execution_count": 14,
   "id": "c8840d34-3386-44f3-a25c-8b4b27d8fa76",
   "metadata": {},
   "outputs": [],
   "source": [
    "# train_data.head()"
   ]
  },
  {
   "cell_type": "code",
   "execution_count": 15,
   "id": "b23c475c-90de-4796-abe7-fdffc66c805d",
   "metadata": {},
   "outputs": [
    {
     "name": "stdout",
     "output_type": "stream",
     "text": [
      "WARNING:tensorflow:From D:\\pjobs\\v1\\Lib\\site-packages\\keras\\src\\losses.py:2976: The name tf.losses.sparse_softmax_cross_entropy is deprecated. Please use tf.compat.v1.losses.sparse_softmax_cross_entropy instead.\n",
      "\n"
     ]
    }
   ],
   "source": [
    "from tensorflow.keras.preprocessing.sequence import TimeseriesGenerator"
   ]
  },
  {
   "cell_type": "code",
   "execution_count": 16,
   "id": "5b947ce2-1e01-4bae-812a-dea2b5ab9f35",
   "metadata": {},
   "outputs": [
    {
     "data": {
      "text/plain": [
       "(107, 1)"
      ]
     },
     "execution_count": 16,
     "metadata": {},
     "output_type": "execute_result"
    }
   ],
   "source": [
    "test_data2.shape"
   ]
  },
  {
   "cell_type": "code",
   "execution_count": 17,
   "id": "e9a6a53f-6a80-48fd-8388-d9759f43e81f",
   "metadata": {},
   "outputs": [],
   "source": [
    "# ?TimeseriesGenerator"
   ]
  },
  {
   "cell_type": "code",
   "execution_count": 19,
   "id": "3e2386eb-2cb7-43f0-bb7c-024e295ebd2b",
   "metadata": {},
   "outputs": [],
   "source": [
    "length = 16\n",
    "batch_size = 32\n",
    "generator = TimeseriesGenerator(scale_train_data, scale_train_data, \n",
    "    length = length, batch_size = batch_size\n",
    ")"
   ]
  },
  {
   "cell_type": "code",
   "execution_count": 20,
   "id": "7414eee3-e9b3-46f1-9405-bd45af3a5fa1",
   "metadata": {},
   "outputs": [],
   "source": [
    "from tensorflow.keras.models import Sequential\n",
    "from tensorflow.keras.layers import Dense, SimpleRNN, LSTM, Dropout"
   ]
  },
  {
   "cell_type": "code",
   "execution_count": 21,
   "id": "97bf5ba2-5b36-40c6-bf07-6502f1af30c4",
   "metadata": {},
   "outputs": [],
   "source": [
    "n_features = 1"
   ]
  },
  {
   "cell_type": "code",
   "execution_count": 22,
   "id": "a34c52a5-577e-47d0-8800-1ab210f8b4b0",
   "metadata": {},
   "outputs": [
    {
     "name": "stdout",
     "output_type": "stream",
     "text": [
      "WARNING:tensorflow:From D:\\pjobs\\v1\\Lib\\site-packages\\keras\\src\\backend.py:873: The name tf.get_default_graph is deprecated. Please use tf.compat.v1.get_default_graph instead.\n",
      "\n",
      "WARNING:tensorflow:From D:\\pjobs\\v1\\Lib\\site-packages\\keras\\src\\optimizers\\__init__.py:309: The name tf.train.Optimizer is deprecated. Please use tf.compat.v1.train.Optimizer instead.\n",
      "\n"
     ]
    }
   ],
   "source": [
    "model = Sequential()\n",
    "model.add(SimpleRNN(30, input_shape=(length, n_features)))\n",
    "model.add(Dropout(rate=0.2))\n",
    "model.add(Dense(1))\n",
    "model.compile(optimizer='adam', loss='mse')"
   ]
  },
  {
   "cell_type": "code",
   "execution_count": 23,
   "id": "25b8f606-a024-48c2-a24f-44525423c2a0",
   "metadata": {},
   "outputs": [
    {
     "name": "stdout",
     "output_type": "stream",
     "text": [
      "Model: \"sequential\"\n",
      "_________________________________________________________________\n",
      " Layer (type)                Output Shape              Param #   \n",
      "=================================================================\n",
      " simple_rnn (SimpleRNN)      (None, 30)                960       \n",
      "                                                                 \n",
      " dropout (Dropout)           (None, 30)                0         \n",
      "                                                                 \n",
      " dense (Dense)               (None, 1)                 31        \n",
      "                                                                 \n",
      "=================================================================\n",
      "Total params: 991 (3.87 KB)\n",
      "Trainable params: 991 (3.87 KB)\n",
      "Non-trainable params: 0 (0.00 Byte)\n",
      "_________________________________________________________________\n",
      "None\n"
     ]
    }
   ],
   "source": [
    "print(model.summary())"
   ]
  },
  {
   "cell_type": "code",
   "execution_count": 24,
   "id": "55943141-d22b-47aa-a36e-929f38a8904e",
   "metadata": {},
   "outputs": [
    {
     "name": "stdout",
     "output_type": "stream",
     "text": [
      "Epoch 1/25\n",
      "WARNING:tensorflow:From D:\\pjobs\\v1\\Lib\\site-packages\\keras\\src\\utils\\tf_utils.py:492: The name tf.ragged.RaggedTensorValue is deprecated. Please use tf.compat.v1.ragged.RaggedTensorValue instead.\n",
      "\n",
      "30/30 [==============================] - 1s 3ms/step - loss: 0.0487\n",
      "Epoch 2/25\n",
      "30/30 [==============================] - 0s 3ms/step - loss: 0.0408\n",
      "Epoch 3/25\n",
      "30/30 [==============================] - 0s 3ms/step - loss: 0.0289\n",
      "Epoch 4/25\n",
      "30/30 [==============================] - 0s 3ms/step - loss: 0.0222\n",
      "Epoch 5/25\n",
      "30/30 [==============================] - 0s 2ms/step - loss: 0.0192\n",
      "Epoch 6/25\n",
      "30/30 [==============================] - 0s 2ms/step - loss: 0.0161\n",
      "Epoch 7/25\n",
      "30/30 [==============================] - 0s 2ms/step - loss: 0.0124\n",
      "Epoch 8/25\n",
      "30/30 [==============================] - 0s 2ms/step - loss: 0.0106\n",
      "Epoch 9/25\n",
      "30/30 [==============================] - 0s 2ms/step - loss: 0.0102\n",
      "Epoch 10/25\n",
      "30/30 [==============================] - 0s 2ms/step - loss: 0.0098\n",
      "Epoch 11/25\n",
      "30/30 [==============================] - 0s 2ms/step - loss: 0.0083\n",
      "Epoch 12/25\n",
      "30/30 [==============================] - 0s 2ms/step - loss: 0.0067\n",
      "Epoch 13/25\n",
      "30/30 [==============================] - 0s 2ms/step - loss: 0.0061\n",
      "Epoch 14/25\n",
      "30/30 [==============================] - 0s 2ms/step - loss: 0.0055\n",
      "Epoch 15/25\n",
      "30/30 [==============================] - 0s 2ms/step - loss: 0.0055\n",
      "Epoch 16/25\n",
      "30/30 [==============================] - 0s 2ms/step - loss: 0.0055\n",
      "Epoch 17/25\n",
      "30/30 [==============================] - 0s 2ms/step - loss: 0.0045\n",
      "Epoch 18/25\n",
      "30/30 [==============================] - 0s 2ms/step - loss: 0.0051\n",
      "Epoch 19/25\n",
      "30/30 [==============================] - 0s 2ms/step - loss: 0.0054\n",
      "Epoch 20/25\n",
      "30/30 [==============================] - 0s 2ms/step - loss: 0.0053\n",
      "Epoch 21/25\n",
      "30/30 [==============================] - 0s 2ms/step - loss: 0.0047\n",
      "Epoch 22/25\n",
      "30/30 [==============================] - 0s 2ms/step - loss: 0.0047\n",
      "Epoch 23/25\n",
      "30/30 [==============================] - 0s 2ms/step - loss: 0.0051\n",
      "Epoch 24/25\n",
      "30/30 [==============================] - 0s 2ms/step - loss: 0.0044\n",
      "Epoch 25/25\n",
      "30/30 [==============================] - 0s 2ms/step - loss: 0.0045\n"
     ]
    },
    {
     "data": {
      "text/plain": [
       "<keras.src.callbacks.History at 0x1ecf5959d10>"
      ]
     },
     "execution_count": 24,
     "metadata": {},
     "output_type": "execute_result"
    }
   ],
   "source": [
    "model.fit(generator, epochs=25, shuffle=False)"
   ]
  },
  {
   "cell_type": "code",
   "execution_count": 25,
   "id": "d757c221-4ced-40fd-9044-18167bb50085",
   "metadata": {},
   "outputs": [],
   "source": [
    "losses = pd.DataFrame(model.history.history)"
   ]
  },
  {
   "cell_type": "code",
   "execution_count": 26,
   "id": "289c8422-a9d3-4e52-b05f-5347ba41ffd4",
   "metadata": {},
   "outputs": [
    {
     "data": {
      "text/plain": [
       "<Axes: >"
      ]
     },
     "execution_count": 26,
     "metadata": {},
     "output_type": "execute_result"
    },
    {
     "data": {
      "image/png": "[encoded data removed]",
      "text/plain": [
       "<Figure size 640x480 with 1 Axes>"
      ]
     },
     "metadata": {},
     "output_type": "display_data"
    }
   ],
   "source": [
    "losses.plot()"
   ]
  },
  {
   "cell_type": "code",
   "execution_count": 27,
   "id": "082cc257-fadd-4280-9945-8e5ceb75cb8c",
   "metadata": {},
   "outputs": [],
   "source": [
    "# first_eval_batch = scale_train_data[-length: ]"
   ]
  },
  {
   "cell_type": "code",
   "execution_count": 28,
   "id": "28459bc0-5945-4c88-80bf-1e379691b7a3",
   "metadata": {},
   "outputs": [],
   "source": [
    "# first_eval_batch"
   ]
  },
  {
   "cell_type": "code",
   "execution_count": 29,
   "id": "663827ea-9823-40b6-a4d1-cacd59b12583",
   "metadata": {},
   "outputs": [],
   "source": [
    "# first_eval_batch = first_eval_batch.reshape((1, length, 1))"
   ]
  },
  {
   "cell_type": "code",
   "execution_count": 30,
   "id": "96a1b98b-8df8-4b1e-8b8d-4fd53e6d19d6",
   "metadata": {},
   "outputs": [],
   "source": [
    "# first_eval_batch"
   ]
  },
  {
   "cell_type": "code",
   "execution_count": 31,
   "id": "e87f450f-fc7e-4700-8aff-b8c7c9cceb6a",
   "metadata": {},
   "outputs": [],
   "source": [
    "# model.predict(first_eval_batch)"
   ]
  },
  {
   "cell_type": "code",
   "execution_count": 32,
   "id": "d4421701-efc5-4311-af9c-b32eca2cfa08",
   "metadata": {},
   "outputs": [],
   "source": [
    "# scale_test_data[0]"
   ]
  },
  {
   "cell_type": "code",
   "execution_count": 33,
   "id": "a41fe254-d0e5-45a0-a25a-b0a6d3de6093",
   "metadata": {},
   "outputs": [
    {
     "name": "stdout",
     "output_type": "stream",
     "text": [
      "1/1 [==============================] - 0s 185ms/step\n",
      "1/1 [==============================] - 0s 26ms/step\n",
      "1/1 [==============================] - 0s 25ms/step\n",
      "1/1 [==============================] - 0s 30ms/step\n",
      "1/1 [==============================] - 0s 25ms/step\n",
      "1/1 [==============================] - 0s 48ms/step\n",
      "1/1 [==============================] - 0s 27ms/step\n",
      "1/1 [==============================] - 0s 23ms/step\n",
      "1/1 [==============================] - 0s 38ms/step\n",
      "1/1 [==============================] - 0s 20ms/step\n",
      "1/1 [==============================] - 0s 21ms/step\n",
      "1/1 [==============================] - 0s 20ms/step\n",
      "1/1 [==============================] - 0s 28ms/step\n",
      "1/1 [==============================] - 0s 30ms/step\n",
      "1/1 [==============================] - 0s 23ms/step\n",
      "1/1 [==============================] - 0s 20ms/step\n",
      "1/1 [==============================] - 0s 33ms/step\n",
      "1/1 [==============================] - 0s 21ms/step\n",
      "1/1 [==============================] - 0s 21ms/step\n",
      "1/1 [==============================] - 0s 24ms/step\n",
      "1/1 [==============================] - 0s 24ms/step\n",
      "1/1 [==============================] - 0s 19ms/step\n",
      "1/1 [==============================] - 0s 18ms/step\n",
      "1/1 [==============================] - 0s 25ms/step\n",
      "1/1 [==============================] - 0s 19ms/step\n",
      "1/1 [==============================] - 0s 21ms/step\n",
      "1/1 [==============================] - 0s 21ms/step\n",
      "1/1 [==============================] - 0s 21ms/step\n",
      "1/1 [==============================] - 0s 34ms/step\n",
      "1/1 [==============================] - 0s 19ms/step\n",
      "1/1 [==============================] - 0s 20ms/step\n",
      "1/1 [==============================] - 0s 22ms/step\n",
      "1/1 [==============================] - 0s 22ms/step\n",
      "1/1 [==============================] - 0s 21ms/step\n",
      "1/1 [==============================] - 0s 21ms/step\n",
      "1/1 [==============================] - 0s 21ms/step\n",
      "1/1 [==============================] - 0s 19ms/step\n",
      "1/1 [==============================] - 0s 21ms/step\n",
      "1/1 [==============================] - 0s 21ms/step\n",
      "1/1 [==============================] - 0s 25ms/step\n",
      "1/1 [==============================] - 0s 19ms/step\n",
      "1/1 [==============================] - 0s 19ms/step\n",
      "1/1 [==============================] - 0s 26ms/step\n",
      "1/1 [==============================] - 0s 23ms/step\n",
      "1/1 [==============================] - 0s 23ms/step\n",
      "1/1 [==============================] - 0s 27ms/step\n",
      "1/1 [==============================] - 0s 21ms/step\n",
      "1/1 [==============================] - 0s 30ms/step\n",
      "1/1 [==============================] - 0s 24ms/step\n",
      "1/1 [==============================] - 0s 22ms/step\n",
      "1/1 [==============================] - 0s 22ms/step\n",
      "1/1 [==============================] - 0s 22ms/step\n",
      "1/1 [==============================] - 0s 22ms/step\n",
      "1/1 [==============================] - 0s 26ms/step\n",
      "1/1 [==============================] - 0s 19ms/step\n",
      "1/1 [==============================] - 0s 18ms/step\n",
      "1/1 [==============================] - 0s 24ms/step\n",
      "1/1 [==============================] - 0s 22ms/step\n",
      "1/1 [==============================] - 0s 29ms/step\n",
      "1/1 [==============================] - 0s 20ms/step\n",
      "1/1 [==============================] - 0s 30ms/step\n",
      "1/1 [==============================] - 0s 20ms/step\n",
      "1/1 [==============================] - 0s 18ms/step\n",
      "1/1 [==============================] - 0s 19ms/step\n",
      "1/1 [==============================] - 0s 19ms/step\n",
      "1/1 [==============================] - 0s 22ms/step\n",
      "1/1 [==============================] - 0s 20ms/step\n",
      "1/1 [==============================] - 0s 23ms/step\n",
      "1/1 [==============================] - 0s 21ms/step\n",
      "1/1 [==============================] - 0s 21ms/step\n",
      "1/1 [==============================] - 0s 20ms/step\n",
      "1/1 [==============================] - 0s 29ms/step\n",
      "1/1 [==============================] - 0s 20ms/step\n",
      "1/1 [==============================] - 0s 23ms/step\n",
      "1/1 [==============================] - 0s 21ms/step\n",
      "1/1 [==============================] - 0s 19ms/step\n",
      "1/1 [==============================] - 0s 25ms/step\n",
      "1/1 [==============================] - 0s 21ms/step\n",
      "1/1 [==============================] - 0s 30ms/step\n",
      "1/1 [==============================] - 0s 21ms/step\n",
      "1/1 [==============================] - 0s 20ms/step\n",
      "1/1 [==============================] - 0s 19ms/step\n",
      "1/1 [==============================] - 0s 20ms/step\n",
      "1/1 [==============================] - 0s 22ms/step\n",
      "1/1 [==============================] - 0s 21ms/step\n",
      "1/1 [==============================] - 0s 23ms/step\n",
      "1/1 [==============================] - 0s 19ms/step\n",
      "1/1 [==============================] - 0s 20ms/step\n",
      "1/1 [==============================] - 0s 22ms/step\n",
      "1/1 [==============================] - 0s 22ms/step\n",
      "1/1 [==============================] - 0s 22ms/step\n",
      "1/1 [==============================] - 0s 22ms/step\n",
      "1/1 [==============================] - 0s 22ms/step\n",
      "1/1 [==============================] - 0s 21ms/step\n",
      "1/1 [==============================] - 0s 25ms/step\n",
      "1/1 [==============================] - 0s 21ms/step\n",
      "1/1 [==============================] - 0s 22ms/step\n",
      "1/1 [==============================] - 0s 17ms/step\n",
      "1/1 [==============================] - 0s 19ms/step\n",
      "1/1 [==============================] - 0s 26ms/step\n",
      "1/1 [==============================] - 0s 18ms/step\n",
      "1/1 [==============================] - 0s 21ms/step\n",
      "1/1 [==============================] - 0s 25ms/step\n",
      "1/1 [==============================] - 0s 19ms/step\n",
      "1/1 [==============================] - 0s 25ms/step\n",
      "1/1 [==============================] - 0s 19ms/step\n",
      "1/1 [==============================] - 0s 18ms/step\n"
     ]
    }
   ],
   "source": [
    "test_predictions = []\n",
    "first_eval_batch = scale_train_data[-length:]\n",
    "current_batch = first_eval_batch.reshape((1, length, n_features))\n",
    "\n",
    "for i in range(len(test)):\n",
    "    # get prediction 1 time stamp ahead[0] is for grabbing just the number instead of array\n",
    "    current_pred = model.predict(current_batch)[0]\n",
    "    # Store predictions\n",
    "    test_predictions.append(current_pred)\n",
    "    # update_batch to now include prediction and drop first value\n",
    "    current_batch = np.append(current_batch[:,1:,:],[[current_pred]], axis=1)\n",
    "    "
   ]
  },
  {
   "cell_type": "code",
   "execution_count": 34,
   "id": "51a2969e-7869-4053-b5bb-119730808703",
   "metadata": {},
   "outputs": [],
   "source": [
    "# test_predictions\n",
    "true_predictions = scaler.inverse_transform(test_predictions)\n",
    "# true_predictions|"
   ]
  },
  {
   "cell_type": "code",
   "execution_count": 35,
   "id": "7f4f0a37-864e-4d8d-bd15-c02c0f4b9f61",
   "metadata": {},
   "outputs": [],
   "source": [
    "# scale_test_data"
   ]
  },
  {
   "cell_type": "code",
   "execution_count": 36,
   "id": "15e0c2e1-78a2-4216-879e-472a0b567de8",
   "metadata": {},
   "outputs": [],
   "source": [
    "# test['predictions'] = (true_predictions)"
   ]
  },
  {
   "cell_type": "code",
   "execution_count": 37,
   "id": "516f087d-3fe3-4d9b-9835-a885fb82e450",
   "metadata": {},
   "outputs": [
    {
     "data": {
      "text/html": [
       "<div>\n",
       "<style scoped>\n",
       "    .dataframe tbody tr th:only-of-type {\n",
       "        vertical-align: middle;\n",
       "    }\n",
       "\n",
       "    .dataframe tbody tr th {\n",
       "        vertical-align: top;\n",
       "    }\n",
       "\n",
       "    .dataframe thead th {\n",
       "        text-align: right;\n",
       "    }\n",
       "</style>\n",
       "<table border=\"1\" class=\"dataframe\">\n",
       "  <thead>\n",
       "    <tr style=\"text-align: right;\">\n",
       "      <th></th>\n",
       "      <th>close</th>\n",
       "      <th>predictions</th>\n",
       "    </tr>\n",
       "  </thead>\n",
       "  <tbody>\n",
       "    <tr>\n",
       "      <th>959</th>\n",
       "      <td>598.80</td>\n",
       "      <td>732.143652</td>\n",
       "    </tr>\n",
       "    <tr>\n",
       "      <th>960</th>\n",
       "      <td>603.95</td>\n",
       "      <td>731.689234</td>\n",
       "    </tr>\n",
       "    <tr>\n",
       "      <th>961</th>\n",
       "      <td>601.10</td>\n",
       "      <td>731.683803</td>\n",
       "    </tr>\n",
       "    <tr>\n",
       "      <th>962</th>\n",
       "      <td>588.15</td>\n",
       "      <td>731.769446</td>\n",
       "    </tr>\n",
       "    <tr>\n",
       "      <th>963</th>\n",
       "      <td>598.15</td>\n",
       "      <td>731.332214</td>\n",
       "    </tr>\n",
       "    <tr>\n",
       "      <th>...</th>\n",
       "      <td>...</td>\n",
       "      <td>...</td>\n",
       "    </tr>\n",
       "    <tr>\n",
       "      <th>1061</th>\n",
       "      <td>699.55</td>\n",
       "      <td>724.711546</td>\n",
       "    </tr>\n",
       "    <tr>\n",
       "      <th>1062</th>\n",
       "      <td>725.25</td>\n",
       "      <td>724.681145</td>\n",
       "    </tr>\n",
       "    <tr>\n",
       "      <th>1063</th>\n",
       "      <td>707.90</td>\n",
       "      <td>724.694174</td>\n",
       "    </tr>\n",
       "    <tr>\n",
       "      <th>1064</th>\n",
       "      <td>713.45</td>\n",
       "      <td>724.734877</td>\n",
       "    </tr>\n",
       "    <tr>\n",
       "      <th>1065</th>\n",
       "      <td>743.40</td>\n",
       "      <td>724.774327</td>\n",
       "    </tr>\n",
       "  </tbody>\n",
       "</table>\n",
       "<p>107 rows × 2 columns</p>\n",
       "</div>"
      ],
      "text/plain": [
       "       close  predictions\n",
       "959   598.80   732.143652\n",
       "960   603.95   731.689234\n",
       "961   601.10   731.683803\n",
       "962   588.15   731.769446\n",
       "963   598.15   731.332214\n",
       "...      ...          ...\n",
       "1061  699.55   724.711546\n",
       "1062  725.25   724.681145\n",
       "1063  707.90   724.694174\n",
       "1064  713.45   724.734877\n",
       "1065  743.40   724.774327\n",
       "\n",
       "[107 rows x 2 columns]"
      ]
     },
     "execution_count": 37,
     "metadata": {},
     "output_type": "execute_result"
    }
   ],
   "source": [
    "dd = pd.DataFrame(true_predictions)\n",
    "cc = pd.DataFrame(test)\n",
    "cc['predictions'] = dd.values\n",
    "cc"
   ]
  },
  {
   "cell_type": "code",
   "execution_count": 38,
   "id": "ef2b5eaf-5fdf-4b89-b6b6-372ec9ab705e",
   "metadata": {},
   "outputs": [
    {
     "data": {
      "text/plain": [
       "<Axes: >"
      ]
     },
     "execution_count": 38,
     "metadata": {},
     "output_type": "execute_result"
    },
    {
     "data": {
      "image/png": "[encoded data removed]",
      "text/plain": [
       "<Figure size 1200x800 with 1 Axes>"
      ]
     },
     "metadata": {},
     "output_type": "display_data"
    }
   ],
   "source": [
    "cc.plot(figsize=(12,8))"
   ]
  },
  {
   "cell_type": "code",
   "execution_count": 39,
   "id": "0a6d8147-a6c4-4906-86ea-ac36567f10f7",
   "metadata": {},
   "outputs": [],
   "source": [
    "forecast = []\n",
    "first_eval_batch = scale_train_data[-length: ]\n",
    "current_batch = first_eval_batch.reshape((1, length, n_features))"
   ]
  },
  {
   "cell_type": "code",
   "execution_count": 40,
   "id": "eae34059-b71a-4ffb-b25a-8653675613ea",
   "metadata": {},
   "outputs": [
    {
     "name": "stdout",
     "output_type": "stream",
     "text": [
      "1/1 [==============================] - 0s 20ms/step\n",
      "current_batch : [[[0.8829664 ]\n",
      "  [0.88907616]\n",
      "  [0.89328979]\n",
      "  [0.87759402]\n",
      "  [0.86484778]\n",
      "  [0.88212367]\n",
      "  [0.89476456]\n",
      "  [0.88939218]\n",
      "  [0.88412514]\n",
      "  [0.90213842]\n",
      "  [0.91140841]\n",
      "  [0.92878963]\n",
      "  [0.9217318 ]\n",
      "  [0.93879701]\n",
      "  [0.9405878 ]]] and current_pred : [[array([0.9426866], dtype=float32)]]\n",
      "1/1 [==============================] - 0s 22ms/step\n",
      "current_batch : [[[0.88907616]\n",
      "  [0.89328979]\n",
      "  [0.87759402]\n",
      "  [0.86484778]\n",
      "  [0.88212367]\n",
      "  [0.89476456]\n",
      "  [0.88939218]\n",
      "  [0.88412514]\n",
      "  [0.90213842]\n",
      "  [0.91140841]\n",
      "  [0.92878963]\n",
      "  [0.9217318 ]\n",
      "  [0.93879701]\n",
      "  [0.9405878 ]\n",
      "  [0.94268662]]] and current_pred : [[array([0.9403729], dtype=float32)]]\n",
      "1/1 [==============================] - 0s 23ms/step\n",
      "current_batch : [[[0.89328979]\n",
      "  [0.87759402]\n",
      "  [0.86484778]\n",
      "  [0.88212367]\n",
      "  [0.89476456]\n",
      "  [0.88939218]\n",
      "  [0.88412514]\n",
      "  [0.90213842]\n",
      "  [0.91140841]\n",
      "  [0.92878963]\n",
      "  [0.9217318 ]\n",
      "  [0.93879701]\n",
      "  [0.9405878 ]\n",
      "  [0.94268662]\n",
      "  [0.94037288]]] and current_pred : [[array([0.9403452], dtype=float32)]]\n",
      "1/1 [==============================] - 0s 22ms/step\n",
      "current_batch : [[[0.87759402]\n",
      "  [0.86484778]\n",
      "  [0.88212367]\n",
      "  [0.89476456]\n",
      "  [0.88939218]\n",
      "  [0.88412514]\n",
      "  [0.90213842]\n",
      "  [0.91140841]\n",
      "  [0.92878963]\n",
      "  [0.9217318 ]\n",
      "  [0.93879701]\n",
      "  [0.9405878 ]\n",
      "  [0.94268662]\n",
      "  [0.94037288]\n",
      "  [0.94034523]]] and current_pred : [[array([0.9407813], dtype=float32)]]\n",
      "1/1 [==============================] - 0s 23ms/step\n",
      "current_batch : [[[0.86484778]\n",
      "  [0.88212367]\n",
      "  [0.89476456]\n",
      "  [0.88939218]\n",
      "  [0.88412514]\n",
      "  [0.90213842]\n",
      "  [0.91140841]\n",
      "  [0.92878963]\n",
      "  [0.9217318 ]\n",
      "  [0.93879701]\n",
      "  [0.9405878 ]\n",
      "  [0.94268662]\n",
      "  [0.94037288]\n",
      "  [0.94034523]\n",
      "  [0.9407813 ]]] and current_pred : [[array([0.93855506], dtype=float32)]]\n",
      "1/1 [==============================] - 0s 24ms/step\n",
      "current_batch : [[[0.88212367]\n",
      "  [0.89476456]\n",
      "  [0.88939218]\n",
      "  [0.88412514]\n",
      "  [0.90213842]\n",
      "  [0.91140841]\n",
      "  [0.92878963]\n",
      "  [0.9217318 ]\n",
      "  [0.93879701]\n",
      "  [0.9405878 ]\n",
      "  [0.94268662]\n",
      "  [0.94037288]\n",
      "  [0.94034523]\n",
      "  [0.9407813 ]\n",
      "  [0.93855506]]] and current_pred : [[array([0.9362619], dtype=float32)]]\n",
      "1/1 [==============================] - 0s 19ms/step\n",
      "current_batch : [[[0.89476456]\n",
      "  [0.88939218]\n",
      "  [0.88412514]\n",
      "  [0.90213842]\n",
      "  [0.91140841]\n",
      "  [0.92878963]\n",
      "  [0.9217318 ]\n",
      "  [0.93879701]\n",
      "  [0.9405878 ]\n",
      "  [0.94268662]\n",
      "  [0.94037288]\n",
      "  [0.94034523]\n",
      "  [0.9407813 ]\n",
      "  [0.93855506]\n",
      "  [0.93626189]]] and current_pred : [[array([0.93806773], dtype=float32)]]\n",
      "1/1 [==============================] - 0s 20ms/step\n",
      "current_batch : [[[0.88939218]\n",
      "  [0.88412514]\n",
      "  [0.90213842]\n",
      "  [0.91140841]\n",
      "  [0.92878963]\n",
      "  [0.9217318 ]\n",
      "  [0.93879701]\n",
      "  [0.9405878 ]\n",
      "  [0.94268662]\n",
      "  [0.94037288]\n",
      "  [0.94034523]\n",
      "  [0.9407813 ]\n",
      "  [0.93855506]\n",
      "  [0.93626189]\n",
      "  [0.93806773]]] and current_pred : [[array([0.93657804], dtype=float32)]]\n",
      "1/1 [==============================] - 0s 21ms/step\n",
      "current_batch : [[[0.88412514]\n",
      "  [0.90213842]\n",
      "  [0.91140841]\n",
      "  [0.92878963]\n",
      "  [0.9217318 ]\n",
      "  [0.93879701]\n",
      "  [0.9405878 ]\n",
      "  [0.94268662]\n",
      "  [0.94037288]\n",
      "  [0.94034523]\n",
      "  [0.9407813 ]\n",
      "  [0.93855506]\n",
      "  [0.93626189]\n",
      "  [0.93806773]\n",
      "  [0.93657804]]] and current_pred : [[array([0.93296844], dtype=float32)]]\n",
      "1/1 [==============================] - 0s 23ms/step\n",
      "current_batch : [[[0.90213842]\n",
      "  [0.91140841]\n",
      "  [0.92878963]\n",
      "  [0.9217318 ]\n",
      "  [0.93879701]\n",
      "  [0.9405878 ]\n",
      "  [0.94268662]\n",
      "  [0.94037288]\n",
      "  [0.94034523]\n",
      "  [0.9407813 ]\n",
      "  [0.93855506]\n",
      "  [0.93626189]\n",
      "  [0.93806773]\n",
      "  [0.93657804]\n",
      "  [0.93296844]]] and current_pred : [[array([0.92557716], dtype=float32)]]\n",
      "1/1 [==============================] - 0s 21ms/step\n",
      "current_batch : [[[0.91140841]\n",
      "  [0.92878963]\n",
      "  [0.9217318 ]\n",
      "  [0.93879701]\n",
      "  [0.9405878 ]\n",
      "  [0.94268662]\n",
      "  [0.94037288]\n",
      "  [0.94034523]\n",
      "  [0.9407813 ]\n",
      "  [0.93855506]\n",
      "  [0.93626189]\n",
      "  [0.93806773]\n",
      "  [0.93657804]\n",
      "  [0.93296844]\n",
      "  [0.92557716]]] and current_pred : [[array([0.92110896], dtype=float32)]]\n",
      "1/1 [==============================] - 0s 33ms/step\n",
      "current_batch : [[[0.92878963]\n",
      "  [0.9217318 ]\n",
      "  [0.93879701]\n",
      "  [0.9405878 ]\n",
      "  [0.94268662]\n",
      "  [0.94037288]\n",
      "  [0.94034523]\n",
      "  [0.9407813 ]\n",
      "  [0.93855506]\n",
      "  [0.93626189]\n",
      "  [0.93806773]\n",
      "  [0.93657804]\n",
      "  [0.93296844]\n",
      "  [0.92557716]\n",
      "  [0.92110896]]] and current_pred : [[array([0.9182262], dtype=float32)]]\n",
      "1/1 [==============================] - 0s 23ms/step\n",
      "current_batch : [[[0.9217318 ]\n",
      "  [0.93879701]\n",
      "  [0.9405878 ]\n",
      "  [0.94268662]\n",
      "  [0.94037288]\n",
      "  [0.94034523]\n",
      "  [0.9407813 ]\n",
      "  [0.93855506]\n",
      "  [0.93626189]\n",
      "  [0.93806773]\n",
      "  [0.93657804]\n",
      "  [0.93296844]\n",
      "  [0.92557716]\n",
      "  [0.92110896]\n",
      "  [0.91822618]]] and current_pred : [[array([0.9161842], dtype=float32)]]\n",
      "1/1 [==============================] - 0s 19ms/step\n",
      "current_batch : [[[0.93879701]\n",
      "  [0.9405878 ]\n",
      "  [0.94268662]\n",
      "  [0.94037288]\n",
      "  [0.94034523]\n",
      "  [0.9407813 ]\n",
      "  [0.93855506]\n",
      "  [0.93626189]\n",
      "  [0.93806773]\n",
      "  [0.93657804]\n",
      "  [0.93296844]\n",
      "  [0.92557716]\n",
      "  [0.92110896]\n",
      "  [0.91822618]\n",
      "  [0.91618419]]] and current_pred : [[array([0.91277486], dtype=float32)]]\n",
      "1/1 [==============================] - 0s 23ms/step\n",
      "current_batch : [[[0.9405878 ]\n",
      "  [0.94268662]\n",
      "  [0.94037288]\n",
      "  [0.94034523]\n",
      "  [0.9407813 ]\n",
      "  [0.93855506]\n",
      "  [0.93626189]\n",
      "  [0.93806773]\n",
      "  [0.93657804]\n",
      "  [0.93296844]\n",
      "  [0.92557716]\n",
      "  [0.92110896]\n",
      "  [0.91822618]\n",
      "  [0.91618419]\n",
      "  [0.91277486]]] and current_pred : [[array([0.9117277], dtype=float32)]]\n",
      "1/1 [==============================] - 0s 26ms/step\n",
      "current_batch : [[[0.94268662]\n",
      "  [0.94037288]\n",
      "  [0.94034523]\n",
      "  [0.9407813 ]\n",
      "  [0.93855506]\n",
      "  [0.93626189]\n",
      "  [0.93806773]\n",
      "  [0.93657804]\n",
      "  [0.93296844]\n",
      "  [0.92557716]\n",
      "  [0.92110896]\n",
      "  [0.91822618]\n",
      "  [0.91618419]\n",
      "  [0.91277486]\n",
      "  [0.91172773]]] and current_pred : [[array([0.91185594], dtype=float32)]]\n",
      "1/1 [==============================] - 0s 23ms/step\n",
      "current_batch : [[[0.94037288]\n",
      "  [0.94034523]\n",
      "  [0.9407813 ]\n",
      "  [0.93855506]\n",
      "  [0.93626189]\n",
      "  [0.93806773]\n",
      "  [0.93657804]\n",
      "  [0.93296844]\n",
      "  [0.92557716]\n",
      "  [0.92110896]\n",
      "  [0.91822618]\n",
      "  [0.91618419]\n",
      "  [0.91277486]\n",
      "  [0.91172773]\n",
      "  [0.91185594]]] and current_pred : [[array([0.9129725], dtype=float32)]]\n",
      "1/1 [==============================] - 0s 24ms/step\n",
      "current_batch : [[[0.94034523]\n",
      "  [0.9407813 ]\n",
      "  [0.93855506]\n",
      "  [0.93626189]\n",
      "  [0.93806773]\n",
      "  [0.93657804]\n",
      "  [0.93296844]\n",
      "  [0.92557716]\n",
      "  [0.92110896]\n",
      "  [0.91822618]\n",
      "  [0.91618419]\n",
      "  [0.91277486]\n",
      "  [0.91172773]\n",
      "  [0.91185594]\n",
      "  [0.91297251]]] and current_pred : [[array([0.9122856], dtype=float32)]]\n",
      "1/1 [==============================] - 0s 21ms/step\n",
      "current_batch : [[[0.9407813 ]\n",
      "  [0.93855506]\n",
      "  [0.93626189]\n",
      "  [0.93806773]\n",
      "  [0.93657804]\n",
      "  [0.93296844]\n",
      "  [0.92557716]\n",
      "  [0.92110896]\n",
      "  [0.91822618]\n",
      "  [0.91618419]\n",
      "  [0.91277486]\n",
      "  [0.91172773]\n",
      "  [0.91185594]\n",
      "  [0.91297251]\n",
      "  [0.91228563]]] and current_pred : [[array([0.9106026], dtype=float32)]]\n",
      "1/1 [==============================] - 0s 27ms/step\n",
      "current_batch : [[[0.93855506]\n",
      "  [0.93626189]\n",
      "  [0.93806773]\n",
      "  [0.93657804]\n",
      "  [0.93296844]\n",
      "  [0.92557716]\n",
      "  [0.92110896]\n",
      "  [0.91822618]\n",
      "  [0.91618419]\n",
      "  [0.91277486]\n",
      "  [0.91172773]\n",
      "  [0.91185594]\n",
      "  [0.91297251]\n",
      "  [0.91228563]\n",
      "  [0.91060263]]] and current_pred : [[array([0.9084447], dtype=float32)]]\n"
     ]
    }
   ],
   "source": [
    "for i in range(20):\n",
    "    current_pred = model.predict(current_batch)[0]\n",
    "    forecast.append(current_pred)\n",
    "    print(f'current_batch : {current_batch[:,1:,:]} and current_pred : {[[current_pred]]}')\n",
    "    current_batch = np.append(current_batch[:,1:,:], [[current_pred]], axis=1)\n",
    "\n"
   ]
  },
  {
   "cell_type": "code",
   "execution_count": 41,
   "id": "14f4e52f-5571-416c-8887-9f890b753763",
   "metadata": {},
   "outputs": [
    {
     "data": {
      "text/plain": [
       "array([732.14365165, 731.68923447, 731.68380272, 731.7694464 ,\n",
       "       731.33221414, 730.88183565, 731.23650301, 730.94392614,\n",
       "       730.23500116, 728.78335495, 727.90579996, 727.33962224,\n",
       "       726.93857431, 726.26898267, 726.06332548, 726.08850584,\n",
       "       726.30780094, 726.17289693, 725.84235637, 725.4185396 ])"
      ]
     },
     "execution_count": 41,
     "metadata": {},
     "output_type": "execute_result"
    }
   ],
   "source": [
    "forecast = scaler.inverse_transform(forecast)\n",
    "forecast.flatten()"
   ]
  },
  {
   "cell_type": "code",
   "execution_count": 42,
   "id": "c2192bb9-ceb1-4eb4-9fe4-702881dad86f",
   "metadata": {},
   "outputs": [
    {
     "data": {
      "text/plain": [
       "1066"
      ]
     },
     "execution_count": 42,
     "metadata": {},
     "output_type": "execute_result"
    }
   ],
   "source": [
    "df_array = np.array(sbin_close)\n",
    "len(df_array)"
   ]
  },
  {
   "cell_type": "code",
   "execution_count": 43,
   "id": "d225f49d-62a1-49cb-ac2d-7dd9dcd4f0ca",
   "metadata": {},
   "outputs": [],
   "source": [
    "full_data = pd.DataFrame(np.concatenate((df_array.flatten(), forecast.flatten())))"
   ]
  },
  {
   "cell_type": "code",
   "execution_count": 44,
   "id": "2d0d0ddb-2ea5-4edc-9219-fa3cee9db30c",
   "metadata": {},
   "outputs": [
    {
     "data": {
      "text/plain": [
       "1086"
      ]
     },
     "execution_count": 44,
     "metadata": {},
     "output_type": "execute_result"
    }
   ],
   "source": [
    "len(full_data)"
   ]
  },
  {
   "cell_type": "code",
   "execution_count": 46,
   "id": "bd502f1e-b3ff-432f-b122-9b406f4ce09f",
   "metadata": {},
   "outputs": [
    {
     "data": {
      "text/plain": [
       "<Axes: >"
      ]
     },
     "execution_count": 46,
     "metadata": {},
     "output_type": "execute_result"
    },
    {
     "data": {
      "image/png": "[encoded data removed]",
      "text/plain": [
       "<Figure size 1200x800 with 1 Axes>"
      ]
     },
     "metadata": {},
     "output_type": "display_data"
    }
   ],
   "source": [
    "full_data[1066:].plot(figsize=(12,8))"
   ]
  },
  {
   "cell_type": "code",
   "execution_count": null,
   "id": "8c32951c-1772-4b0e-b892-92c758087048",
   "metadata": {},
   "outputs": [],
   "source": []
  }
 ],
 "metadata": {
  "kernelspec": {
   "display_name": "Python 3 (ipykernel)",
   "language": "python",
   "name": "python3"
  },
  "language_info": {
   "codemirror_mode": {
    "name": "ipython",
    "version": 3
   },
   "file_extension": ".py",
   "mimetype": "text/x-python",
   "name": "python",
   "nbconvert_exporter": "python",
   "pygments_lexer": "ipython3",
   "version": "3.11.8"
  }
 },
 "nbformat": 4,
 "nbformat_minor": 5
}
