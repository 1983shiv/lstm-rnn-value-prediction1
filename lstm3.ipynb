{
 "cells": [
  {
   "cell_type": "code",
   "execution_count": 1,
   "id": "89aa31b6-2169-4c3e-89e9-30caeaf9f79b",
   "metadata": {},
   "outputs": [
    {
     "name": "stdout",
     "output_type": "stream",
     "text": [
      "WARNING:tensorflow:From D:\\pjobs\\v1\\Lib\\site-packages\\keras\\src\\losses.py:2976: The name tf.losses.sparse_softmax_cross_entropy is deprecated. Please use tf.compat.v1.losses.sparse_softmax_cross_entropy instead.\n",
      "\n"
     ]
    }
   ],
   "source": [
    "import tensorflow as tnfw\n",
    "import os\n",
    "import pandas as pd\n",
    "import numpy as np"
   ]
  },
  {
   "cell_type": "code",
   "execution_count": 2,
   "id": "f6fadcb5-0095-4e6c-b3f4-75c8d50243a7",
   "metadata": {},
   "outputs": [],
   "source": [
    "# data = pd.read_csv(\"sbin.csv\")\n",
    "sbin = pd.read_csv('sbin.csv', parse_dates=True, index_col='date', dayfirst=True)\n",
    "sbin.sort_index(inplace=True)"
   ]
  },
  {
   "cell_type": "code",
   "execution_count": 3,
   "id": "366d731a-c661-4034-accc-4a6ff5dcc883",
   "metadata": {},
   "outputs": [],
   "source": [
    "# data.index = pd.to_datetime(df['date'], format='%d.%m.%Y %H:%M:%S')\n",
    "# data.index = pd.to_datetime(data['date'], format='%d.%m.%Y')\n",
    "# df1 = data.reset_index()['close']\n",
    "# df1"
   ]
  },
  {
   "cell_type": "code",
   "execution_count": 4,
   "id": "054141ef-16e5-411b-98aa-cca38ac4a702",
   "metadata": {},
   "outputs": [
    {
     "data": {
      "text/plain": [
       "Index(['Sr', 'high', 'low', 'open', 'close', 'ltp', 'prev_ltp', 'traded_qty',\n",
       "       'traded_val', '52_high', '52_low', 'total_trades', 'timestamp', 'vwap'],\n",
       "      dtype='object')"
      ]
     },
     "execution_count": 4,
     "metadata": {},
     "output_type": "execute_result"
    }
   ],
   "source": [
    "sbin.columns"
   ]
  },
  {
   "cell_type": "code",
   "execution_count": 5,
   "id": "44f08b0c-4763-4c2c-87a2-3cb6860a148c",
   "metadata": {},
   "outputs": [
    {
     "data": {
      "text/plain": [
       "DatetimeIndex(['2020-01-01', '2020-01-02', '2020-01-03', '2020-01-06',\n",
       "               '2020-01-07', '2020-01-08', '2020-01-09', '2020-01-10',\n",
       "               '2020-01-13', '2020-01-14',\n",
       "               ...\n",
       "               '2024-02-01', '2024-02-02', '2024-02-05', '2024-02-06',\n",
       "               '2024-02-07', '2024-02-08', '2024-02-09', '2024-02-12',\n",
       "               '2024-02-13', '2024-02-14'],\n",
       "              dtype='datetime64[ns]', name='date', length=1066, freq=None)"
      ]
     },
     "execution_count": 5,
     "metadata": {},
     "output_type": "execute_result"
    }
   ],
   "source": [
    "sbin.index"
   ]
  },
  {
   "cell_type": "code",
   "execution_count": 6,
   "id": "af0de3b8-91b5-4a29-8002-b6ad5722b6da",
   "metadata": {},
   "outputs": [
    {
     "name": "stdout",
     "output_type": "stream",
     "text": [
      "<class 'pandas.core.frame.DataFrame'>\n",
      "DatetimeIndex: 1066 entries, 2020-01-01 to 2024-02-14\n",
      "Data columns (total 14 columns):\n",
      " #   Column        Non-Null Count  Dtype  \n",
      "---  ------        --------------  -----  \n",
      " 0   Sr            1066 non-null   int64  \n",
      " 1   high          1066 non-null   float64\n",
      " 2   low           1066 non-null   float64\n",
      " 3   open          1066 non-null   float64\n",
      " 4   close         1066 non-null   float64\n",
      " 5   ltp           1066 non-null   float64\n",
      " 6   prev_ltp      1066 non-null   float64\n",
      " 7   traded_qty    1066 non-null   int64  \n",
      " 8   traded_val    1066 non-null   int64  \n",
      " 9   52_high       1066 non-null   float64\n",
      " 10  52_low        1066 non-null   float64\n",
      " 11  total_trades  1066 non-null   int64  \n",
      " 12  timestamp     1066 non-null   object \n",
      " 13  vwap          1066 non-null   float64\n",
      "dtypes: float64(9), int64(4), object(1)\n",
      "memory usage: 124.9+ KB\n"
     ]
    }
   ],
   "source": [
    "sbin.info()"
   ]
  },
  {
   "cell_type": "code",
   "execution_count": 7,
   "id": "5e513683-eacd-4686-94f0-39c89cccdbb6",
   "metadata": {},
   "outputs": [
    {
     "data": {
      "text/html": [
       "<div>\n",
       "<style scoped>\n",
       "    .dataframe tbody tr th:only-of-type {\n",
       "        vertical-align: middle;\n",
       "    }\n",
       "\n",
       "    .dataframe tbody tr th {\n",
       "        vertical-align: top;\n",
       "    }\n",
       "\n",
       "    .dataframe thead th {\n",
       "        text-align: right;\n",
       "    }\n",
       "</style>\n",
       "<table border=\"1\" class=\"dataframe\">\n",
       "  <thead>\n",
       "    <tr style=\"text-align: right;\">\n",
       "      <th></th>\n",
       "      <th>Sr</th>\n",
       "      <th>high</th>\n",
       "      <th>low</th>\n",
       "      <th>open</th>\n",
       "      <th>close</th>\n",
       "      <th>ltp</th>\n",
       "      <th>prev_ltp</th>\n",
       "      <th>traded_qty</th>\n",
       "      <th>traded_val</th>\n",
       "      <th>52_high</th>\n",
       "      <th>52_low</th>\n",
       "      <th>total_trades</th>\n",
       "      <th>vwap</th>\n",
       "    </tr>\n",
       "  </thead>\n",
       "  <tbody>\n",
       "    <tr>\n",
       "      <th>count</th>\n",
       "      <td>1066.000000</td>\n",
       "      <td>1066.000000</td>\n",
       "      <td>1066.000000</td>\n",
       "      <td>1066.000000</td>\n",
       "      <td>1066.000000</td>\n",
       "      <td>1066.000000</td>\n",
       "      <td>1066.000000</td>\n",
       "      <td>1.066000e+03</td>\n",
       "      <td>1.066000e+03</td>\n",
       "      <td>1066.000000</td>\n",
       "      <td>1066.000000</td>\n",
       "      <td>1.066000e+03</td>\n",
       "      <td>1066.000000</td>\n",
       "    </tr>\n",
       "    <tr>\n",
       "      <th>mean</th>\n",
       "      <td>532.500000</td>\n",
       "      <td>443.420544</td>\n",
       "      <td>432.685835</td>\n",
       "      <td>438.417871</td>\n",
       "      <td>437.983161</td>\n",
       "      <td>438.040666</td>\n",
       "      <td>437.616463</td>\n",
       "      <td>3.205197e+07</td>\n",
       "      <td>1.130472e+10</td>\n",
       "      <td>505.778846</td>\n",
       "      <td>302.140947</td>\n",
       "      <td>2.628561e+05</td>\n",
       "      <td>438.165310</td>\n",
       "    </tr>\n",
       "    <tr>\n",
       "      <th>std</th>\n",
       "      <td>307.871997</td>\n",
       "      <td>146.328398</td>\n",
       "      <td>145.101099</td>\n",
       "      <td>145.666980</td>\n",
       "      <td>145.751996</td>\n",
       "      <td>145.729584</td>\n",
       "      <td>145.529714</td>\n",
       "      <td>2.723690e+07</td>\n",
       "      <td>7.206985e+09</td>\n",
       "      <td>110.743105</td>\n",
       "      <td>134.409538</td>\n",
       "      <td>1.304108e+05</td>\n",
       "      <td>145.725506</td>\n",
       "    </tr>\n",
       "    <tr>\n",
       "      <th>min</th>\n",
       "      <td>0.000000</td>\n",
       "      <td>153.200000</td>\n",
       "      <td>149.450000</td>\n",
       "      <td>151.950000</td>\n",
       "      <td>150.850000</td>\n",
       "      <td>151.100000</td>\n",
       "      <td>150.850000</td>\n",
       "      <td>1.947722e+06</td>\n",
       "      <td>1.133273e+09</td>\n",
       "      <td>331.900000</td>\n",
       "      <td>149.450000</td>\n",
       "      <td>5.393500e+04</td>\n",
       "      <td>151.820000</td>\n",
       "    </tr>\n",
       "    <tr>\n",
       "      <th>25%</th>\n",
       "      <td>266.250000</td>\n",
       "      <td>324.000000</td>\n",
       "      <td>317.250000</td>\n",
       "      <td>321.162500</td>\n",
       "      <td>320.350000</td>\n",
       "      <td>320.200000</td>\n",
       "      <td>319.100000</td>\n",
       "      <td>1.327810e+07</td>\n",
       "      <td>6.937396e+09</td>\n",
       "      <td>373.800000</td>\n",
       "      <td>160.850000</td>\n",
       "      <td>1.740700e+05</td>\n",
       "      <td>320.200000</td>\n",
       "    </tr>\n",
       "    <tr>\n",
       "      <th>50%</th>\n",
       "      <td>532.500000</td>\n",
       "      <td>479.750000</td>\n",
       "      <td>467.750000</td>\n",
       "      <td>473.200000</td>\n",
       "      <td>473.850000</td>\n",
       "      <td>473.975000</td>\n",
       "      <td>472.900000</td>\n",
       "      <td>2.122441e+07</td>\n",
       "      <td>9.467993e+09</td>\n",
       "      <td>542.300000</td>\n",
       "      <td>269.500000</td>\n",
       "      <td>2.294010e+05</td>\n",
       "      <td>474.040000</td>\n",
       "    </tr>\n",
       "    <tr>\n",
       "      <th>75%</th>\n",
       "      <td>798.750000</td>\n",
       "      <td>568.412500</td>\n",
       "      <td>559.512500</td>\n",
       "      <td>564.900000</td>\n",
       "      <td>564.275000</td>\n",
       "      <td>563.875000</td>\n",
       "      <td>563.587500</td>\n",
       "      <td>4.332273e+07</td>\n",
       "      <td>1.354199e+10</td>\n",
       "      <td>629.550000</td>\n",
       "      <td>425.000000</td>\n",
       "      <td>3.088008e+05</td>\n",
       "      <td>563.915000</td>\n",
       "    </tr>\n",
       "    <tr>\n",
       "      <th>max</th>\n",
       "      <td>1065.000000</td>\n",
       "      <td>748.500000</td>\n",
       "      <td>705.550000</td>\n",
       "      <td>726.000000</td>\n",
       "      <td>743.400000</td>\n",
       "      <td>743.000000</td>\n",
       "      <td>725.250000</td>\n",
       "      <td>2.149557e+08</td>\n",
       "      <td>8.549083e+10</td>\n",
       "      <td>748.500000</td>\n",
       "      <td>501.550000</td>\n",
       "      <td>1.155236e+06</td>\n",
       "      <td>730.540000</td>\n",
       "    </tr>\n",
       "  </tbody>\n",
       "</table>\n",
       "</div>"
      ],
      "text/plain": [
       "                Sr         high          low         open        close  \\\n",
       "count  1066.000000  1066.000000  1066.000000  1066.000000  1066.000000   \n",
       "mean    532.500000   443.420544   432.685835   438.417871   437.983161   \n",
       "std     307.871997   146.328398   145.101099   145.666980   145.751996   \n",
       "min       0.000000   153.200000   149.450000   151.950000   150.850000   \n",
       "25%     266.250000   324.000000   317.250000   321.162500   320.350000   \n",
       "50%     532.500000   479.750000   467.750000   473.200000   473.850000   \n",
       "75%     798.750000   568.412500   559.512500   564.900000   564.275000   \n",
       "max    1065.000000   748.500000   705.550000   726.000000   743.400000   \n",
       "\n",
       "               ltp     prev_ltp    traded_qty    traded_val      52_high  \\\n",
       "count  1066.000000  1066.000000  1.066000e+03  1.066000e+03  1066.000000   \n",
       "mean    438.040666   437.616463  3.205197e+07  1.130472e+10   505.778846   \n",
       "std     145.729584   145.529714  2.723690e+07  7.206985e+09   110.743105   \n",
       "min     151.100000   150.850000  1.947722e+06  1.133273e+09   331.900000   \n",
       "25%     320.200000   319.100000  1.327810e+07  6.937396e+09   373.800000   \n",
       "50%     473.975000   472.900000  2.122441e+07  9.467993e+09   542.300000   \n",
       "75%     563.875000   563.587500  4.332273e+07  1.354199e+10   629.550000   \n",
       "max     743.000000   725.250000  2.149557e+08  8.549083e+10   748.500000   \n",
       "\n",
       "            52_low  total_trades         vwap  \n",
       "count  1066.000000  1.066000e+03  1066.000000  \n",
       "mean    302.140947  2.628561e+05   438.165310  \n",
       "std     134.409538  1.304108e+05   145.725506  \n",
       "min     149.450000  5.393500e+04   151.820000  \n",
       "25%     160.850000  1.740700e+05   320.200000  \n",
       "50%     269.500000  2.294010e+05   474.040000  \n",
       "75%     425.000000  3.088008e+05   563.915000  \n",
       "max     501.550000  1.155236e+06   730.540000  "
      ]
     },
     "execution_count": 7,
     "metadata": {},
     "output_type": "execute_result"
    }
   ],
   "source": [
    "sbin.describe()"
   ]
  },
  {
   "cell_type": "code",
   "execution_count": 8,
   "id": "de9f61f6-7d5b-4fa8-89bd-6df582edd2b9",
   "metadata": {},
   "outputs": [
    {
     "data": {
      "text/plain": [
       "<Axes: xlabel='date'>"
      ]
     },
     "execution_count": 8,
     "metadata": {},
     "output_type": "execute_result"
    },
    {
     "data": {
      "image/png": "[encoded data removed]",
      "text/plain": [
       "<Figure size 640x480 with 1 Axes>"
      ]
     },
     "metadata": {},
     "output_type": "display_data"
    }
   ],
   "source": [
    "target_column = sbin['close']\n",
    "target_column.plot()"
   ]
  },
  {
   "cell_type": "code",
   "execution_count": 9,
   "id": "83780fce-1343-48dc-89c9-b0d2ceda5f7d",
   "metadata": {},
   "outputs": [],
   "source": [
    "# [[[1], [2], [3], [4], [5]]] [6]\n",
    "# [[[2], [3], [4], [5], [6]]] [7]\n",
    "# [[[3], [4], [5], [6], [7]]] [8]\n",
    "\n",
    "def df_to_X_y(df, window_size=5):\n",
    "  df_as_np = df.to_numpy()\n",
    "  X = []\n",
    "  y = []\n",
    "  for i in range(len(df_as_np)-window_size):\n",
    "    row = [[a] for a in df_as_np[i:i+window_size]]\n",
    "    X.append(row)\n",
    "    label = df_as_np[i+window_size]\n",
    "    y.append(label)\n",
    "  return np.array(X), np.array(y)"
   ]
  },
  {
   "cell_type": "code",
   "execution_count": 10,
   "id": "3349f635-7c80-443c-b443-16efffbdfc72",
   "metadata": {},
   "outputs": [
    {
     "data": {
      "text/plain": [
       "((1061, 5, 1), (1061,))"
      ]
     },
     "execution_count": 10,
     "metadata": {},
     "output_type": "execute_result"
    }
   ],
   "source": [
    "WINDOW_SIZE = 5\n",
    "X1, y1 = df_to_X_y(target_column, WINDOW_SIZE)\n",
    "X1.shape, y1.shape"
   ]
  },
  {
   "cell_type": "code",
   "execution_count": 11,
   "id": "dfea42fe-8810-4ce0-aa36-5e95b908f0e6",
   "metadata": {},
   "outputs": [
    {
     "data": {
      "text/plain": [
       "((700, 5, 1), (700,), (99, 5, 1), (99,), (260, 5, 1), (260,))"
      ]
     },
     "execution_count": 11,
     "metadata": {},
     "output_type": "execute_result"
    }
   ],
   "source": [
    "X_train1, y_train1 = X1[:700], y1[:700]\n",
    "X_val1, y_val1 = X1[701:800], y1[701:800]\n",
    "X_test1, y_test1 = X1[801:], y1[801:]\n",
    "X_train1.shape, y_train1.shape, X_val1.shape, y_val1.shape, X_test1.shape, y_test1.shape"
   ]
  },
  {
   "cell_type": "code",
   "execution_count": 12,
   "id": "e73c236a-ed85-425c-9c8e-da3c5326d650",
   "metadata": {},
   "outputs": [
    {
     "name": "stdout",
     "output_type": "stream",
     "text": [
      "WARNING:tensorflow:From D:\\pjobs\\v1\\Lib\\site-packages\\keras\\src\\backend.py:873: The name tf.get_default_graph is deprecated. Please use tf.compat.v1.get_default_graph instead.\n",
      "\n",
      "Model: \"sequential\"\n",
      "_________________________________________________________________\n",
      " Layer (type)                Output Shape              Param #   \n",
      "=================================================================\n",
      " lstm (LSTM)                 (None, 64)                16896     \n",
      "                                                                 \n",
      " dense (Dense)               (None, 8)                 520       \n",
      "                                                                 \n",
      " dense_1 (Dense)             (None, 1)                 9         \n",
      "                                                                 \n",
      "=================================================================\n",
      "Total params: 17425 (68.07 KB)\n",
      "Trainable params: 17425 (68.07 KB)\n",
      "Non-trainable params: 0 (0.00 Byte)\n",
      "_________________________________________________________________\n"
     ]
    }
   ],
   "source": [
    "from tensorflow.keras.models import Sequential\n",
    "from tensorflow.keras.layers import *\n",
    "from tensorflow.keras.callbacks import ModelCheckpoint\n",
    "from tensorflow.keras.losses import MeanSquaredError\n",
    "from tensorflow.keras.metrics import RootMeanSquaredError\n",
    "from tensorflow.keras.optimizers import Adam\n",
    "\n",
    "model1 = Sequential()\n",
    "model1.add(InputLayer((5, 1)))\n",
    "model1.add(LSTM(64))\n",
    "model1.add(Dense(8, 'relu'))\n",
    "model1.add(Dense(1, 'linear'))\n",
    "\n",
    "model1.summary()"
   ]
  },
  {
   "cell_type": "code",
   "execution_count": 21,
   "id": "54c3a654-5587-424b-8fb2-5136d1d65184",
   "metadata": {},
   "outputs": [],
   "source": [
    "cp1 = ModelCheckpoint('model1/', save_best_only=True)\n",
    "model1.compile(loss=MeanSquaredError(), optimizer=Adam(learning_rate=0.002), metrics=[RootMeanSquaredError()])"
   ]
  },
  {
   "cell_type": "code",
   "execution_count": 22,
   "id": "a212746d-9ba4-4641-95b5-a4d54aa81127",
   "metadata": {},
   "outputs": [
    {
     "name": "stdout",
     "output_type": "stream",
     "text": [
      "Epoch 1/30\n",
      "18/22 [=======================>......] - ETA: 0s - loss: 15359.8262 - root_mean_squared_error: 123.9348INFO:tensorflow:Assets written to: model1\\assets\n"
     ]
    },
    {
     "name": "stderr",
     "output_type": "stream",
     "text": [
      "INFO:tensorflow:Assets written to: model1\\assets\n"
     ]
    },
    {
     "name": "stdout",
     "output_type": "stream",
     "text": [
      "22/22 [==============================] - 5s 156ms/step - loss: 15500.8076 - root_mean_squared_error: 124.5022 - val_loss: 45111.8281 - val_root_mean_squared_error: 212.3954\n",
      "Epoch 2/30\n",
      "22/22 [==============================] - 0s 8ms/step - loss: 15355.6074 - root_mean_squared_error: 123.9177 - val_loss: 47339.5742 - val_root_mean_squared_error: 217.5766\n",
      "Epoch 3/30\n",
      "22/22 [==============================] - 0s 10ms/step - loss: 15318.8828 - root_mean_squared_error: 123.7695 - val_loss: 47571.3398 - val_root_mean_squared_error: 218.1086\n",
      "Epoch 4/30\n",
      "22/22 [==============================] - 0s 8ms/step - loss: 15274.5898 - root_mean_squared_error: 123.5904 - val_loss: 47967.8242 - val_root_mean_squared_error: 219.0156\n",
      "Epoch 5/30\n",
      "22/22 [==============================] - 0s 8ms/step - loss: 15012.2354 - root_mean_squared_error: 122.5244 - val_loss: 48224.5117 - val_root_mean_squared_error: 219.6008\n",
      "Epoch 6/30\n",
      "22/22 [==============================] - 0s 7ms/step - loss: 14632.8398 - root_mean_squared_error: 120.9663 - val_loss: 47717.5703 - val_root_mean_squared_error: 218.4435\n",
      "Epoch 7/30\n",
      "22/22 [==============================] - 0s 8ms/step - loss: 14211.3203 - root_mean_squared_error: 119.2112 - val_loss: 46181.6523 - val_root_mean_squared_error: 214.8992\n",
      "Epoch 8/30\n",
      "22/22 [==============================] - 0s 8ms/step - loss: 13870.0947 - root_mean_squared_error: 117.7714 - val_loss: 45302.7539 - val_root_mean_squared_error: 212.8444\n",
      "Epoch 9/30\n",
      "22/22 [==============================] - ETA: 0s - loss: 13433.9658 - root_mean_squared_error: 115.9050INFO:tensorflow:Assets written to: model1\\assets\n"
     ]
    },
    {
     "name": "stderr",
     "output_type": "stream",
     "text": [
      "INFO:tensorflow:Assets written to: model1\\assets\n"
     ]
    },
    {
     "name": "stdout",
     "output_type": "stream",
     "text": [
      "22/22 [==============================] - 4s 168ms/step - loss: 13433.9658 - root_mean_squared_error: 115.9050 - val_loss: 44153.5195 - val_root_mean_squared_error: 210.1274\n",
      "Epoch 10/30\n",
      "18/22 [=======================>......] - ETA: 0s - loss: 13046.4219 - root_mean_squared_error: 114.2209INFO:tensorflow:Assets written to: model1\\assets\n"
     ]
    },
    {
     "name": "stderr",
     "output_type": "stream",
     "text": [
      "INFO:tensorflow:Assets written to: model1\\assets\n"
     ]
    },
    {
     "name": "stdout",
     "output_type": "stream",
     "text": [
      "22/22 [==============================] - 3s 160ms/step - loss: 12915.3828 - root_mean_squared_error: 113.6459 - val_loss: 43487.1016 - val_root_mean_squared_error: 208.5356\n",
      "Epoch 11/30\n",
      "19/22 [========================>.....] - ETA: 0s - loss: 12592.7061 - root_mean_squared_error: 112.2172INFO:tensorflow:Assets written to: model1\\assets\n"
     ]
    },
    {
     "name": "stderr",
     "output_type": "stream",
     "text": [
      "INFO:tensorflow:Assets written to: model1\\assets\n"
     ]
    },
    {
     "name": "stdout",
     "output_type": "stream",
     "text": [
      "22/22 [==============================] - 4s 175ms/step - loss: 12467.8740 - root_mean_squared_error: 111.6596 - val_loss: 42512.0742 - val_root_mean_squared_error: 206.1846\n",
      "Epoch 12/30\n",
      "19/22 [========================>.....] - ETA: 0s - loss: 12066.5771 - root_mean_squared_error: 109.8480INFO:tensorflow:Assets written to: model1\\assets\n"
     ]
    },
    {
     "name": "stderr",
     "output_type": "stream",
     "text": [
      "INFO:tensorflow:Assets written to: model1\\assets\n"
     ]
    },
    {
     "name": "stdout",
     "output_type": "stream",
     "text": [
      "22/22 [==============================] - 4s 191ms/step - loss: 12059.7285 - root_mean_squared_error: 109.8168 - val_loss: 41197.7461 - val_root_mean_squared_error: 202.9723\n",
      "Epoch 13/30\n",
      "19/22 [========================>.....] - ETA: 0s - loss: 11859.5957 - root_mean_squared_error: 108.9018INFO:tensorflow:Assets written to: model1\\assets\n"
     ]
    },
    {
     "name": "stderr",
     "output_type": "stream",
     "text": [
      "INFO:tensorflow:Assets written to: model1\\assets\n"
     ]
    },
    {
     "name": "stdout",
     "output_type": "stream",
     "text": [
      "22/22 [==============================] - 4s 175ms/step - loss: 11693.1143 - root_mean_squared_error: 108.1347 - val_loss: 40733.2305 - val_root_mean_squared_error: 201.8248\n",
      "Epoch 14/30\n",
      "22/22 [==============================] - ETA: 0s - loss: 11343.1650 - root_mean_squared_error: 106.5043INFO:tensorflow:Assets written to: model1\\assets\n"
     ]
    },
    {
     "name": "stderr",
     "output_type": "stream",
     "text": [
      "INFO:tensorflow:Assets written to: model1\\assets\n"
     ]
    },
    {
     "name": "stdout",
     "output_type": "stream",
     "text": [
      "22/22 [==============================] - 3s 155ms/step - loss: 11343.1650 - root_mean_squared_error: 106.5043 - val_loss: 39783.4180 - val_root_mean_squared_error: 199.4578\n",
      "Epoch 15/30\n",
      "19/22 [========================>.....] - ETA: 0s - loss: 11207.0117 - root_mean_squared_error: 105.8632INFO:tensorflow:Assets written to: model1\\assets\n"
     ]
    },
    {
     "name": "stderr",
     "output_type": "stream",
     "text": [
      "INFO:tensorflow:Assets written to: model1\\assets\n"
     ]
    },
    {
     "name": "stdout",
     "output_type": "stream",
     "text": [
      "22/22 [==============================] - 3s 158ms/step - loss: 11046.0381 - root_mean_squared_error: 105.1001 - val_loss: 38702.3750 - val_root_mean_squared_error: 196.7292\n",
      "Epoch 16/30\n",
      "18/22 [=======================>......] - ETA: 0s - loss: 10904.9414 - root_mean_squared_error: 104.4267INFO:tensorflow:Assets written to: model1\\assets\n"
     ]
    },
    {
     "name": "stderr",
     "output_type": "stream",
     "text": [
      "INFO:tensorflow:Assets written to: model1\\assets\n"
     ]
    },
    {
     "name": "stdout",
     "output_type": "stream",
     "text": [
      "22/22 [==============================] - 4s 194ms/step - loss: 10793.8389 - root_mean_squared_error: 103.8934 - val_loss: 38069.5391 - val_root_mean_squared_error: 195.1142\n",
      "Epoch 17/30\n",
      "19/22 [========================>.....] - ETA: 0s - loss: 10551.9521 - root_mean_squared_error: 102.7227INFO:tensorflow:Assets written to: model1\\assets\n"
     ]
    },
    {
     "name": "stderr",
     "output_type": "stream",
     "text": [
      "INFO:tensorflow:Assets written to: model1\\assets\n"
     ]
    },
    {
     "name": "stdout",
     "output_type": "stream",
     "text": [
      "22/22 [==============================] - 3s 155ms/step - loss: 10450.0400 - root_mean_squared_error: 102.2254 - val_loss: 37821.9453 - val_root_mean_squared_error: 194.4787\n",
      "Epoch 18/30\n",
      "18/22 [=======================>......] - ETA: 0s - loss: 9888.9307 - root_mean_squared_error: 99.4431INFO:tensorflow:Assets written to: model1\\assets\n"
     ]
    },
    {
     "name": "stderr",
     "output_type": "stream",
     "text": [
      "INFO:tensorflow:Assets written to: model1\\assets\n"
     ]
    },
    {
     "name": "stdout",
     "output_type": "stream",
     "text": [
      "22/22 [==============================] - 3s 152ms/step - loss: 10119.2764 - root_mean_squared_error: 100.5946 - val_loss: 37474.4883 - val_root_mean_squared_error: 193.5833\n",
      "Epoch 19/30\n",
      "17/22 [======================>.......] - ETA: 0s - loss: 9986.0303 - root_mean_squared_error: 99.9301  INFO:tensorflow:Assets written to: model1\\assets\n"
     ]
    },
    {
     "name": "stderr",
     "output_type": "stream",
     "text": [
      "INFO:tensorflow:Assets written to: model1\\assets\n"
     ]
    },
    {
     "name": "stdout",
     "output_type": "stream",
     "text": [
      "22/22 [==============================] - 4s 178ms/step - loss: 9661.6895 - root_mean_squared_error: 98.2939 - val_loss: 37010.0508 - val_root_mean_squared_error: 192.3800\n",
      "Epoch 20/30\n",
      "20/22 [==========================>...] - ETA: 0s - loss: 9416.6123 - root_mean_squared_error: 97.0392INFO:tensorflow:Assets written to: model1\\assets\n"
     ]
    },
    {
     "name": "stderr",
     "output_type": "stream",
     "text": [
      "INFO:tensorflow:Assets written to: model1\\assets\n"
     ]
    },
    {
     "name": "stdout",
     "output_type": "stream",
     "text": [
      "22/22 [==============================] - 3s 152ms/step - loss: 9319.5039 - root_mean_squared_error: 96.5376 - val_loss: 34898.9688 - val_root_mean_squared_error: 186.8127\n",
      "Epoch 21/30\n",
      "22/22 [==============================] - 0s 8ms/step - loss: 8993.6182 - root_mean_squared_error: 94.8347 - val_loss: 35024.7461 - val_root_mean_squared_error: 187.1490\n",
      "Epoch 22/30\n",
      "22/22 [==============================] - 0s 8ms/step - loss: 8764.4385 - root_mean_squared_error: 93.6186 - val_loss: 35053.3242 - val_root_mean_squared_error: 187.2253\n",
      "Epoch 23/30\n",
      "20/22 [==========================>...] - ETA: 0s - loss: 8384.1475 - root_mean_squared_error: 91.5650INFO:tensorflow:Assets written to: model1\\assets\n"
     ]
    },
    {
     "name": "stderr",
     "output_type": "stream",
     "text": [
      "INFO:tensorflow:Assets written to: model1\\assets\n"
     ]
    },
    {
     "name": "stdout",
     "output_type": "stream",
     "text": [
      "22/22 [==============================] - 3s 154ms/step - loss: 8457.4531 - root_mean_squared_error: 91.9644 - val_loss: 33579.8359 - val_root_mean_squared_error: 183.2480\n",
      "Epoch 24/30\n",
      "18/22 [=======================>......] - ETA: 0s - loss: 8390.2012 - root_mean_squared_error: 91.5980INFO:tensorflow:Assets written to: model1\\assets\n"
     ]
    },
    {
     "name": "stderr",
     "output_type": "stream",
     "text": [
      "INFO:tensorflow:Assets written to: model1\\assets\n"
     ]
    },
    {
     "name": "stdout",
     "output_type": "stream",
     "text": [
      "22/22 [==============================] - 3s 163ms/step - loss: 8285.0625 - root_mean_squared_error: 91.0223 - val_loss: 33501.0586 - val_root_mean_squared_error: 183.0329\n",
      "Epoch 25/30\n",
      "22/22 [==============================] - ETA: 0s - loss: 7859.0752 - root_mean_squared_error: 88.6514INFO:tensorflow:Assets written to: model1\\assets\n"
     ]
    },
    {
     "name": "stderr",
     "output_type": "stream",
     "text": [
      "INFO:tensorflow:Assets written to: model1\\assets\n"
     ]
    },
    {
     "name": "stdout",
     "output_type": "stream",
     "text": [
      "22/22 [==============================] - 4s 169ms/step - loss: 7859.0752 - root_mean_squared_error: 88.6514 - val_loss: 32089.5430 - val_root_mean_squared_error: 179.1355\n",
      "Epoch 26/30\n",
      "19/22 [========================>.....] - ETA: 0s - loss: 7413.0952 - root_mean_squared_error: 86.0993INFO:tensorflow:Assets written to: model1\\assets\n"
     ]
    },
    {
     "name": "stderr",
     "output_type": "stream",
     "text": [
      "INFO:tensorflow:Assets written to: model1\\assets\n"
     ]
    },
    {
     "name": "stdout",
     "output_type": "stream",
     "text": [
      "22/22 [==============================] - 3s 161ms/step - loss: 7348.0391 - root_mean_squared_error: 85.7207 - val_loss: 30946.2598 - val_root_mean_squared_error: 175.9155\n",
      "Epoch 27/30\n",
      "12/22 [===============>..............] - ETA: 0s - loss: 7037.9868 - root_mean_squared_error: 83.8927INFO:tensorflow:Assets written to: model1\\assets\n"
     ]
    },
    {
     "name": "stderr",
     "output_type": "stream",
     "text": [
      "INFO:tensorflow:Assets written to: model1\\assets\n"
     ]
    },
    {
     "name": "stdout",
     "output_type": "stream",
     "text": [
      "22/22 [==============================] - 3s 156ms/step - loss: 6927.2607 - root_mean_squared_error: 83.2302 - val_loss: 30008.9375 - val_root_mean_squared_error: 173.2309\n",
      "Epoch 28/30\n",
      "20/22 [==========================>...] - ETA: 0s - loss: 6431.9976 - root_mean_squared_error: 80.1997INFO:tensorflow:Assets written to: model1\\assets\n"
     ]
    },
    {
     "name": "stderr",
     "output_type": "stream",
     "text": [
      "INFO:tensorflow:Assets written to: model1\\assets\n"
     ]
    },
    {
     "name": "stdout",
     "output_type": "stream",
     "text": [
      "22/22 [==============================] - 4s 170ms/step - loss: 6443.7812 - root_mean_squared_error: 80.2732 - val_loss: 28395.0508 - val_root_mean_squared_error: 168.5083\n",
      "Epoch 29/30\n",
      "21/22 [===========================>..] - ETA: 0s - loss: 6137.4453 - root_mean_squared_error: 78.3419INFO:tensorflow:Assets written to: model1\\assets\n"
     ]
    },
    {
     "name": "stderr",
     "output_type": "stream",
     "text": [
      "INFO:tensorflow:Assets written to: model1\\assets\n"
     ]
    },
    {
     "name": "stdout",
     "output_type": "stream",
     "text": [
      "22/22 [==============================] - 3s 145ms/step - loss: 6160.2529 - root_mean_squared_error: 78.4873 - val_loss: 27498.7695 - val_root_mean_squared_error: 165.8275\n",
      "Epoch 30/30\n",
      "22/22 [==============================] - ETA: 0s - loss: 5916.4941 - root_mean_squared_error: 76.9187INFO:tensorflow:Assets written to: model1\\assets\n"
     ]
    },
    {
     "name": "stderr",
     "output_type": "stream",
     "text": [
      "INFO:tensorflow:Assets written to: model1\\assets\n"
     ]
    },
    {
     "name": "stdout",
     "output_type": "stream",
     "text": [
      "22/22 [==============================] - 3s 159ms/step - loss: 5916.4941 - root_mean_squared_error: 76.9187 - val_loss: 26673.3027 - val_root_mean_squared_error: 163.3196\n"
     ]
    },
    {
     "data": {
      "text/plain": [
       "<keras.src.callbacks.History at 0x230253c9650>"
      ]
     },
     "execution_count": 22,
     "metadata": {},
     "output_type": "execute_result"
    }
   ],
   "source": [
    "model1.fit(X_train1, y_train1, validation_data=(X_val1, y_val1), epochs=30, callbacks=[cp1])"
   ]
  },
  {
   "cell_type": "code",
   "execution_count": 23,
   "id": "a3cee525-14c0-4375-8da8-e284c51dde70",
   "metadata": {},
   "outputs": [],
   "source": [
    "from tensorflow.keras.models import load_model\n",
    "model1 = load_model('model1/')"
   ]
  },
  {
   "cell_type": "code",
   "execution_count": 24,
   "id": "ab35b65c-5085-4623-be23-3872ca2c5006",
   "metadata": {},
   "outputs": [
    {
     "name": "stdout",
     "output_type": "stream",
     "text": [
      "22/22 [==============================] - 1s 3ms/step\n"
     ]
    },
    {
     "data": {
      "text/html": [
       "<div>\n",
       "<style scoped>\n",
       "    .dataframe tbody tr th:only-of-type {\n",
       "        vertical-align: middle;\n",
       "    }\n",
       "\n",
       "    .dataframe tbody tr th {\n",
       "        vertical-align: top;\n",
       "    }\n",
       "\n",
       "    .dataframe thead th {\n",
       "        text-align: right;\n",
       "    }\n",
       "</style>\n",
       "<table border=\"1\" class=\"dataframe\">\n",
       "  <thead>\n",
       "    <tr style=\"text-align: right;\">\n",
       "      <th></th>\n",
       "      <th>Train Predictions</th>\n",
       "      <th>Actuals</th>\n",
       "    </tr>\n",
       "  </thead>\n",
       "  <tbody>\n",
       "    <tr>\n",
       "      <th>0</th>\n",
       "      <td>330.495422</td>\n",
       "      <td>319.80</td>\n",
       "    </tr>\n",
       "    <tr>\n",
       "      <th>1</th>\n",
       "      <td>329.155151</td>\n",
       "      <td>330.20</td>\n",
       "    </tr>\n",
       "    <tr>\n",
       "      <th>2</th>\n",
       "      <td>329.429199</td>\n",
       "      <td>332.25</td>\n",
       "    </tr>\n",
       "    <tr>\n",
       "      <th>3</th>\n",
       "      <td>330.236877</td>\n",
       "      <td>330.75</td>\n",
       "    </tr>\n",
       "    <tr>\n",
       "      <th>4</th>\n",
       "      <td>331.757965</td>\n",
       "      <td>328.00</td>\n",
       "    </tr>\n",
       "    <tr>\n",
       "      <th>...</th>\n",
       "      <td>...</td>\n",
       "      <td>...</td>\n",
       "    </tr>\n",
       "    <tr>\n",
       "      <th>695</th>\n",
       "      <td>420.760834</td>\n",
       "      <td>553.35</td>\n",
       "    </tr>\n",
       "    <tr>\n",
       "      <th>696</th>\n",
       "      <td>420.772339</td>\n",
       "      <td>554.90</td>\n",
       "    </tr>\n",
       "    <tr>\n",
       "      <th>697</th>\n",
       "      <td>420.779968</td>\n",
       "      <td>558.00</td>\n",
       "    </tr>\n",
       "    <tr>\n",
       "      <th>698</th>\n",
       "      <td>420.789795</td>\n",
       "      <td>571.75</td>\n",
       "    </tr>\n",
       "    <tr>\n",
       "      <th>699</th>\n",
       "      <td>420.806122</td>\n",
       "      <td>572.15</td>\n",
       "    </tr>\n",
       "  </tbody>\n",
       "</table>\n",
       "<p>700 rows × 2 columns</p>\n",
       "</div>"
      ],
      "text/plain": [
       "     Train Predictions  Actuals\n",
       "0           330.495422   319.80\n",
       "1           329.155151   330.20\n",
       "2           329.429199   332.25\n",
       "3           330.236877   330.75\n",
       "4           331.757965   328.00\n",
       "..                 ...      ...\n",
       "695         420.760834   553.35\n",
       "696         420.772339   554.90\n",
       "697         420.779968   558.00\n",
       "698         420.789795   571.75\n",
       "699         420.806122   572.15\n",
       "\n",
       "[700 rows x 2 columns]"
      ]
     },
     "execution_count": 24,
     "metadata": {},
     "output_type": "execute_result"
    }
   ],
   "source": [
    "train_predictions = model1.predict(X_train1).flatten()\n",
    "train_results = pd.DataFrame(data={'Train Predictions':train_predictions, 'Actuals':y_train1})\n",
    "train_results"
   ]
  },
  {
   "cell_type": "code",
   "execution_count": 26,
   "id": "b351d1b4-e567-4a94-a6b0-049cc9e7b089",
   "metadata": {},
   "outputs": [
    {
     "data": {
      "text/plain": [
       "[<matplotlib.lines.Line2D at 0x2302c5b2950>]"
      ]
     },
     "execution_count": 26,
     "metadata": {},
     "output_type": "execute_result"
    },
    {
     "data": {
      "image/png": "[encoded data removed]",
      "text/plain": [
       "<Figure size 640x480 with 1 Axes>"
      ]
     },
     "metadata": {},
     "output_type": "display_data"
    }
   ],
   "source": [
    "import matplotlib.pyplot as plt\n",
    "plt.plot(train_results['Train Predictions'])\n",
    "plt.plot(train_results['Actuals'])"
   ]
  },
  {
   "cell_type": "code",
   "execution_count": 27,
   "id": "f3f1a5e3-6c3d-4f8b-8fd3-747aa759414a",
   "metadata": {},
   "outputs": [
    {
     "name": "stdout",
     "output_type": "stream",
     "text": [
      "4/4 [==============================] - 0s 3ms/step\n"
     ]
    },
    {
     "data": {
      "text/html": [
       "<div>\n",
       "<style scoped>\n",
       "    .dataframe tbody tr th:only-of-type {\n",
       "        vertical-align: middle;\n",
       "    }\n",
       "\n",
       "    .dataframe tbody tr th {\n",
       "        vertical-align: top;\n",
       "    }\n",
       "\n",
       "    .dataframe thead th {\n",
       "        text-align: right;\n",
       "    }\n",
       "</style>\n",
       "<table border=\"1\" class=\"dataframe\">\n",
       "  <thead>\n",
       "    <tr style=\"text-align: right;\">\n",
       "      <th></th>\n",
       "      <th>Val Predictions</th>\n",
       "      <th>Actuals</th>\n",
       "    </tr>\n",
       "  </thead>\n",
       "  <tbody>\n",
       "    <tr>\n",
       "      <th>0</th>\n",
       "      <td>420.814117</td>\n",
       "      <td>572.25</td>\n",
       "    </tr>\n",
       "    <tr>\n",
       "      <th>1</th>\n",
       "      <td>420.821655</td>\n",
       "      <td>574.05</td>\n",
       "    </tr>\n",
       "    <tr>\n",
       "      <th>2</th>\n",
       "      <td>420.825104</td>\n",
       "      <td>569.70</td>\n",
       "    </tr>\n",
       "    <tr>\n",
       "      <th>3</th>\n",
       "      <td>420.823669</td>\n",
       "      <td>567.30</td>\n",
       "    </tr>\n",
       "    <tr>\n",
       "      <th>4</th>\n",
       "      <td>420.822815</td>\n",
       "      <td>550.60</td>\n",
       "    </tr>\n",
       "    <tr>\n",
       "      <th>...</th>\n",
       "      <td>...</td>\n",
       "      <td>...</td>\n",
       "    </tr>\n",
       "    <tr>\n",
       "      <th>94</th>\n",
       "      <td>420.812408</td>\n",
       "      <td>538.20</td>\n",
       "    </tr>\n",
       "    <tr>\n",
       "      <th>95</th>\n",
       "      <td>420.792847</td>\n",
       "      <td>553.50</td>\n",
       "    </tr>\n",
       "    <tr>\n",
       "      <th>96</th>\n",
       "      <td>420.791687</td>\n",
       "      <td>527.35</td>\n",
       "    </tr>\n",
       "    <tr>\n",
       "      <th>97</th>\n",
       "      <td>420.755737</td>\n",
       "      <td>528.10</td>\n",
       "    </tr>\n",
       "    <tr>\n",
       "      <th>98</th>\n",
       "      <td>420.744019</td>\n",
       "      <td>544.20</td>\n",
       "    </tr>\n",
       "  </tbody>\n",
       "</table>\n",
       "<p>99 rows × 2 columns</p>\n",
       "</div>"
      ],
      "text/plain": [
       "    Val Predictions  Actuals\n",
       "0        420.814117   572.25\n",
       "1        420.821655   574.05\n",
       "2        420.825104   569.70\n",
       "3        420.823669   567.30\n",
       "4        420.822815   550.60\n",
       "..              ...      ...\n",
       "94       420.812408   538.20\n",
       "95       420.792847   553.50\n",
       "96       420.791687   527.35\n",
       "97       420.755737   528.10\n",
       "98       420.744019   544.20\n",
       "\n",
       "[99 rows x 2 columns]"
      ]
     },
     "execution_count": 27,
     "metadata": {},
     "output_type": "execute_result"
    }
   ],
   "source": [
    "val_predictions = model1.predict(X_val1).flatten()\n",
    "val_results = pd.DataFrame(data={'Val Predictions':val_predictions, 'Actuals':y_val1})\n",
    "val_results"
   ]
  },
  {
   "cell_type": "code",
   "execution_count": 29,
   "id": "0c1477b6-570f-43a3-9cfb-78afb6dd07cd",
   "metadata": {},
   "outputs": [
    {
     "data": {
      "text/plain": [
       "[<matplotlib.lines.Line2D at 0x230246690d0>]"
      ]
     },
     "execution_count": 29,
     "metadata": {},
     "output_type": "execute_result"
    },
    {
     "data": {
      "image/png": "[encoded data removed]",
      "text/plain": [
       "<Figure size 640x480 with 1 Axes>"
      ]
     },
     "metadata": {},
     "output_type": "display_data"
    }
   ],
   "source": [
    "plt.plot(val_results['Val Predictions'])\n",
    "plt.plot(val_results['Actuals'])"
   ]
  },
  {
   "cell_type": "code",
   "execution_count": 30,
   "id": "194f01a8-e786-4a47-b9c7-c0cc5b790094",
   "metadata": {},
   "outputs": [
    {
     "name": "stdout",
     "output_type": "stream",
     "text": [
      "9/9 [==============================] - 0s 4ms/step\n"
     ]
    },
    {
     "data": {
      "text/html": [
       "<div>\n",
       "<style scoped>\n",
       "    .dataframe tbody tr th:only-of-type {\n",
       "        vertical-align: middle;\n",
       "    }\n",
       "\n",
       "    .dataframe tbody tr th {\n",
       "        vertical-align: top;\n",
       "    }\n",
       "\n",
       "    .dataframe thead th {\n",
       "        text-align: right;\n",
       "    }\n",
       "</style>\n",
       "<table border=\"1\" class=\"dataframe\">\n",
       "  <thead>\n",
       "    <tr style=\"text-align: right;\">\n",
       "      <th></th>\n",
       "      <th>Test Predictions</th>\n",
       "      <th>Actuals</th>\n",
       "    </tr>\n",
       "  </thead>\n",
       "  <tbody>\n",
       "    <tr>\n",
       "      <th>0</th>\n",
       "      <td>420.761780</td>\n",
       "      <td>547.10</td>\n",
       "    </tr>\n",
       "    <tr>\n",
       "      <th>1</th>\n",
       "      <td>420.764465</td>\n",
       "      <td>549.75</td>\n",
       "    </tr>\n",
       "    <tr>\n",
       "      <th>2</th>\n",
       "      <td>420.775269</td>\n",
       "      <td>550.80</td>\n",
       "    </tr>\n",
       "    <tr>\n",
       "      <th>3</th>\n",
       "      <td>420.782593</td>\n",
       "      <td>553.05</td>\n",
       "    </tr>\n",
       "    <tr>\n",
       "      <th>4</th>\n",
       "      <td>420.786926</td>\n",
       "      <td>537.50</td>\n",
       "    </tr>\n",
       "    <tr>\n",
       "      <th>...</th>\n",
       "      <td>...</td>\n",
       "      <td>...</td>\n",
       "    </tr>\n",
       "    <tr>\n",
       "      <th>255</th>\n",
       "      <td>420.897095</td>\n",
       "      <td>699.55</td>\n",
       "    </tr>\n",
       "    <tr>\n",
       "      <th>256</th>\n",
       "      <td>420.901917</td>\n",
       "      <td>725.25</td>\n",
       "    </tr>\n",
       "    <tr>\n",
       "      <th>257</th>\n",
       "      <td>420.908081</td>\n",
       "      <td>707.90</td>\n",
       "    </tr>\n",
       "    <tr>\n",
       "      <th>258</th>\n",
       "      <td>420.912170</td>\n",
       "      <td>713.45</td>\n",
       "    </tr>\n",
       "    <tr>\n",
       "      <th>259</th>\n",
       "      <td>420.915100</td>\n",
       "      <td>743.40</td>\n",
       "    </tr>\n",
       "  </tbody>\n",
       "</table>\n",
       "<p>260 rows × 2 columns</p>\n",
       "</div>"
      ],
      "text/plain": [
       "     Test Predictions  Actuals\n",
       "0          420.761780   547.10\n",
       "1          420.764465   549.75\n",
       "2          420.775269   550.80\n",
       "3          420.782593   553.05\n",
       "4          420.786926   537.50\n",
       "..                ...      ...\n",
       "255        420.897095   699.55\n",
       "256        420.901917   725.25\n",
       "257        420.908081   707.90\n",
       "258        420.912170   713.45\n",
       "259        420.915100   743.40\n",
       "\n",
       "[260 rows x 2 columns]"
      ]
     },
     "execution_count": 30,
     "metadata": {},
     "output_type": "execute_result"
    }
   ],
   "source": [
    "test_predictions = model1.predict(X_test1).flatten()\n",
    "test_results = pd.DataFrame(data={'Test Predictions':test_predictions, 'Actuals':y_test1})\n",
    "test_results"
   ]
  },
  {
   "cell_type": "code",
   "execution_count": 33,
   "id": "ee4ee95e-adec-409a-9727-33158c19f24c",
   "metadata": {},
   "outputs": [
    {
     "data": {
      "text/plain": [
       "[<matplotlib.lines.Line2D at 0x23019d3fe10>]"
      ]
     },
     "execution_count": 33,
     "metadata": {},
     "output_type": "execute_result"
    },
    {
     "data": {
      "image/png": "[encoded data removed]",
      "text/plain": [
       "<Figure size 640x480 with 1 Axes>"
      ]
     },
     "metadata": {},
     "output_type": "display_data"
    }
   ],
   "source": [
    "plt.plot(test_results['Test Predictions'])\n",
    "plt.plot(test_results['Actuals'])"
   ]
  },
  {
   "cell_type": "code",
   "execution_count": 34,
   "id": "89f4dfad-7df2-4299-a17c-0562e6d4c780",
   "metadata": {},
   "outputs": [],
   "source": [
    "# Part 2"
   ]
  },
  {
   "cell_type": "code",
   "execution_count": 35,
   "id": "1e132b9b-048a-48eb-8e8a-ac4842917b44",
   "metadata": {},
   "outputs": [],
   "source": [
    "from sklearn.metrics import mean_squared_error as mse\n",
    "\n",
    "def plot_predictions1(model, X, y, start=0, end=100):\n",
    "  predictions = model.predict(X).flatten()\n",
    "  df = pd.DataFrame(data={'Predictions':predictions, 'Actuals':y})\n",
    "  plt.plot(df['Predictions'][start:end])\n",
    "  plt.plot(df['Actuals'][start:end])\n",
    "  return df, mse(y, predictions)"
   ]
  },
  {
   "cell_type": "code",
   "execution_count": 36,
   "id": "e5b8d091-bd76-4c52-b165-58ffe714882c",
   "metadata": {},
   "outputs": [
    {
     "name": "stdout",
     "output_type": "stream",
     "text": [
      "9/9 [==============================] - 0s 3ms/step\n"
     ]
    },
    {
     "data": {
      "text/plain": [
       "(     Predictions  Actuals\n",
       " 0     420.761780   547.10\n",
       " 1     420.764465   549.75\n",
       " 2     420.775269   550.80\n",
       " 3     420.782593   553.05\n",
       " 4     420.786926   537.50\n",
       " ..           ...      ...\n",
       " 255   420.897095   699.55\n",
       " 256   420.901917   725.25\n",
       " 257   420.908081   707.90\n",
       " 258   420.912170   713.45\n",
       " 259   420.915100   743.40\n",
       " \n",
       " [260 rows x 2 columns],\n",
       " 27900.376331109124)"
      ]
     },
     "execution_count": 36,
     "metadata": {},
     "output_type": "execute_result"
    },
    {
     "data": {
      "image/png": "[encoded data removed]",
      "text/plain": [
       "<Figure size 640x480 with 1 Axes>"
      ]
     },
     "metadata": {},
     "output_type": "display_data"
    }
   ],
   "source": [
    "plot_predictions1(model1, X_test1, y_test1)"
   ]
  },
  {
   "cell_type": "code",
   "execution_count": 37,
   "id": "a84799dc-4098-489d-8f20-67345eb4abb3",
   "metadata": {},
   "outputs": [
    {
     "name": "stdout",
     "output_type": "stream",
     "text": [
      "Model: \"sequential_1\"\n",
      "_________________________________________________________________\n",
      " Layer (type)                Output Shape              Param #   \n",
      "=================================================================\n",
      " conv1d (Conv1D)             (None, 4, 64)             192       \n",
      "                                                                 \n",
      " flatten (Flatten)           (None, 256)               0         \n",
      "                                                                 \n",
      " dense_2 (Dense)             (None, 8)                 2056      \n",
      "                                                                 \n",
      " dense_3 (Dense)             (None, 1)                 9         \n",
      "                                                                 \n",
      "=================================================================\n",
      "Total params: 2257 (8.82 KB)\n",
      "Trainable params: 2257 (8.82 KB)\n",
      "Non-trainable params: 0 (0.00 Byte)\n",
      "_________________________________________________________________\n"
     ]
    }
   ],
   "source": [
    "model2 = Sequential()\n",
    "model2.add(InputLayer((5, 1)))\n",
    "model2.add(Conv1D(64, kernel_size=2))\n",
    "model2.add(Flatten())\n",
    "model2.add(Dense(8, 'relu'))\n",
    "model2.add(Dense(1, 'linear'))\n",
    "\n",
    "model2.summary()"
   ]
  },
  {
   "cell_type": "code",
   "execution_count": 38,
   "id": "fc728e04-c3b8-40c7-915d-cc72bf019b16",
   "metadata": {},
   "outputs": [],
   "source": [
    "cp2 = ModelCheckpoint('model2/', save_best_only=True)\n",
    "model2.compile(loss=MeanSquaredError(), optimizer=Adam(learning_rate=0.009), metrics=[RootMeanSquaredError()])"
   ]
  },
  {
   "cell_type": "code",
   "execution_count": 39,
   "id": "de5401c1-4f93-4001-bedd-90e03e09cc4f",
   "metadata": {},
   "outputs": [
    {
     "name": "stdout",
     "output_type": "stream",
     "text": [
      "Epoch 1/30\n",
      "18/22 [=======================>......] - ETA: 0s - loss: 28976.3535 - root_mean_squared_error: 170.2244  INFO:tensorflow:Assets written to: model2\\assets\n"
     ]
    },
    {
     "name": "stderr",
     "output_type": "stream",
     "text": [
      "INFO:tensorflow:Assets written to: model2\\assets\n"
     ]
    },
    {
     "name": "stdout",
     "output_type": "stream",
     "text": [
      "22/22 [==============================] - 1s 39ms/step - loss: 24888.1992 - root_mean_squared_error: 157.7599 - val_loss: 3828.0293 - val_root_mean_squared_error: 61.8711\n",
      "Epoch 2/30\n",
      "21/22 [===========================>..] - ETA: 0s - loss: 1013.4478 - root_mean_squared_error: 31.8347INFO:tensorflow:Assets written to: model2\\assets\n"
     ]
    },
    {
     "name": "stderr",
     "output_type": "stream",
     "text": [
      "INFO:tensorflow:Assets written to: model2\\assets\n"
     ]
    },
    {
     "name": "stdout",
     "output_type": "stream",
     "text": [
      "22/22 [==============================] - 1s 24ms/step - loss: 980.6289 - root_mean_squared_error: 31.3150 - val_loss: 189.4333 - val_root_mean_squared_error: 13.7635\n",
      "Epoch 3/30\n",
      "22/22 [==============================] - 0s 4ms/step - loss: 217.6935 - root_mean_squared_error: 14.7544 - val_loss: 343.3486 - val_root_mean_squared_error: 18.5297\n",
      "Epoch 4/30\n",
      "22/22 [==============================] - 0s 4ms/step - loss: 153.0420 - root_mean_squared_error: 12.3710 - val_loss: 202.8186 - val_root_mean_squared_error: 14.2414\n",
      "Epoch 5/30\n",
      "22/22 [==============================] - 0s 5ms/step - loss: 141.4713 - root_mean_squared_error: 11.8942 - val_loss: 193.9204 - val_root_mean_squared_error: 13.9255\n",
      "Epoch 6/30\n",
      "22/22 [==============================] - 0s 4ms/step - loss: 141.5241 - root_mean_squared_error: 11.8964 - val_loss: 242.9943 - val_root_mean_squared_error: 15.5883\n",
      "Epoch 7/30\n",
      " 1/22 [>.............................] - ETA: 0s - loss: 94.4836 - root_mean_squared_error: 9.7203INFO:tensorflow:Assets written to: model2\\assets\n"
     ]
    },
    {
     "name": "stderr",
     "output_type": "stream",
     "text": [
      "INFO:tensorflow:Assets written to: model2\\assets\n"
     ]
    },
    {
     "name": "stdout",
     "output_type": "stream",
     "text": [
      "22/22 [==============================] - 1s 26ms/step - loss: 142.5784 - root_mean_squared_error: 11.9406 - val_loss: 186.2238 - val_root_mean_squared_error: 13.6464\n",
      "Epoch 8/30\n",
      "22/22 [==============================] - 0s 5ms/step - loss: 140.1906 - root_mean_squared_error: 11.8402 - val_loss: 196.5412 - val_root_mean_squared_error: 14.0193\n",
      "Epoch 9/30\n",
      "22/22 [==============================] - 0s 4ms/step - loss: 143.9817 - root_mean_squared_error: 11.9992 - val_loss: 217.2441 - val_root_mean_squared_error: 14.7392\n",
      "Epoch 10/30\n",
      "21/22 [===========================>..] - ETA: 0s - loss: 145.9387 - root_mean_squared_error: 12.0805INFO:tensorflow:Assets written to: model2\\assets\n"
     ]
    },
    {
     "name": "stderr",
     "output_type": "stream",
     "text": [
      "INFO:tensorflow:Assets written to: model2\\assets\n"
     ]
    },
    {
     "name": "stdout",
     "output_type": "stream",
     "text": [
      "22/22 [==============================] - 1s 29ms/step - loss: 143.1482 - root_mean_squared_error: 11.9645 - val_loss: 181.0375 - val_root_mean_squared_error: 13.4550\n",
      "Epoch 11/30\n",
      "22/22 [==============================] - 0s 5ms/step - loss: 136.0471 - root_mean_squared_error: 11.6639 - val_loss: 187.0529 - val_root_mean_squared_error: 13.6767\n",
      "Epoch 12/30\n",
      "18/22 [=======================>......] - ETA: 0s - loss: 140.0137 - root_mean_squared_error: 11.8327INFO:tensorflow:Assets written to: model2\\assets\n"
     ]
    },
    {
     "name": "stderr",
     "output_type": "stream",
     "text": [
      "INFO:tensorflow:Assets written to: model2\\assets\n"
     ]
    },
    {
     "name": "stdout",
     "output_type": "stream",
     "text": [
      "22/22 [==============================] - 1s 27ms/step - loss: 137.2359 - root_mean_squared_error: 11.7148 - val_loss: 178.6585 - val_root_mean_squared_error: 13.3663\n",
      "Epoch 13/30\n",
      "22/22 [==============================] - 0s 5ms/step - loss: 133.7178 - root_mean_squared_error: 11.5636 - val_loss: 183.9826 - val_root_mean_squared_error: 13.5640\n",
      "Epoch 14/30\n",
      "22/22 [==============================] - 0s 5ms/step - loss: 136.6428 - root_mean_squared_error: 11.6894 - val_loss: 203.5629 - val_root_mean_squared_error: 14.2675\n",
      "Epoch 15/30\n",
      "22/22 [==============================] - 0s 5ms/step - loss: 137.3948 - root_mean_squared_error: 11.7216 - val_loss: 210.6371 - val_root_mean_squared_error: 14.5133\n",
      "Epoch 16/30\n",
      "22/22 [==============================] - ETA: 0s - loss: 130.0955 - root_mean_squared_error: 11.4059INFO:tensorflow:Assets written to: model2\\assets\n"
     ]
    },
    {
     "name": "stderr",
     "output_type": "stream",
     "text": [
      "INFO:tensorflow:Assets written to: model2\\assets\n"
     ]
    },
    {
     "name": "stdout",
     "output_type": "stream",
     "text": [
      "22/22 [==============================] - 1s 27ms/step - loss: 130.0955 - root_mean_squared_error: 11.4059 - val_loss: 173.7113 - val_root_mean_squared_error: 13.1800\n",
      "Epoch 17/30\n",
      "22/22 [==============================] - 0s 5ms/step - loss: 127.8896 - root_mean_squared_error: 11.3088 - val_loss: 181.7318 - val_root_mean_squared_error: 13.4808\n",
      "Epoch 18/30\n",
      "22/22 [==============================] - 0s 5ms/step - loss: 127.5741 - root_mean_squared_error: 11.2949 - val_loss: 195.9866 - val_root_mean_squared_error: 13.9995\n",
      "Epoch 19/30\n",
      "22/22 [==============================] - 0s 4ms/step - loss: 133.4406 - root_mean_squared_error: 11.5516 - val_loss: 175.2852 - val_root_mean_squared_error: 13.2395\n",
      "Epoch 20/30\n",
      "19/22 [========================>.....] - ETA: 0s - loss: 133.0295 - root_mean_squared_error: 11.5338INFO:tensorflow:Assets written to: model2\\assets\n"
     ]
    },
    {
     "name": "stderr",
     "output_type": "stream",
     "text": [
      "INFO:tensorflow:Assets written to: model2\\assets\n"
     ]
    },
    {
     "name": "stdout",
     "output_type": "stream",
     "text": [
      "22/22 [==============================] - 1s 28ms/step - loss: 130.5439 - root_mean_squared_error: 11.4256 - val_loss: 167.1694 - val_root_mean_squared_error: 12.9294\n",
      "Epoch 21/30\n",
      "22/22 [==============================] - 0s 5ms/step - loss: 125.0503 - root_mean_squared_error: 11.1826 - val_loss: 274.6873 - val_root_mean_squared_error: 16.5737\n",
      "Epoch 22/30\n",
      "22/22 [==============================] - 0s 4ms/step - loss: 127.1182 - root_mean_squared_error: 11.2747 - val_loss: 212.8283 - val_root_mean_squared_error: 14.5886\n",
      "Epoch 23/30\n",
      "22/22 [==============================] - 0s 4ms/step - loss: 121.7049 - root_mean_squared_error: 11.0320 - val_loss: 169.0172 - val_root_mean_squared_error: 13.0007\n",
      "Epoch 24/30\n",
      "22/22 [==============================] - 0s 5ms/step - loss: 122.2632 - root_mean_squared_error: 11.0573 - val_loss: 210.4183 - val_root_mean_squared_error: 14.5058\n",
      "Epoch 25/30\n",
      "22/22 [==============================] - 0s 5ms/step - loss: 122.1603 - root_mean_squared_error: 11.0526 - val_loss: 189.6604 - val_root_mean_squared_error: 13.7717\n",
      "Epoch 26/30\n",
      "22/22 [==============================] - 0s 5ms/step - loss: 122.2349 - root_mean_squared_error: 11.0560 - val_loss: 189.0889 - val_root_mean_squared_error: 13.7510\n",
      "Epoch 27/30\n",
      "22/22 [==============================] - 0s 5ms/step - loss: 121.6059 - root_mean_squared_error: 11.0275 - val_loss: 168.1614 - val_root_mean_squared_error: 12.9677\n",
      "Epoch 28/30\n",
      "22/22 [==============================] - 0s 4ms/step - loss: 127.6445 - root_mean_squared_error: 11.2980 - val_loss: 317.2393 - val_root_mean_squared_error: 17.8112\n",
      "Epoch 29/30\n",
      "22/22 [==============================] - 0s 5ms/step - loss: 133.6571 - root_mean_squared_error: 11.5610 - val_loss: 214.2700 - val_root_mean_squared_error: 14.6380\n",
      "Epoch 30/30\n",
      "19/22 [========================>.....] - ETA: 0s - loss: 111.9963 - root_mean_squared_error: 10.5828INFO:tensorflow:Assets written to: model2\\assets\n"
     ]
    },
    {
     "name": "stderr",
     "output_type": "stream",
     "text": [
      "INFO:tensorflow:Assets written to: model2\\assets\n"
     ]
    },
    {
     "name": "stdout",
     "output_type": "stream",
     "text": [
      "22/22 [==============================] - 1s 30ms/step - loss: 114.9677 - root_mean_squared_error: 10.7223 - val_loss: 164.2633 - val_root_mean_squared_error: 12.8165\n"
     ]
    },
    {
     "data": {
      "text/plain": [
       "<keras.src.callbacks.History at 0x2302eb711d0>"
      ]
     },
     "execution_count": 39,
     "metadata": {},
     "output_type": "execute_result"
    }
   ],
   "source": [
    "model2.fit(X_train1, y_train1, validation_data=(X_val1, y_val1), epochs=30, callbacks=[cp2])"
   ]
  },
  {
   "cell_type": "code",
   "execution_count": 40,
   "id": "137c598f-9c11-4517-a022-0b3db6c97d18",
   "metadata": {},
   "outputs": [
    {
     "name": "stdout",
     "output_type": "stream",
     "text": [
      "Model: \"sequential_2\"\n",
      "_________________________________________________________________\n",
      " Layer (type)                Output Shape              Param #   \n",
      "=================================================================\n",
      " gru (GRU)                   (None, 64)                12864     \n",
      "                                                                 \n",
      " dense_4 (Dense)             (None, 8)                 520       \n",
      "                                                                 \n",
      " dense_5 (Dense)             (None, 1)                 9         \n",
      "                                                                 \n",
      "=================================================================\n",
      "Total params: 13393 (52.32 KB)\n",
      "Trainable params: 13393 (52.32 KB)\n",
      "Non-trainable params: 0 (0.00 Byte)\n",
      "_________________________________________________________________\n"
     ]
    }
   ],
   "source": [
    "model3 = Sequential()\n",
    "model3.add(InputLayer((5, 1)))\n",
    "model3.add(GRU(64))\n",
    "model3.add(Dense(8, 'relu'))\n",
    "model3.add(Dense(1, 'linear'))\n",
    "model3.summary()"
   ]
  },
  {
   "cell_type": "code",
   "execution_count": 41,
   "id": "f5761fea-4647-4bc6-86d3-30daeb2ca952",
   "metadata": {},
   "outputs": [],
   "source": [
    "cp3 = ModelCheckpoint('model3/', save_best_only=True)\n",
    "model3.compile(loss=MeanSquaredError(), optimizer=Adam(learning_rate=0.009), metrics=[RootMeanSquaredError()])"
   ]
  },
  {
   "cell_type": "code",
   "execution_count": 42,
   "id": "60933a74-f5d6-4d1f-be9b-999c15ffe773",
   "metadata": {},
   "outputs": [
    {
     "name": "stdout",
     "output_type": "stream",
     "text": [
      "Epoch 1/30\n",
      "21/22 [===========================>..] - ETA: 0s - loss: 144186.8125 - root_mean_squared_error: 379.7194INFO:tensorflow:Assets written to: model3\\assets\n"
     ]
    },
    {
     "name": "stderr",
     "output_type": "stream",
     "text": [
      "INFO:tensorflow:Assets written to: model3\\assets\n"
     ]
    },
    {
     "name": "stdout",
     "output_type": "stream",
     "text": [
      "22/22 [==============================] - 7s 195ms/step - loss: 143602.3750 - root_mean_squared_error: 378.9490 - val_loss: 323495.3438 - val_root_mean_squared_error: 568.7665\n",
      "Epoch 2/30\n",
      "17/22 [======================>.......] - ETA: 0s - loss: 132304.7969 - root_mean_squared_error: 363.7373INFO:tensorflow:Assets written to: model3\\assets\n"
     ]
    },
    {
     "name": "stderr",
     "output_type": "stream",
     "text": [
      "INFO:tensorflow:Assets written to: model3\\assets\n"
     ]
    },
    {
     "name": "stdout",
     "output_type": "stream",
     "text": [
      "22/22 [==============================] - 4s 175ms/step - loss: 131586.0469 - root_mean_squared_error: 362.7479 - val_loss: 298010.1875 - val_root_mean_squared_error: 545.9031\n",
      "Epoch 3/30\n",
      "22/22 [==============================] - ETA: 0s - loss: 112725.3750 - root_mean_squared_error: 335.7460INFO:tensorflow:Assets written to: model3\\assets\n"
     ]
    },
    {
     "name": "stderr",
     "output_type": "stream",
     "text": [
      "INFO:tensorflow:Assets written to: model3\\assets\n"
     ]
    },
    {
     "name": "stdout",
     "output_type": "stream",
     "text": [
      "22/22 [==============================] - 3s 157ms/step - loss: 112725.3750 - root_mean_squared_error: 335.7460 - val_loss: 260257.7969 - val_root_mean_squared_error: 510.1547\n",
      "Epoch 4/30\n",
      "17/22 [======================>.......] - ETA: 0s - loss: 92099.4688 - root_mean_squared_error: 303.4789INFO:tensorflow:Assets written to: model3\\assets\n"
     ]
    },
    {
     "name": "stderr",
     "output_type": "stream",
     "text": [
      "INFO:tensorflow:Assets written to: model3\\assets\n"
     ]
    },
    {
     "name": "stdout",
     "output_type": "stream",
     "text": [
      "22/22 [==============================] - 3s 152ms/step - loss: 88510.5312 - root_mean_squared_error: 297.5072 - val_loss: 213343.0469 - val_root_mean_squared_error: 461.8907\n",
      "Epoch 5/30\n",
      "19/22 [========================>.....] - ETA: 0s - loss: 63476.9531 - root_mean_squared_error: 251.9463INFO:tensorflow:Assets written to: model3\\assets\n"
     ]
    },
    {
     "name": "stderr",
     "output_type": "stream",
     "text": [
      "INFO:tensorflow:Assets written to: model3\\assets\n"
     ]
    },
    {
     "name": "stdout",
     "output_type": "stream",
     "text": [
      "22/22 [==============================] - 3s 137ms/step - loss: 62610.9375 - root_mean_squared_error: 250.2218 - val_loss: 164016.1562 - val_root_mean_squared_error: 404.9891\n",
      "Epoch 6/30\n",
      "18/22 [=======================>......] - ETA: 0s - loss: 41884.0820 - root_mean_squared_error: 204.6560INFO:tensorflow:Assets written to: model3\\assets\n"
     ]
    },
    {
     "name": "stderr",
     "output_type": "stream",
     "text": [
      "INFO:tensorflow:Assets written to: model3\\assets\n"
     ]
    },
    {
     "name": "stdout",
     "output_type": "stream",
     "text": [
      "22/22 [==============================] - 3s 148ms/step - loss: 40126.0312 - root_mean_squared_error: 200.3148 - val_loss: 117458.0703 - val_root_mean_squared_error: 342.7216\n",
      "Epoch 7/30\n",
      "18/22 [=======================>......] - ETA: 0s - loss: 25430.6270 - root_mean_squared_error: 159.4698INFO:tensorflow:Assets written to: model3\\assets\n"
     ]
    },
    {
     "name": "stderr",
     "output_type": "stream",
     "text": [
      "INFO:tensorflow:Assets written to: model3\\assets\n"
     ]
    },
    {
     "name": "stdout",
     "output_type": "stream",
     "text": [
      "22/22 [==============================] - 3s 152ms/step - loss: 24958.2090 - root_mean_squared_error: 157.9817 - val_loss: 83684.6797 - val_root_mean_squared_error: 289.2831\n",
      "Epoch 8/30\n",
      "16/22 [====================>.........] - ETA: 0s - loss: 18518.3926 - root_mean_squared_error: 136.0823INFO:tensorflow:Assets written to: model3\\assets\n"
     ]
    },
    {
     "name": "stderr",
     "output_type": "stream",
     "text": [
      "INFO:tensorflow:Assets written to: model3\\assets\n"
     ]
    },
    {
     "name": "stdout",
     "output_type": "stream",
     "text": [
      "22/22 [==============================] - 4s 191ms/step - loss: 17992.6641 - root_mean_squared_error: 134.1367 - val_loss: 62684.0117 - val_root_mean_squared_error: 250.3678\n",
      "Epoch 9/30\n",
      "18/22 [=======================>......] - ETA: 0s - loss: 15920.5830 - root_mean_squared_error: 126.1768INFO:tensorflow:Assets written to: model3\\assets\n"
     ]
    },
    {
     "name": "stderr",
     "output_type": "stream",
     "text": [
      "INFO:tensorflow:Assets written to: model3\\assets\n"
     ]
    },
    {
     "name": "stdout",
     "output_type": "stream",
     "text": [
      "22/22 [==============================] - 3s 157ms/step - loss: 15762.1641 - root_mean_squared_error: 125.5475 - val_loss: 52801.2109 - val_root_mean_squared_error: 229.7851\n",
      "Epoch 10/30\n",
      "18/22 [=======================>......] - ETA: 0s - loss: 15043.8643 - root_mean_squared_error: 122.6534INFO:tensorflow:Assets written to: model3\\assets\n"
     ]
    },
    {
     "name": "stderr",
     "output_type": "stream",
     "text": [
      "INFO:tensorflow:Assets written to: model3\\assets\n"
     ]
    },
    {
     "name": "stdout",
     "output_type": "stream",
     "text": [
      "22/22 [==============================] - 3s 154ms/step - loss: 15359.8281 - root_mean_squared_error: 123.9348 - val_loss: 48814.8672 - val_root_mean_squared_error: 220.9409\n",
      "Epoch 11/30\n",
      "18/22 [=======================>......] - ETA: 0s - loss: 15160.6426 - root_mean_squared_error: 123.1286INFO:tensorflow:Assets written to: model3\\assets\n"
     ]
    },
    {
     "name": "stderr",
     "output_type": "stream",
     "text": [
      "INFO:tensorflow:Assets written to: model3\\assets\n"
     ]
    },
    {
     "name": "stdout",
     "output_type": "stream",
     "text": [
      "22/22 [==============================] - 3s 153ms/step - loss: 15329.7344 - root_mean_squared_error: 123.8133 - val_loss: 47742.1328 - val_root_mean_squared_error: 218.4997\n",
      "Epoch 12/30\n",
      "22/22 [==============================] - 0s 9ms/step - loss: 15271.5781 - root_mean_squared_error: 123.5782 - val_loss: 48753.8906 - val_root_mean_squared_error: 220.8028\n",
      "Epoch 13/30\n",
      "22/22 [==============================] - 0s 9ms/step - loss: 14999.0947 - root_mean_squared_error: 122.4708 - val_loss: 48038.4609 - val_root_mean_squared_error: 219.1768\n",
      "Epoch 14/30\n",
      "18/22 [=======================>......] - ETA: 0s - loss: 14745.7227 - root_mean_squared_error: 121.4320INFO:tensorflow:Assets written to: model3\\assets\n"
     ]
    },
    {
     "name": "stderr",
     "output_type": "stream",
     "text": [
      "INFO:tensorflow:Assets written to: model3\\assets\n"
     ]
    },
    {
     "name": "stdout",
     "output_type": "stream",
     "text": [
      "22/22 [==============================] - 4s 170ms/step - loss: 14694.7012 - root_mean_squared_error: 121.2217 - val_loss: 46978.5664 - val_root_mean_squared_error: 216.7454\n",
      "Epoch 15/30\n",
      "16/22 [====================>.........] - ETA: 0s - loss: 14211.6387 - root_mean_squared_error: 119.2126INFO:tensorflow:Assets written to: model3\\assets\n"
     ]
    },
    {
     "name": "stderr",
     "output_type": "stream",
     "text": [
      "INFO:tensorflow:Assets written to: model3\\assets\n"
     ]
    },
    {
     "name": "stdout",
     "output_type": "stream",
     "text": [
      "22/22 [==============================] - 3s 148ms/step - loss: 14284.0898 - root_mean_squared_error: 119.5161 - val_loss: 46541.9648 - val_root_mean_squared_error: 215.7359\n",
      "Epoch 16/30\n",
      "18/22 [=======================>......] - ETA: 0s - loss: 14193.1719 - root_mean_squared_error: 119.1351INFO:tensorflow:Assets written to: model3\\assets\n"
     ]
    },
    {
     "name": "stderr",
     "output_type": "stream",
     "text": [
      "INFO:tensorflow:Assets written to: model3\\assets\n"
     ]
    },
    {
     "name": "stdout",
     "output_type": "stream",
     "text": [
      "22/22 [==============================] - 3s 136ms/step - loss: 13789.0459 - root_mean_squared_error: 117.4268 - val_loss: 44884.3477 - val_root_mean_squared_error: 211.8593\n",
      "Epoch 17/30\n",
      "16/22 [====================>.........] - ETA: 0s - loss: 13825.4209 - root_mean_squared_error: 117.5816INFO:tensorflow:Assets written to: model3\\assets\n"
     ]
    },
    {
     "name": "stderr",
     "output_type": "stream",
     "text": [
      "INFO:tensorflow:Assets written to: model3\\assets\n"
     ]
    },
    {
     "name": "stdout",
     "output_type": "stream",
     "text": [
      "22/22 [==============================] - 3s 151ms/step - loss: 13411.6904 - root_mean_squared_error: 115.8089 - val_loss: 44715.3398 - val_root_mean_squared_error: 211.4600\n",
      "Epoch 18/30\n",
      "19/22 [========================>.....] - ETA: 0s - loss: 13397.7207 - root_mean_squared_error: 115.7485INFO:tensorflow:Assets written to: model3\\assets\n"
     ]
    },
    {
     "name": "stderr",
     "output_type": "stream",
     "text": [
      "INFO:tensorflow:Assets written to: model3\\assets\n"
     ]
    },
    {
     "name": "stdout",
     "output_type": "stream",
     "text": [
      "22/22 [==============================] - 3s 156ms/step - loss: 13052.3340 - root_mean_squared_error: 114.2468 - val_loss: 43371.4336 - val_root_mean_squared_error: 208.2581\n",
      "Epoch 19/30\n",
      "17/22 [======================>.......] - ETA: 0s - loss: 12557.3828 - root_mean_squared_error: 112.0597INFO:tensorflow:Assets written to: model3\\assets\n"
     ]
    },
    {
     "name": "stderr",
     "output_type": "stream",
     "text": [
      "INFO:tensorflow:Assets written to: model3\\assets\n"
     ]
    },
    {
     "name": "stdout",
     "output_type": "stream",
     "text": [
      "22/22 [==============================] - 4s 189ms/step - loss: 12710.8945 - root_mean_squared_error: 112.7426 - val_loss: 42939.7305 - val_root_mean_squared_error: 207.2190\n",
      "Epoch 20/30\n",
      "22/22 [==============================] - 0s 11ms/step - loss: 12419.7002 - root_mean_squared_error: 111.4437 - val_loss: 43193.4766 - val_root_mean_squared_error: 207.8304\n",
      "Epoch 21/30\n",
      "15/22 [===================>..........] - ETA: 0s - loss: 12341.8564 - root_mean_squared_error: 111.0939INFO:tensorflow:Assets written to: model3\\assets\n"
     ]
    },
    {
     "name": "stderr",
     "output_type": "stream",
     "text": [
      "INFO:tensorflow:Assets written to: model3\\assets\n"
     ]
    },
    {
     "name": "stdout",
     "output_type": "stream",
     "text": [
      "22/22 [==============================] - 3s 140ms/step - loss: 12135.7344 - root_mean_squared_error: 110.1623 - val_loss: 41982.2617 - val_root_mean_squared_error: 204.8957\n",
      "Epoch 22/30\n",
      "17/22 [======================>.......] - ETA: 0s - loss: 11965.8340 - root_mean_squared_error: 109.3885INFO:tensorflow:Assets written to: model3\\assets\n"
     ]
    },
    {
     "name": "stderr",
     "output_type": "stream",
     "text": [
      "INFO:tensorflow:Assets written to: model3\\assets\n"
     ]
    },
    {
     "name": "stdout",
     "output_type": "stream",
     "text": [
      "22/22 [==============================] - 3s 134ms/step - loss: 11855.6025 - root_mean_squared_error: 108.8834 - val_loss: 41004.5977 - val_root_mean_squared_error: 202.4959\n",
      "Epoch 23/30\n",
      "22/22 [==============================] - ETA: 0s - loss: 11595.2031 - root_mean_squared_error: 107.6810INFO:tensorflow:Assets written to: model3\\assets\n"
     ]
    },
    {
     "name": "stderr",
     "output_type": "stream",
     "text": [
      "INFO:tensorflow:Assets written to: model3\\assets\n"
     ]
    },
    {
     "name": "stdout",
     "output_type": "stream",
     "text": [
      "22/22 [==============================] - 3s 146ms/step - loss: 11595.2031 - root_mean_squared_error: 107.6810 - val_loss: 40324.9961 - val_root_mean_squared_error: 200.8109\n",
      "Epoch 24/30\n",
      "18/22 [=======================>......] - ETA: 0s - loss: 11099.1201 - root_mean_squared_error: 105.3524INFO:tensorflow:Assets written to: model3\\assets\n"
     ]
    },
    {
     "name": "stderr",
     "output_type": "stream",
     "text": [
      "INFO:tensorflow:Assets written to: model3\\assets\n"
     ]
    },
    {
     "name": "stdout",
     "output_type": "stream",
     "text": [
      "22/22 [==============================] - 4s 170ms/step - loss: 11332.8975 - root_mean_squared_error: 106.4561 - val_loss: 39469.2656 - val_root_mean_squared_error: 198.6687\n",
      "Epoch 25/30\n",
      "22/22 [==============================] - ETA: 0s - loss: 11098.6191 - root_mean_squared_error: 105.3500INFO:tensorflow:Assets written to: model3\\assets\n"
     ]
    },
    {
     "name": "stderr",
     "output_type": "stream",
     "text": [
      "INFO:tensorflow:Assets written to: model3\\assets\n"
     ]
    },
    {
     "name": "stdout",
     "output_type": "stream",
     "text": [
      "22/22 [==============================] - 3s 142ms/step - loss: 11098.6191 - root_mean_squared_error: 105.3500 - val_loss: 39049.9414 - val_root_mean_squared_error: 197.6106\n",
      "Epoch 26/30\n",
      "22/22 [==============================] - 0s 7ms/step - loss: 10829.1631 - root_mean_squared_error: 104.0633 - val_loss: 39405.2969 - val_root_mean_squared_error: 198.5077\n",
      "Epoch 27/30\n",
      "13/22 [================>.............] - ETA: 0s - loss: 10417.8193 - root_mean_squared_error: 102.0677INFO:tensorflow:Assets written to: model3\\assets\n"
     ]
    },
    {
     "name": "stderr",
     "output_type": "stream",
     "text": [
      "INFO:tensorflow:Assets written to: model3\\assets\n"
     ]
    },
    {
     "name": "stdout",
     "output_type": "stream",
     "text": [
      "22/22 [==============================] - 3s 151ms/step - loss: 10603.7705 - root_mean_squared_error: 102.9746 - val_loss: 38738.7500 - val_root_mean_squared_error: 196.8216\n",
      "Epoch 28/30\n",
      "17/22 [======================>.......] - ETA: 0s - loss: 10375.9541 - root_mean_squared_error: 101.8624INFO:tensorflow:Assets written to: model3\\assets\n"
     ]
    },
    {
     "name": "stderr",
     "output_type": "stream",
     "text": [
      "INFO:tensorflow:Assets written to: model3\\assets\n"
     ]
    },
    {
     "name": "stdout",
     "output_type": "stream",
     "text": [
      "22/22 [==============================] - 3s 137ms/step - loss: 10422.8867 - root_mean_squared_error: 102.0925 - val_loss: 37788.8008 - val_root_mean_squared_error: 194.3934\n",
      "Epoch 29/30\n",
      "18/22 [=======================>......] - ETA: 0s - loss: 10152.0889 - root_mean_squared_error: 100.7576INFO:tensorflow:Assets written to: model3\\assets\n"
     ]
    },
    {
     "name": "stderr",
     "output_type": "stream",
     "text": [
      "INFO:tensorflow:Assets written to: model3\\assets\n"
     ]
    },
    {
     "name": "stdout",
     "output_type": "stream",
     "text": [
      "22/22 [==============================] - 4s 178ms/step - loss: 10178.3682 - root_mean_squared_error: 100.8879 - val_loss: 37612.8672 - val_root_mean_squared_error: 193.9404\n",
      "Epoch 30/30\n",
      "19/22 [========================>.....] - ETA: 0s - loss: 9963.8105 - root_mean_squared_error: 99.8189  INFO:tensorflow:Assets written to: model3\\assets\n"
     ]
    },
    {
     "name": "stderr",
     "output_type": "stream",
     "text": [
      "INFO:tensorflow:Assets written to: model3\\assets\n"
     ]
    },
    {
     "name": "stdout",
     "output_type": "stream",
     "text": [
      "22/22 [==============================] - 3s 147ms/step - loss: 9913.1475 - root_mean_squared_error: 99.5648 - val_loss: 37149.9961 - val_root_mean_squared_error: 192.7433\n"
     ]
    },
    {
     "data": {
      "text/plain": [
       "<keras.src.callbacks.History at 0x230316987d0>"
      ]
     },
     "execution_count": 42,
     "metadata": {},
     "output_type": "execute_result"
    }
   ],
   "source": [
    "model3.fit(X_train1, y_train1, validation_data=(X_val1, y_val1), epochs=30, callbacks=[cp3])"
   ]
  },
  {
   "cell_type": "code",
   "execution_count": 43,
   "id": "c5afb179-9360-47e8-b213-341abea01fad",
   "metadata": {},
   "outputs": [
    {
     "data": {
      "text/html": [
       "<div>\n",
       "<style scoped>\n",
       "    .dataframe tbody tr th:only-of-type {\n",
       "        vertical-align: middle;\n",
       "    }\n",
       "\n",
       "    .dataframe tbody tr th {\n",
       "        vertical-align: top;\n",
       "    }\n",
       "\n",
       "    .dataframe thead th {\n",
       "        text-align: right;\n",
       "    }\n",
       "</style>\n",
       "<table border=\"1\" class=\"dataframe\">\n",
       "  <thead>\n",
       "    <tr style=\"text-align: right;\">\n",
       "      <th></th>\n",
       "      <th>Temperature</th>\n",
       "      <th>Seconds</th>\n",
       "    </tr>\n",
       "    <tr>\n",
       "      <th>date</th>\n",
       "      <th></th>\n",
       "      <th></th>\n",
       "    </tr>\n",
       "  </thead>\n",
       "  <tbody>\n",
       "    <tr>\n",
       "      <th>2020-01-01</th>\n",
       "      <td>334.45</td>\n",
       "      <td>1.577837e+09</td>\n",
       "    </tr>\n",
       "    <tr>\n",
       "      <th>2020-01-02</th>\n",
       "      <td>339.30</td>\n",
       "      <td>1.577923e+09</td>\n",
       "    </tr>\n",
       "    <tr>\n",
       "      <th>2020-01-03</th>\n",
       "      <td>333.70</td>\n",
       "      <td>1.578010e+09</td>\n",
       "    </tr>\n",
       "    <tr>\n",
       "      <th>2020-01-06</th>\n",
       "      <td>319.00</td>\n",
       "      <td>1.578269e+09</td>\n",
       "    </tr>\n",
       "    <tr>\n",
       "      <th>2020-01-07</th>\n",
       "      <td>318.40</td>\n",
       "      <td>1.578355e+09</td>\n",
       "    </tr>\n",
       "    <tr>\n",
       "      <th>...</th>\n",
       "      <td>...</td>\n",
       "      <td>...</td>\n",
       "    </tr>\n",
       "    <tr>\n",
       "      <th>2024-02-08</th>\n",
       "      <td>699.55</td>\n",
       "      <td>1.707350e+09</td>\n",
       "    </tr>\n",
       "    <tr>\n",
       "      <th>2024-02-09</th>\n",
       "      <td>725.25</td>\n",
       "      <td>1.707437e+09</td>\n",
       "    </tr>\n",
       "    <tr>\n",
       "      <th>2024-02-12</th>\n",
       "      <td>707.90</td>\n",
       "      <td>1.707696e+09</td>\n",
       "    </tr>\n",
       "    <tr>\n",
       "      <th>2024-02-13</th>\n",
       "      <td>713.45</td>\n",
       "      <td>1.707782e+09</td>\n",
       "    </tr>\n",
       "    <tr>\n",
       "      <th>2024-02-14</th>\n",
       "      <td>743.40</td>\n",
       "      <td>1.707869e+09</td>\n",
       "    </tr>\n",
       "  </tbody>\n",
       "</table>\n",
       "<p>1066 rows × 2 columns</p>\n",
       "</div>"
      ],
      "text/plain": [
       "            Temperature       Seconds\n",
       "date                                 \n",
       "2020-01-01       334.45  1.577837e+09\n",
       "2020-01-02       339.30  1.577923e+09\n",
       "2020-01-03       333.70  1.578010e+09\n",
       "2020-01-06       319.00  1.578269e+09\n",
       "2020-01-07       318.40  1.578355e+09\n",
       "...                 ...           ...\n",
       "2024-02-08       699.55  1.707350e+09\n",
       "2024-02-09       725.25  1.707437e+09\n",
       "2024-02-12       707.90  1.707696e+09\n",
       "2024-02-13       713.45  1.707782e+09\n",
       "2024-02-14       743.40  1.707869e+09\n",
       "\n",
       "[1066 rows x 2 columns]"
      ]
     },
     "execution_count": 43,
     "metadata": {},
     "output_type": "execute_result"
    }
   ],
   "source": [
    "temp_df = pd.DataFrame({'Temperature':target_column})\n",
    "temp_df['Seconds'] = temp_df.index.map(pd.Timestamp.timestamp)\n",
    "temp_df"
   ]
  },
  {
   "cell_type": "code",
   "execution_count": 44,
   "id": "5a012178-0e53-4932-87ce-a539dd546cdd",
   "metadata": {},
   "outputs": [
    {
     "data": {
      "text/html": [
       "<div>\n",
       "<style scoped>\n",
       "    .dataframe tbody tr th:only-of-type {\n",
       "        vertical-align: middle;\n",
       "    }\n",
       "\n",
       "    .dataframe tbody tr th {\n",
       "        vertical-align: top;\n",
       "    }\n",
       "\n",
       "    .dataframe thead th {\n",
       "        text-align: right;\n",
       "    }\n",
       "</style>\n",
       "<table border=\"1\" class=\"dataframe\">\n",
       "  <thead>\n",
       "    <tr style=\"text-align: right;\">\n",
       "      <th></th>\n",
       "      <th>Temperature</th>\n",
       "      <th>Seconds</th>\n",
       "      <th>Day sin</th>\n",
       "      <th>Day cos</th>\n",
       "      <th>Year sin</th>\n",
       "      <th>Year cos</th>\n",
       "    </tr>\n",
       "    <tr>\n",
       "      <th>date</th>\n",
       "      <th></th>\n",
       "      <th></th>\n",
       "      <th></th>\n",
       "      <th></th>\n",
       "      <th></th>\n",
       "      <th></th>\n",
       "    </tr>\n",
       "  </thead>\n",
       "  <tbody>\n",
       "    <tr>\n",
       "      <th>2020-01-01</th>\n",
       "      <td>334.45</td>\n",
       "      <td>1.577837e+09</td>\n",
       "      <td>-7.670342e-12</td>\n",
       "      <td>1.0</td>\n",
       "      <td>-0.002150</td>\n",
       "      <td>0.999998</td>\n",
       "    </tr>\n",
       "    <tr>\n",
       "      <th>2020-01-02</th>\n",
       "      <td>339.30</td>\n",
       "      <td>1.577923e+09</td>\n",
       "      <td>-3.371804e-12</td>\n",
       "      <td>1.0</td>\n",
       "      <td>0.015052</td>\n",
       "      <td>0.999887</td>\n",
       "    </tr>\n",
       "    <tr>\n",
       "      <th>2020-01-03</th>\n",
       "      <td>333.70</td>\n",
       "      <td>1.578010e+09</td>\n",
       "      <td>9.267350e-13</td>\n",
       "      <td>1.0</td>\n",
       "      <td>0.032250</td>\n",
       "      <td>0.999480</td>\n",
       "    </tr>\n",
       "    <tr>\n",
       "      <th>2020-01-06</th>\n",
       "      <td>319.00</td>\n",
       "      <td>1.578269e+09</td>\n",
       "      <td>-7.295644e-13</td>\n",
       "      <td>1.0</td>\n",
       "      <td>0.083765</td>\n",
       "      <td>0.996486</td>\n",
       "    </tr>\n",
       "    <tr>\n",
       "      <th>2020-01-07</th>\n",
       "      <td>318.40</td>\n",
       "      <td>1.578355e+09</td>\n",
       "      <td>-1.098294e-11</td>\n",
       "      <td>1.0</td>\n",
       "      <td>0.100894</td>\n",
       "      <td>0.994897</td>\n",
       "    </tr>\n",
       "  </tbody>\n",
       "</table>\n",
       "</div>"
      ],
      "text/plain": [
       "            Temperature       Seconds       Day sin  Day cos  Year sin  \\\n",
       "date                                                                     \n",
       "2020-01-01       334.45  1.577837e+09 -7.670342e-12      1.0 -0.002150   \n",
       "2020-01-02       339.30  1.577923e+09 -3.371804e-12      1.0  0.015052   \n",
       "2020-01-03       333.70  1.578010e+09  9.267350e-13      1.0  0.032250   \n",
       "2020-01-06       319.00  1.578269e+09 -7.295644e-13      1.0  0.083765   \n",
       "2020-01-07       318.40  1.578355e+09 -1.098294e-11      1.0  0.100894   \n",
       "\n",
       "            Year cos  \n",
       "date                  \n",
       "2020-01-01  0.999998  \n",
       "2020-01-02  0.999887  \n",
       "2020-01-03  0.999480  \n",
       "2020-01-06  0.996486  \n",
       "2020-01-07  0.994897  "
      ]
     },
     "execution_count": 44,
     "metadata": {},
     "output_type": "execute_result"
    }
   ],
   "source": [
    "day = 60*60*24\n",
    "year = 365.2425*day\n",
    "\n",
    "temp_df['Day sin'] = np.sin(temp_df['Seconds'] * (2* np.pi / day))\n",
    "temp_df['Day cos'] = np.cos(temp_df['Seconds'] * (2 * np.pi / day))\n",
    "temp_df['Year sin'] = np.sin(temp_df['Seconds'] * (2 * np.pi / year))\n",
    "temp_df['Year cos'] = np.cos(temp_df['Seconds'] * (2 * np.pi / year))\n",
    "temp_df.head()"
   ]
  },
  {
   "cell_type": "code",
   "execution_count": 45,
   "id": "ec4e8380-9694-4675-b24b-e0086f27d583",
   "metadata": {},
   "outputs": [
    {
     "data": {
      "text/html": [
       "<div>\n",
       "<style scoped>\n",
       "    .dataframe tbody tr th:only-of-type {\n",
       "        vertical-align: middle;\n",
       "    }\n",
       "\n",
       "    .dataframe tbody tr th {\n",
       "        vertical-align: top;\n",
       "    }\n",
       "\n",
       "    .dataframe thead th {\n",
       "        text-align: right;\n",
       "    }\n",
       "</style>\n",
       "<table border=\"1\" class=\"dataframe\">\n",
       "  <thead>\n",
       "    <tr style=\"text-align: right;\">\n",
       "      <th></th>\n",
       "      <th>Temperature</th>\n",
       "      <th>Day sin</th>\n",
       "      <th>Day cos</th>\n",
       "      <th>Year sin</th>\n",
       "      <th>Year cos</th>\n",
       "    </tr>\n",
       "    <tr>\n",
       "      <th>date</th>\n",
       "      <th></th>\n",
       "      <th></th>\n",
       "      <th></th>\n",
       "      <th></th>\n",
       "      <th></th>\n",
       "    </tr>\n",
       "  </thead>\n",
       "  <tbody>\n",
       "    <tr>\n",
       "      <th>2020-01-01</th>\n",
       "      <td>334.45</td>\n",
       "      <td>-7.670342e-12</td>\n",
       "      <td>1.0</td>\n",
       "      <td>-0.002150</td>\n",
       "      <td>0.999998</td>\n",
       "    </tr>\n",
       "    <tr>\n",
       "      <th>2020-01-02</th>\n",
       "      <td>339.30</td>\n",
       "      <td>-3.371804e-12</td>\n",
       "      <td>1.0</td>\n",
       "      <td>0.015052</td>\n",
       "      <td>0.999887</td>\n",
       "    </tr>\n",
       "    <tr>\n",
       "      <th>2020-01-03</th>\n",
       "      <td>333.70</td>\n",
       "      <td>9.267350e-13</td>\n",
       "      <td>1.0</td>\n",
       "      <td>0.032250</td>\n",
       "      <td>0.999480</td>\n",
       "    </tr>\n",
       "    <tr>\n",
       "      <th>2020-01-06</th>\n",
       "      <td>319.00</td>\n",
       "      <td>-7.295644e-13</td>\n",
       "      <td>1.0</td>\n",
       "      <td>0.083765</td>\n",
       "      <td>0.996486</td>\n",
       "    </tr>\n",
       "    <tr>\n",
       "      <th>2020-01-07</th>\n",
       "      <td>318.40</td>\n",
       "      <td>-1.098294e-11</td>\n",
       "      <td>1.0</td>\n",
       "      <td>0.100894</td>\n",
       "      <td>0.994897</td>\n",
       "    </tr>\n",
       "  </tbody>\n",
       "</table>\n",
       "</div>"
      ],
      "text/plain": [
       "            Temperature       Day sin  Day cos  Year sin  Year cos\n",
       "date                                                              \n",
       "2020-01-01       334.45 -7.670342e-12      1.0 -0.002150  0.999998\n",
       "2020-01-02       339.30 -3.371804e-12      1.0  0.015052  0.999887\n",
       "2020-01-03       333.70  9.267350e-13      1.0  0.032250  0.999480\n",
       "2020-01-06       319.00 -7.295644e-13      1.0  0.083765  0.996486\n",
       "2020-01-07       318.40 -1.098294e-11      1.0  0.100894  0.994897"
      ]
     },
     "execution_count": 45,
     "metadata": {},
     "output_type": "execute_result"
    }
   ],
   "source": [
    "temp_df = temp_df.drop('Seconds', axis=1)\n",
    "temp_df.head()"
   ]
  },
  {
   "cell_type": "code",
   "execution_count": 46,
   "id": "180f80c7-be28-4bee-b0fb-43e7562e4f02",
   "metadata": {},
   "outputs": [],
   "source": [
    "def df_to_X_y2(df, window_size=6):\n",
    "  df_as_np = df.to_numpy()\n",
    "  X = []\n",
    "  y = []\n",
    "  for i in range(len(df_as_np)-window_size):\n",
    "    row = [r for r in df_as_np[i:i+window_size]]\n",
    "    X.append(row)\n",
    "    label = df_as_np[i+window_size][0]\n",
    "    y.append(label)\n",
    "  return np.array(X), np.array(y)"
   ]
  },
  {
   "cell_type": "code",
   "execution_count": 47,
   "id": "6942775b-c7cc-4b68-8279-82c591618208",
   "metadata": {},
   "outputs": [
    {
     "data": {
      "text/plain": [
       "((1060, 6, 5), (1060,))"
      ]
     },
     "execution_count": 47,
     "metadata": {},
     "output_type": "execute_result"
    }
   ],
   "source": [
    "X2, y2 = df_to_X_y2(temp_df)\n",
    "X2.shape, y2.shape"
   ]
  },
  {
   "cell_type": "code",
   "execution_count": 48,
   "id": "5183c5d3-c713-4325-802d-9b221a752268",
   "metadata": {},
   "outputs": [
    {
     "data": {
      "text/plain": [
       "((700, 6, 5), (700,), (100, 6, 5), (100,), (260, 6, 5), (260,))"
      ]
     },
     "execution_count": 48,
     "metadata": {},
     "output_type": "execute_result"
    }
   ],
   "source": [
    "X2_train, y2_train = X2[:700], y2[:700]\n",
    "X2_val, y2_val = X2[700:800], y2[700:800]\n",
    "X2_test, y2_test = X2[800:], y2[800:]\n",
    "X2_train.shape, y2_train.shape, X2_val.shape, y2_val.shape, X2_test.shape, y2_test.shape"
   ]
  },
  {
   "cell_type": "code",
   "execution_count": 49,
   "id": "e65ee186-fda7-4084-a1d7-24eb28a7ffd5",
   "metadata": {},
   "outputs": [],
   "source": [
    "temp_training_mean = np.mean(X2_train[:, :, 0])\n",
    "temp_training_std = np.std(X2_train[:, :, 0])\n",
    "                           \n",
    "def preprocess(X):\n",
    "  X[:, :, 0] = (X[:, :, 0] - temp_training_mean) / temp_training_std\n",
    "  return X"
   ]
  },
  {
   "cell_type": "code",
   "execution_count": 50,
   "id": "24e0fc39-530a-4c6f-aa62-76b2a57a8c5f",
   "metadata": {},
   "outputs": [
    {
     "data": {
      "text/plain": [
       "array([[[ 1.42004031e+00, -3.05024836e-12,  1.00000000e+00,\n",
       "          4.80669420e-01,  8.76901881e-01],\n",
       "        [ 1.54426587e+00, -1.33036250e-11,  1.00000000e+00,\n",
       "          4.95682702e-01,  8.68503690e-01],\n",
       "        [ 1.33194572e+00, -9.00508634e-12,  1.00000000e+00,\n",
       "          5.10549297e-01,  8.59848484e-01],\n",
       "        [ 1.33803521e+00, -4.70654772e-12,  1.00000000e+00,\n",
       "          5.25264806e-01,  8.50938825e-01],\n",
       "        [ 1.46875622e+00, -4.08009101e-13,  1.00000000e+00,\n",
       "          5.39824875e-01,  8.41777349e-01],\n",
       "        [ 1.47849940e+00, -2.06430846e-12,  1.00000000e+00,\n",
       "          5.82529587e-01,  8.12809498e-01]],\n",
       "\n",
       "       [[ 1.54426587e+00, -1.33036250e-11,  1.00000000e+00,\n",
       "          4.95682702e-01,  8.68503690e-01],\n",
       "        [ 1.33194572e+00, -9.00508634e-12,  1.00000000e+00,\n",
       "          5.10549297e-01,  8.59848484e-01],\n",
       "        [ 1.33803521e+00, -4.70654772e-12,  1.00000000e+00,\n",
       "          5.25264806e-01,  8.50938825e-01],\n",
       "        [ 1.46875622e+00, -4.08009101e-13,  1.00000000e+00,\n",
       "          5.39824875e-01,  8.41777349e-01],\n",
       "        [ 1.47849940e+00, -2.06430846e-12,  1.00000000e+00,\n",
       "          5.82529587e-01,  8.12809498e-01],\n",
       "        [ 1.49230224e+00, -1.23176851e-11,  1.00000000e+00,\n",
       "          5.96425284e-01,  8.02668599e-01]],\n",
       "\n",
       "       [[ 1.33194572e+00, -9.00508634e-12,  1.00000000e+00,\n",
       "          5.10549297e-01,  8.59848484e-01],\n",
       "        [ 1.33803521e+00, -4.70654772e-12,  1.00000000e+00,\n",
       "          5.25264806e-01,  8.50938825e-01],\n",
       "        [ 1.46875622e+00, -4.08009101e-13,  1.00000000e+00,\n",
       "          5.39824875e-01,  8.41777349e-01],\n",
       "        [ 1.47849940e+00, -2.06430846e-12,  1.00000000e+00,\n",
       "          5.82529587e-01,  8.12809498e-01],\n",
       "        [ 1.49230224e+00, -1.23176851e-11,  1.00000000e+00,\n",
       "          5.96425284e-01,  8.02668599e-01],\n",
       "        [ 1.51381843e+00, -8.01914645e-12,  1.00000000e+00,\n",
       "          6.10144482e-01,  7.92290168e-01]],\n",
       "\n",
       "       ...,\n",
       "\n",
       "       [[ 2.32493825e+00, -7.34679536e-12,  1.00000000e+00,\n",
       "          5.21710407e-01,  8.53122647e-01],\n",
       "        [ 2.27053883e+00, -9.00309472e-12,  1.00000000e+00,\n",
       "          5.65024489e-01,  8.25074134e-01],\n",
       "        [ 2.32980984e+00, -4.70455610e-12,  1.00000000e+00,\n",
       "          5.79133752e-01,  8.15232542e-01],\n",
       "        [ 2.53279278e+00, -4.06017479e-13,  1.00000000e+00,\n",
       "          5.93071633e-01,  8.05149699e-01],\n",
       "        [ 2.73009220e+00, -1.06593941e-11,  1.00000000e+00,\n",
       "          6.06834007e-01,  7.94828590e-01],\n",
       "        [ 2.93875866e+00, -6.36085546e-12,  1.00000000e+00,\n",
       "          6.20416802e-01,  7.84272269e-01]],\n",
       "\n",
       "       [[ 2.27053883e+00, -9.00309472e-12,  1.00000000e+00,\n",
       "          5.65024489e-01,  8.25074134e-01],\n",
       "        [ 2.32980984e+00, -4.70455610e-12,  1.00000000e+00,\n",
       "          5.79133752e-01,  8.15232542e-01],\n",
       "        [ 2.53279278e+00, -4.06017479e-13,  1.00000000e+00,\n",
       "          5.93071633e-01,  8.05149699e-01],\n",
       "        [ 2.73009220e+00, -1.06593941e-11,  1.00000000e+00,\n",
       "          6.06834007e-01,  7.94828590e-01],\n",
       "        [ 2.93875866e+00, -6.36085546e-12,  1.00000000e+00,\n",
       "          6.20416802e-01,  7.84272269e-01],\n",
       "        [ 2.79788850e+00, -8.01715483e-12,  1.00000000e+00,\n",
       "          6.60047789e-01,  7.51223613e-01]],\n",
       "\n",
       "       [[ 2.32980984e+00, -4.70455610e-12,  1.00000000e+00,\n",
       "          5.79133752e-01,  8.15232542e-01],\n",
       "        [ 2.53279278e+00, -4.06017479e-13,  1.00000000e+00,\n",
       "          5.93071633e-01,  8.05149699e-01],\n",
       "        [ 2.73009220e+00, -1.06593941e-11,  1.00000000e+00,\n",
       "          6.06834007e-01,  7.94828590e-01],\n",
       "        [ 2.93875866e+00, -6.36085546e-12,  1.00000000e+00,\n",
       "          6.20416802e-01,  7.84272269e-01],\n",
       "        [ 2.79788850e+00, -8.01715483e-12,  1.00000000e+00,\n",
       "          6.60047789e-01,  7.51223613e-01],\n",
       "        [ 2.84295071e+00, -3.71861620e-12,  1.00000000e+00,\n",
       "          6.72872620e-01,  7.39758364e-01]]])"
      ]
     },
     "execution_count": 50,
     "metadata": {},
     "output_type": "execute_result"
    }
   ],
   "source": [
    "preprocess(X2_train)\n",
    "preprocess(X2_val)\n",
    "preprocess(X2_test)"
   ]
  },
  {
   "cell_type": "code",
   "execution_count": 51,
   "id": "4377f2d8-cfcb-4ca3-8980-54c0a8a2f49d",
   "metadata": {},
   "outputs": [
    {
     "name": "stdout",
     "output_type": "stream",
     "text": [
      "Model: \"sequential_3\"\n",
      "_________________________________________________________________\n",
      " Layer (type)                Output Shape              Param #   \n",
      "=================================================================\n",
      " lstm_1 (LSTM)               (None, 64)                17920     \n",
      "                                                                 \n",
      " dense_6 (Dense)             (None, 8)                 520       \n",
      "                                                                 \n",
      " dense_7 (Dense)             (None, 1)                 9         \n",
      "                                                                 \n",
      "=================================================================\n",
      "Total params: 18449 (72.07 KB)\n",
      "Trainable params: 18449 (72.07 KB)\n",
      "Non-trainable params: 0 (0.00 Byte)\n",
      "_________________________________________________________________\n"
     ]
    }
   ],
   "source": [
    "model4 = Sequential()\n",
    "model4.add(InputLayer((6, 5)))\n",
    "model4.add(LSTM(64))\n",
    "model4.add(Dense(8, 'relu'))\n",
    "model4.add(Dense(1, 'linear'))\n",
    "\n",
    "model4.summary()"
   ]
  },
  {
   "cell_type": "code",
   "execution_count": 52,
   "id": "ccaf050b-e9c8-4fa9-89d0-f4fd6eb915f1",
   "metadata": {},
   "outputs": [],
   "source": [
    "cp4 = ModelCheckpoint('model4/', save_best_only=True)\n",
    "model4.compile(loss=MeanSquaredError(), optimizer=Adam(learning_rate=0.009), metrics=[RootMeanSquaredError()])"
   ]
  },
  {
   "cell_type": "code",
   "execution_count": 55,
   "id": "f450aabc-a263-4751-87c5-6a4abb98adcf",
   "metadata": {},
   "outputs": [
    {
     "name": "stdout",
     "output_type": "stream",
     "text": [
      "Epoch 1/30\n",
      "22/22 [==============================] - 0s 11ms/step - loss: 66.9332 - root_mean_squared_error: 8.1813 - val_loss: 1365.9514 - val_root_mean_squared_error: 36.9588\n",
      "Epoch 2/30\n",
      "22/22 [==============================] - 0s 8ms/step - loss: 63.4859 - root_mean_squared_error: 7.9678 - val_loss: 1698.8925 - val_root_mean_squared_error: 41.2176\n",
      "Epoch 3/30\n",
      "22/22 [==============================] - 0s 8ms/step - loss: 64.8820 - root_mean_squared_error: 8.0549 - val_loss: 1491.5288 - val_root_mean_squared_error: 38.6203\n",
      "Epoch 4/30\n",
      "22/22 [==============================] - 0s 8ms/step - loss: 68.0302 - root_mean_squared_error: 8.2480 - val_loss: 1564.8024 - val_root_mean_squared_error: 39.5576\n",
      "Epoch 5/30\n",
      "22/22 [==============================] - 0s 10ms/step - loss: 68.1114 - root_mean_squared_error: 8.2530 - val_loss: 1579.8221 - val_root_mean_squared_error: 39.7470\n",
      "Epoch 6/30\n",
      "22/22 [==============================] - 0s 9ms/step - loss: 64.9191 - root_mean_squared_error: 8.0572 - val_loss: 1593.5490 - val_root_mean_squared_error: 39.9193\n",
      "Epoch 7/30\n",
      "22/22 [==============================] - 0s 9ms/step - loss: 61.9177 - root_mean_squared_error: 7.8688 - val_loss: 1487.8159 - val_root_mean_squared_error: 38.5722\n",
      "Epoch 8/30\n",
      "22/22 [==============================] - 0s 10ms/step - loss: 65.6524 - root_mean_squared_error: 8.1026 - val_loss: 1513.3868 - val_root_mean_squared_error: 38.9023\n",
      "Epoch 9/30\n",
      "22/22 [==============================] - 0s 9ms/step - loss: 72.0356 - root_mean_squared_error: 8.4874 - val_loss: 1785.5183 - val_root_mean_squared_error: 42.2554\n",
      "Epoch 10/30\n",
      "22/22 [==============================] - 0s 9ms/step - loss: 70.2098 - root_mean_squared_error: 8.3791 - val_loss: 1648.1199 - val_root_mean_squared_error: 40.5970\n",
      "Epoch 11/30\n",
      "22/22 [==============================] - 0s 9ms/step - loss: 64.4745 - root_mean_squared_error: 8.0296 - val_loss: 1943.4866 - val_root_mean_squared_error: 44.0850\n",
      "Epoch 12/30\n",
      "22/22 [==============================] - 0s 9ms/step - loss: 63.9803 - root_mean_squared_error: 7.9988 - val_loss: 1508.5289 - val_root_mean_squared_error: 38.8398\n",
      "Epoch 13/30\n",
      "22/22 [==============================] - 0s 10ms/step - loss: 64.3718 - root_mean_squared_error: 8.0232 - val_loss: 1630.2903 - val_root_mean_squared_error: 40.3769\n",
      "Epoch 14/30\n",
      "22/22 [==============================] - 0s 9ms/step - loss: 61.6545 - root_mean_squared_error: 7.8520 - val_loss: 1628.3280 - val_root_mean_squared_error: 40.3525\n",
      "Epoch 15/30\n",
      "22/22 [==============================] - 0s 8ms/step - loss: 61.6799 - root_mean_squared_error: 7.8537 - val_loss: 1545.9777 - val_root_mean_squared_error: 39.3189\n",
      "Epoch 16/30\n",
      "22/22 [==============================] - 0s 10ms/step - loss: 62.9167 - root_mean_squared_error: 7.9320 - val_loss: 1643.1251 - val_root_mean_squared_error: 40.5355\n",
      "Epoch 17/30\n",
      "22/22 [==============================] - 0s 9ms/step - loss: 60.6599 - root_mean_squared_error: 7.7884 - val_loss: 1611.4600 - val_root_mean_squared_error: 40.1430\n",
      "Epoch 18/30\n",
      "22/22 [==============================] - 0s 8ms/step - loss: 65.0793 - root_mean_squared_error: 8.0672 - val_loss: 1493.3888 - val_root_mean_squared_error: 38.6444\n",
      "Epoch 19/30\n",
      "22/22 [==============================] - 0s 9ms/step - loss: 61.3755 - root_mean_squared_error: 7.8343 - val_loss: 1623.9420 - val_root_mean_squared_error: 40.2982\n",
      "Epoch 20/30\n",
      "22/22 [==============================] - 0s 11ms/step - loss: 65.1140 - root_mean_squared_error: 8.0693 - val_loss: 1464.5543 - val_root_mean_squared_error: 38.2695\n",
      "Epoch 21/30\n",
      "22/22 [==============================] - 0s 9ms/step - loss: 68.9375 - root_mean_squared_error: 8.3029 - val_loss: 1386.7244 - val_root_mean_squared_error: 37.2387\n",
      "Epoch 22/30\n",
      "22/22 [==============================] - 0s 9ms/step - loss: 63.4041 - root_mean_squared_error: 7.9627 - val_loss: 1406.6819 - val_root_mean_squared_error: 37.5058\n",
      "Epoch 23/30\n",
      "22/22 [==============================] - 0s 9ms/step - loss: 63.2017 - root_mean_squared_error: 7.9499 - val_loss: 1655.9862 - val_root_mean_squared_error: 40.6938\n",
      "Epoch 24/30\n",
      "22/22 [==============================] - 0s 9ms/step - loss: 70.7271 - root_mean_squared_error: 8.4099 - val_loss: 1617.6389 - val_root_mean_squared_error: 40.2199\n",
      "Epoch 25/30\n",
      "22/22 [==============================] - 0s 8ms/step - loss: 57.1566 - root_mean_squared_error: 7.5602 - val_loss: 1509.9012 - val_root_mean_squared_error: 38.8574\n",
      "Epoch 26/30\n",
      "22/22 [==============================] - 0s 9ms/step - loss: 59.8825 - root_mean_squared_error: 7.7384 - val_loss: 1581.2020 - val_root_mean_squared_error: 39.7643\n",
      "Epoch 27/30\n",
      "22/22 [==============================] - 0s 9ms/step - loss: 60.3344 - root_mean_squared_error: 7.7675 - val_loss: 1611.8292 - val_root_mean_squared_error: 40.1476\n",
      "Epoch 28/30\n",
      "22/22 [==============================] - 0s 11ms/step - loss: 58.2901 - root_mean_squared_error: 7.6348 - val_loss: 1593.6675 - val_root_mean_squared_error: 39.9208\n",
      "Epoch 29/30\n",
      "22/22 [==============================] - 0s 10ms/step - loss: 64.2588 - root_mean_squared_error: 8.0162 - val_loss: 1424.4089 - val_root_mean_squared_error: 37.7413\n",
      "Epoch 30/30\n",
      "22/22 [==============================] - 0s 10ms/step - loss: 61.2705 - root_mean_squared_error: 7.8275 - val_loss: 1479.4639 - val_root_mean_squared_error: 38.4638\n"
     ]
    },
    {
     "data": {
      "text/plain": [
       "<keras.src.callbacks.History at 0x23032c62cd0>"
      ]
     },
     "execution_count": 55,
     "metadata": {},
     "output_type": "execute_result"
    }
   ],
   "source": [
    "model4.fit(X2_train, y2_train, validation_data=(X2_val, y2_val), epochs=30, callbacks=[cp4])"
   ]
  },
  {
   "cell_type": "code",
   "execution_count": 56,
   "id": "8507eb83-54fc-4d4c-81d3-540b9724614d",
   "metadata": {},
   "outputs": [
    {
     "name": "stdout",
     "output_type": "stream",
     "text": [
      "9/9 [==============================] - 0s 2ms/step\n"
     ]
    },
    {
     "data": {
      "text/plain": [
       "(     Predictions  Actuals\n",
       " 0     532.257751   547.10\n",
       " 1     533.797913   549.75\n",
       " 2     534.380615   550.80\n",
       " 3     535.222778   553.05\n",
       " 4     536.700928   537.50\n",
       " ..           ...      ...\n",
       " 255   559.524780   699.55\n",
       " 256   559.922241   725.25\n",
       " 257   560.316406   707.90\n",
       " 258   560.697571   713.45\n",
       " 259   561.541687   743.40\n",
       " \n",
       " [260 rows x 2 columns],\n",
       " 2013.2566497213113)"
      ]
     },
     "execution_count": 56,
     "metadata": {},
     "output_type": "execute_result"
    },
    {
     "data": {
      "image/png": "[encoded data removed]",
      "text/plain": [
       "<Figure size 640x480 with 1 Axes>"
      ]
     },
     "metadata": {},
     "output_type": "display_data"
    }
   ],
   "source": [
    "plot_predictions1(model4, X2_test, y2_test)"
   ]
  },
  {
   "cell_type": "code",
   "execution_count": 57,
   "id": "b67b0c34-e2b3-461d-92a7-e68379b155cc",
   "metadata": {},
   "outputs": [],
   "source": [
    "from tensorflow.keras.layers import Dense, SimpleRNN, LSTM, Dropout"
   ]
  },
  {
   "cell_type": "code",
   "execution_count": 70,
   "id": "93f7c31e-6038-4a19-b8df-e718f7342fdc",
   "metadata": {},
   "outputs": [
    {
     "name": "stdout",
     "output_type": "stream",
     "text": [
      "Model: \"sequential_8\"\n",
      "_________________________________________________________________\n",
      " Layer (type)                Output Shape              Param #   \n",
      "=================================================================\n",
      " simple_rnn_3 (SimpleRNN)    (None, 30)                1080      \n",
      "                                                                 \n",
      " dense_11 (Dense)            (None, 8)                 248       \n",
      "                                                                 \n",
      " dense_12 (Dense)            (None, 1)                 9         \n",
      "                                                                 \n",
      "=================================================================\n",
      "Total params: 1337 (5.22 KB)\n",
      "Trainable params: 1337 (5.22 KB)\n",
      "Non-trainable params: 0 (0.00 Byte)\n",
      "_________________________________________________________________\n"
     ]
    }
   ],
   "source": [
    "model5 = Sequential()\n",
    "# model5.add(InputLayer((6, 5)))\n",
    "model5.add(SimpleRNN(30, input_shape=(6, 5)))\n",
    "# model5.add(Dropout(rate=0.2))\n",
    "# model5.add(LSTM(64))\n",
    "model5.add(Dense(8, 'relu'))\n",
    "model5.add(Dense(1, 'linear'))\n",
    "\n",
    "model5.summary()"
   ]
  },
  {
   "cell_type": "code",
   "execution_count": 71,
   "id": "97e25da6-e209-4a45-ba0c-f96f4c64d51a",
   "metadata": {},
   "outputs": [],
   "source": [
    "cp6 = ModelCheckpoint('model5/', save_best_only=True)\n",
    "model5.compile(loss=MeanSquaredError(), optimizer=Adam(learning_rate=0.009), metrics=[RootMeanSquaredError()])"
   ]
  },
  {
   "cell_type": "code",
   "execution_count": 72,
   "id": "f90575da-cc24-4ad5-bd9c-38c4b9386dbd",
   "metadata": {},
   "outputs": [
    {
     "name": "stdout",
     "output_type": "stream",
     "text": [
      "Epoch 1/30\n",
      "17/22 [======================>.......] - ETA: 0s - loss: 144613.8281 - root_mean_squared_error: 380.2812 INFO:tensorflow:Assets written to: model5\\assets\n"
     ]
    },
    {
     "name": "stderr",
     "output_type": "stream",
     "text": [
      "INFO:tensorflow:Assets written to: model5\\assets\n"
     ]
    },
    {
     "name": "stdout",
     "output_type": "stream",
     "text": [
      "22/22 [==============================] - 3s 74ms/step - loss: 143205.7500 - root_mean_squared_error: 378.4254 - val_loss: 317085.2812 - val_root_mean_squared_error: 563.1033\n",
      "Epoch 2/30\n",
      "12/22 [===============>..............] - ETA: 0s - loss: 128416.6953 - root_mean_squared_error: 358.3528INFO:tensorflow:Assets written to: model5\\assets\n"
     ]
    },
    {
     "name": "stderr",
     "output_type": "stream",
     "text": [
      "INFO:tensorflow:Assets written to: model5\\assets\n"
     ]
    },
    {
     "name": "stdout",
     "output_type": "stream",
     "text": [
      "22/22 [==============================] - 2s 74ms/step - loss: 123679.4766 - root_mean_squared_error: 351.6809 - val_loss: 274462.3125 - val_root_mean_squared_error: 523.8915\n",
      "Epoch 3/30\n",
      "16/22 [====================>.........] - ETA: 0s - loss: 100114.7266 - root_mean_squared_error: 316.4091INFO:tensorflow:Assets written to: model5\\assets\n"
     ]
    },
    {
     "name": "stderr",
     "output_type": "stream",
     "text": [
      "INFO:tensorflow:Assets written to: model5\\assets\n"
     ]
    },
    {
     "name": "stdout",
     "output_type": "stream",
     "text": [
      "22/22 [==============================] - 1s 67ms/step - loss: 93656.9688 - root_mean_squared_error: 306.0343 - val_loss: 213638.7344 - val_root_mean_squared_error: 462.2107\n",
      "Epoch 4/30\n",
      "15/22 [===================>..........] - ETA: 0s - loss: 64075.3281 - root_mean_squared_error: 253.1310INFO:tensorflow:Assets written to: model5\\assets\n"
     ]
    },
    {
     "name": "stderr",
     "output_type": "stream",
     "text": [
      "INFO:tensorflow:Assets written to: model5\\assets\n"
     ]
    },
    {
     "name": "stdout",
     "output_type": "stream",
     "text": [
      "22/22 [==============================] - 1s 66ms/step - loss: 59472.7812 - root_mean_squared_error: 243.8704 - val_loss: 147971.3125 - val_root_mean_squared_error: 384.6704\n",
      "Epoch 5/30\n",
      "16/22 [====================>.........] - ETA: 0s - loss: 35319.3984 - root_mean_squared_error: 187.9346INFO:tensorflow:Assets written to: model5\\assets\n"
     ]
    },
    {
     "name": "stderr",
     "output_type": "stream",
     "text": [
      "INFO:tensorflow:Assets written to: model5\\assets\n"
     ]
    },
    {
     "name": "stdout",
     "output_type": "stream",
     "text": [
      "22/22 [==============================] - 1s 65ms/step - loss: 32415.0762 - root_mean_squared_error: 180.0419 - val_loss: 93453.9609 - val_root_mean_squared_error: 305.7024\n",
      "Epoch 6/30\n",
      "16/22 [====================>.........] - ETA: 0s - loss: 19957.1660 - root_mean_squared_error: 141.2698INFO:tensorflow:Assets written to: model5\\assets\n"
     ]
    },
    {
     "name": "stderr",
     "output_type": "stream",
     "text": [
      "INFO:tensorflow:Assets written to: model5\\assets\n"
     ]
    },
    {
     "name": "stdout",
     "output_type": "stream",
     "text": [
      "22/22 [==============================] - 2s 80ms/step - loss: 19058.8594 - root_mean_squared_error: 138.0538 - val_loss: 61387.6445 - val_root_mean_squared_error: 247.7653\n",
      "Epoch 7/30\n",
      "16/22 [====================>.........] - ETA: 0s - loss: 15882.9316 - root_mean_squared_error: 126.0275INFO:tensorflow:Assets written to: model5\\assets\n"
     ]
    },
    {
     "name": "stderr",
     "output_type": "stream",
     "text": [
      "INFO:tensorflow:Assets written to: model5\\assets\n"
     ]
    },
    {
     "name": "stdout",
     "output_type": "stream",
     "text": [
      "22/22 [==============================] - 2s 72ms/step - loss: 15619.0010 - root_mean_squared_error: 124.9760 - val_loss: 49474.2617 - val_root_mean_squared_error: 222.4281\n",
      "Epoch 8/30\n",
      "15/22 [===================>..........] - ETA: 0s - loss: 15815.5332 - root_mean_squared_error: 125.7598INFO:tensorflow:Assets written to: model5\\assets\n"
     ]
    },
    {
     "name": "stderr",
     "output_type": "stream",
     "text": [
      "INFO:tensorflow:Assets written to: model5\\assets\n"
     ]
    },
    {
     "name": "stdout",
     "output_type": "stream",
     "text": [
      "22/22 [==============================] - 1s 60ms/step - loss: 15370.1641 - root_mean_squared_error: 123.9765 - val_loss: 46725.4961 - val_root_mean_squared_error: 216.1608\n",
      "Epoch 9/30\n",
      "22/22 [==============================] - 0s 5ms/step - loss: 15359.2832 - root_mean_squared_error: 123.9326 - val_loss: 47868.1562 - val_root_mean_squared_error: 218.7879\n",
      "Epoch 10/30\n",
      "17/22 [======================>.......] - ETA: 0s - loss: 14119.9941 - root_mean_squared_error: 118.8276INFO:tensorflow:Assets written to: model5\\assets\n"
     ]
    },
    {
     "name": "stderr",
     "output_type": "stream",
     "text": [
      "INFO:tensorflow:Assets written to: model5\\assets\n"
     ]
    },
    {
     "name": "stdout",
     "output_type": "stream",
     "text": [
      "22/22 [==============================] - 1s 57ms/step - loss: 13583.2158 - root_mean_squared_error: 116.5471 - val_loss: 45531.0352 - val_root_mean_squared_error: 213.3800\n",
      "Epoch 11/30\n",
      "17/22 [======================>.......] - ETA: 0s - loss: 6523.7700 - root_mean_squared_error: 80.7699  INFO:tensorflow:Assets written to: model5\\assets\n"
     ]
    },
    {
     "name": "stderr",
     "output_type": "stream",
     "text": [
      "INFO:tensorflow:Assets written to: model5\\assets\n"
     ]
    },
    {
     "name": "stdout",
     "output_type": "stream",
     "text": [
      "22/22 [==============================] - 1s 66ms/step - loss: 5995.9062 - root_mean_squared_error: 77.4332 - val_loss: 30716.6445 - val_root_mean_squared_error: 175.2616\n",
      "Epoch 12/30\n",
      "19/22 [========================>.....] - ETA: 0s - loss: 2121.8264 - root_mean_squared_error: 46.0633INFO:tensorflow:Assets written to: model5\\assets\n"
     ]
    },
    {
     "name": "stderr",
     "output_type": "stream",
     "text": [
      "INFO:tensorflow:Assets written to: model5\\assets\n"
     ]
    },
    {
     "name": "stdout",
     "output_type": "stream",
     "text": [
      "22/22 [==============================] - 1s 69ms/step - loss: 2029.5748 - root_mean_squared_error: 45.0508 - val_loss: 18148.4980 - val_root_mean_squared_error: 134.7164\n",
      "Epoch 13/30\n",
      "18/22 [=======================>......] - ETA: 0s - loss: 1010.2086 - root_mean_squared_error: 31.7838INFO:tensorflow:Assets written to: model5\\assets\n"
     ]
    },
    {
     "name": "stderr",
     "output_type": "stream",
     "text": [
      "INFO:tensorflow:Assets written to: model5\\assets\n"
     ]
    },
    {
     "name": "stdout",
     "output_type": "stream",
     "text": [
      "22/22 [==============================] - 1s 66ms/step - loss: 945.6271 - root_mean_squared_error: 30.7511 - val_loss: 12793.1797 - val_root_mean_squared_error: 113.1069\n",
      "Epoch 14/30\n",
      "14/22 [==================>...........] - ETA: 0s - loss: 631.3078 - root_mean_squared_error: 25.1258INFO:tensorflow:Assets written to: model5\\assets\n"
     ]
    },
    {
     "name": "stderr",
     "output_type": "stream",
     "text": [
      "INFO:tensorflow:Assets written to: model5\\assets\n"
     ]
    },
    {
     "name": "stdout",
     "output_type": "stream",
     "text": [
      "22/22 [==============================] - 1s 62ms/step - loss: 520.2031 - root_mean_squared_error: 22.8080 - val_loss: 9866.0039 - val_root_mean_squared_error: 99.3278\n",
      "Epoch 15/30\n",
      "13/22 [================>.............] - ETA: 0s - loss: 322.3644 - root_mean_squared_error: 17.9545INFO:tensorflow:Assets written to: model5\\assets\n"
     ]
    },
    {
     "name": "stderr",
     "output_type": "stream",
     "text": [
      "INFO:tensorflow:Assets written to: model5\\assets\n"
     ]
    },
    {
     "name": "stdout",
     "output_type": "stream",
     "text": [
      "22/22 [==============================] - 1s 65ms/step - loss: 328.0224 - root_mean_squared_error: 18.1114 - val_loss: 8226.3994 - val_root_mean_squared_error: 90.6995\n",
      "Epoch 16/30\n",
      "15/22 [===================>..........] - ETA: 0s - loss: 281.0868 - root_mean_squared_error: 16.7656INFO:tensorflow:Assets written to: model5\\assets\n"
     ]
    },
    {
     "name": "stderr",
     "output_type": "stream",
     "text": [
      "INFO:tensorflow:Assets written to: model5\\assets\n"
     ]
    },
    {
     "name": "stdout",
     "output_type": "stream",
     "text": [
      "22/22 [==============================] - 1s 66ms/step - loss: 281.6973 - root_mean_squared_error: 16.7838 - val_loss: 7073.7285 - val_root_mean_squared_error: 84.1055\n",
      "Epoch 17/30\n",
      "13/22 [================>.............] - ETA: 0s - loss: 252.7093 - root_mean_squared_error: 15.8968INFO:tensorflow:Assets written to: model5\\assets\n"
     ]
    },
    {
     "name": "stderr",
     "output_type": "stream",
     "text": [
      "INFO:tensorflow:Assets written to: model5\\assets\n"
     ]
    },
    {
     "name": "stdout",
     "output_type": "stream",
     "text": [
      "22/22 [==============================] - 2s 76ms/step - loss: 249.5706 - root_mean_squared_error: 15.7978 - val_loss: 6376.6270 - val_root_mean_squared_error: 79.8538\n",
      "Epoch 18/30\n",
      "14/22 [==================>...........] - ETA: 0s - loss: 236.1042 - root_mean_squared_error: 15.3657INFO:tensorflow:Assets written to: model5\\assets\n"
     ]
    },
    {
     "name": "stderr",
     "output_type": "stream",
     "text": [
      "INFO:tensorflow:Assets written to: model5\\assets\n"
     ]
    },
    {
     "name": "stdout",
     "output_type": "stream",
     "text": [
      "22/22 [==============================] - 2s 93ms/step - loss: 210.8288 - root_mean_squared_error: 14.5199 - val_loss: 5722.2246 - val_root_mean_squared_error: 75.6454\n",
      "Epoch 19/30\n",
      "20/22 [==========================>...] - ETA: 0s - loss: 202.6832 - root_mean_squared_error: 14.2367INFO:tensorflow:Assets written to: model5\\assets\n"
     ]
    },
    {
     "name": "stderr",
     "output_type": "stream",
     "text": [
      "INFO:tensorflow:Assets written to: model5\\assets\n"
     ]
    },
    {
     "name": "stdout",
     "output_type": "stream",
     "text": [
      "22/22 [==============================] - 2s 72ms/step - loss: 206.7843 - root_mean_squared_error: 14.3800 - val_loss: 5317.1816 - val_root_mean_squared_error: 72.9190\n",
      "Epoch 20/30\n",
      "18/22 [=======================>......] - ETA: 0s - loss: 168.0038 - root_mean_squared_error: 12.9616INFO:tensorflow:Assets written to: model5\\assets\n"
     ]
    },
    {
     "name": "stderr",
     "output_type": "stream",
     "text": [
      "INFO:tensorflow:Assets written to: model5\\assets\n"
     ]
    },
    {
     "name": "stdout",
     "output_type": "stream",
     "text": [
      "22/22 [==============================] - 1s 63ms/step - loss: 163.1743 - root_mean_squared_error: 12.7740 - val_loss: 4908.5786 - val_root_mean_squared_error: 70.0612\n",
      "Epoch 21/30\n",
      "17/22 [======================>.......] - ETA: 0s - loss: 134.8630 - root_mean_squared_error: 11.6131INFO:tensorflow:Assets written to: model5\\assets\n"
     ]
    },
    {
     "name": "stderr",
     "output_type": "stream",
     "text": [
      "INFO:tensorflow:Assets written to: model5\\assets\n"
     ]
    },
    {
     "name": "stdout",
     "output_type": "stream",
     "text": [
      "22/22 [==============================] - 1s 67ms/step - loss: 138.7021 - root_mean_squared_error: 11.7772 - val_loss: 4580.3423 - val_root_mean_squared_error: 67.6782\n",
      "Epoch 22/30\n",
      "19/22 [========================>.....] - ETA: 0s - loss: 132.2774 - root_mean_squared_error: 11.5012INFO:tensorflow:Assets written to: model5\\assets\n"
     ]
    },
    {
     "name": "stderr",
     "output_type": "stream",
     "text": [
      "INFO:tensorflow:Assets written to: model5\\assets\n"
     ]
    },
    {
     "name": "stdout",
     "output_type": "stream",
     "text": [
      "22/22 [==============================] - 1s 61ms/step - loss: 130.8639 - root_mean_squared_error: 11.4396 - val_loss: 4263.7720 - val_root_mean_squared_error: 65.2976\n",
      "Epoch 23/30\n",
      "18/22 [=======================>......] - ETA: 0s - loss: 116.9534 - root_mean_squared_error: 10.8145INFO:tensorflow:Assets written to: model5\\assets\n"
     ]
    },
    {
     "name": "stderr",
     "output_type": "stream",
     "text": [
      "INFO:tensorflow:Assets written to: model5\\assets\n"
     ]
    },
    {
     "name": "stdout",
     "output_type": "stream",
     "text": [
      "22/22 [==============================] - 1s 63ms/step - loss: 116.8295 - root_mean_squared_error: 10.8088 - val_loss: 3996.6370 - val_root_mean_squared_error: 63.2190\n",
      "Epoch 24/30\n",
      "15/22 [===================>..........] - ETA: 0s - loss: 111.4827 - root_mean_squared_error: 10.5585INFO:tensorflow:Assets written to: model5\\assets\n"
     ]
    },
    {
     "name": "stderr",
     "output_type": "stream",
     "text": [
      "INFO:tensorflow:Assets written to: model5\\assets\n"
     ]
    },
    {
     "name": "stdout",
     "output_type": "stream",
     "text": [
      "22/22 [==============================] - 1s 70ms/step - loss: 110.8483 - root_mean_squared_error: 10.5285 - val_loss: 3782.9421 - val_root_mean_squared_error: 61.5056\n",
      "Epoch 25/30\n",
      "14/22 [==================>...........] - ETA: 0s - loss: 119.1548 - root_mean_squared_error: 10.9158INFO:tensorflow:Assets written to: model5\\assets\n"
     ]
    },
    {
     "name": "stderr",
     "output_type": "stream",
     "text": [
      "INFO:tensorflow:Assets written to: model5\\assets\n"
     ]
    },
    {
     "name": "stdout",
     "output_type": "stream",
     "text": [
      "22/22 [==============================] - 1s 63ms/step - loss: 116.8806 - root_mean_squared_error: 10.8111 - val_loss: 3605.0684 - val_root_mean_squared_error: 60.0422\n",
      "Epoch 26/30\n",
      "18/22 [=======================>......] - ETA: 0s - loss: 105.7741 - root_mean_squared_error: 10.2847INFO:tensorflow:Assets written to: model5\\assets\n"
     ]
    },
    {
     "name": "stderr",
     "output_type": "stream",
     "text": [
      "INFO:tensorflow:Assets written to: model5\\assets\n"
     ]
    },
    {
     "name": "stdout",
     "output_type": "stream",
     "text": [
      "22/22 [==============================] - 1s 69ms/step - loss: 106.2658 - root_mean_squared_error: 10.3085 - val_loss: 3488.1414 - val_root_mean_squared_error: 59.0605\n",
      "Epoch 27/30\n",
      "19/22 [========================>.....] - ETA: 0s - loss: 106.1686 - root_mean_squared_error: 10.3038INFO:tensorflow:Assets written to: model5\\assets\n"
     ]
    },
    {
     "name": "stderr",
     "output_type": "stream",
     "text": [
      "INFO:tensorflow:Assets written to: model5\\assets\n"
     ]
    },
    {
     "name": "stdout",
     "output_type": "stream",
     "text": [
      "22/22 [==============================] - 1s 68ms/step - loss: 107.4900 - root_mean_squared_error: 10.3677 - val_loss: 3310.3799 - val_root_mean_squared_error: 57.5359\n",
      "Epoch 28/30\n",
      "19/22 [========================>.....] - ETA: 0s - loss: 118.6688 - root_mean_squared_error: 10.8935INFO:tensorflow:Assets written to: model5\\assets\n"
     ]
    },
    {
     "name": "stderr",
     "output_type": "stream",
     "text": [
      "INFO:tensorflow:Assets written to: model5\\assets\n"
     ]
    },
    {
     "name": "stdout",
     "output_type": "stream",
     "text": [
      "22/22 [==============================] - 1s 69ms/step - loss: 116.5116 - root_mean_squared_error: 10.7941 - val_loss: 3265.7471 - val_root_mean_squared_error: 57.1467\n",
      "Epoch 29/30\n",
      "20/22 [==========================>...] - ETA: 0s - loss: 106.4116 - root_mean_squared_error: 10.3156INFO:tensorflow:Assets written to: model5\\assets\n"
     ]
    },
    {
     "name": "stderr",
     "output_type": "stream",
     "text": [
      "INFO:tensorflow:Assets written to: model5\\assets\n"
     ]
    },
    {
     "name": "stdout",
     "output_type": "stream",
     "text": [
      "22/22 [==============================] - 2s 98ms/step - loss: 104.4654 - root_mean_squared_error: 10.2208 - val_loss: 3123.4695 - val_root_mean_squared_error: 55.8880\n",
      "Epoch 30/30\n",
      "15/22 [===================>..........] - ETA: 0s - loss: 105.0867 - root_mean_squared_error: 10.2512INFO:tensorflow:Assets written to: model5\\assets\n"
     ]
    },
    {
     "name": "stderr",
     "output_type": "stream",
     "text": [
      "INFO:tensorflow:Assets written to: model5\\assets\n"
     ]
    },
    {
     "name": "stdout",
     "output_type": "stream",
     "text": [
      "22/22 [==============================] - 2s 78ms/step - loss: 105.1857 - root_mean_squared_error: 10.2560 - val_loss: 3033.5718 - val_root_mean_squared_error: 55.0779\n"
     ]
    },
    {
     "data": {
      "text/plain": [
       "<keras.src.callbacks.History at 0x23032d5a310>"
      ]
     },
     "execution_count": 72,
     "metadata": {},
     "output_type": "execute_result"
    }
   ],
   "source": [
    "model5.fit(X2_train, y2_train, validation_data=(X2_val, y2_val), epochs=30, callbacks=[cp6])"
   ]
  },
  {
   "cell_type": "code",
   "execution_count": 73,
   "id": "09ca0410-f6fb-4d44-b941-9618d8e103f2",
   "metadata": {},
   "outputs": [
    {
     "name": "stdout",
     "output_type": "stream",
     "text": [
      "9/9 [==============================] - 0s 2ms/step\n"
     ]
    },
    {
     "data": {
      "text/plain": [
       "(     Predictions  Actuals\n",
       " 0     528.312988   547.10\n",
       " 1     529.305359   549.75\n",
       " 2     529.985779   550.80\n",
       " 3     530.336304   553.05\n",
       " 4     530.737427   537.50\n",
       " ..           ...      ...\n",
       " 255   536.258301   699.55\n",
       " 256   536.356384   725.25\n",
       " 257   536.412476   707.90\n",
       " 258   536.379639   713.45\n",
       " 259   536.391663   743.40\n",
       " \n",
       " [260 rows x 2 columns],\n",
       " 3807.6581595848584)"
      ]
     },
     "execution_count": 73,
     "metadata": {},
     "output_type": "execute_result"
    },
    {
     "data": {
      "image/png": "[encoded data removed]",
      "text/plain": [
       "<Figure size 640x480 with 1 Axes>"
      ]
     },
     "metadata": {},
     "output_type": "display_data"
    }
   ],
   "source": [
    "plot_predictions1(model5, X2_test, y2_test)"
   ]
  },
  {
   "cell_type": "code",
   "execution_count": null,
   "id": "969fb5ca-6322-4d77-a7a7-bbea49880609",
   "metadata": {},
   "outputs": [],
   "source": []
  },
  {
   "cell_type": "code",
   "execution_count": null,
   "id": "1579ba60-3034-4f3e-b1b5-5c1fe34b0e47",
   "metadata": {},
   "outputs": [],
   "source": []
  }
 ],
 "metadata": {
  "kernelspec": {
   "display_name": "Python 3 (ipykernel)",
   "language": "python",
   "name": "python3"
  },
  "language_info": {
   "codemirror_mode": {
    "name": "ipython",
    "version": 3
   },
   "file_extension": ".py",
   "mimetype": "text/x-python",
   "name": "python",
   "nbconvert_exporter": "python",
   "pygments_lexer": "ipython3",
   "version": "3.11.8"
  }
 },
 "nbformat": 4,
 "nbformat_minor": 5
}
